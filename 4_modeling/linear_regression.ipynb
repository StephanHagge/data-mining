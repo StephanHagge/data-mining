{
 "cells": [
  {
   "cell_type": "code",
   "execution_count": 5,
   "metadata": {
    "pycharm": {
     "name": "#%%\n"
    }
   },
   "outputs": [],
   "source": [
    "from datetime import datetime\n",
    "\n",
    "import matplotlib.pyplot as plt\n",
    "import numpy as np\n",
    "import pandas as pd\n",
    "from sklearn import preprocessing\n",
    "from sklearn.linear_model import LinearRegression\n",
    "from sklearn.model_selection import train_test_split"
   ]
  },
  {
   "cell_type": "markdown",
   "metadata": {
    "collapsed": true,
    "pycharm": {
     "name": "#%% md\n"
    }
   },
   "source": [
    "# Linear Regression to predict days until trending"
   ]
  },
  {
   "cell_type": "code",
   "execution_count": 6,
   "metadata": {
    "pycharm": {
     "name": "#%%\n"
    }
   },
   "outputs": [],
   "source": [
    "df = pd.read_csv('../0_data/DEvideos.csv')"
   ]
  },
  {
   "cell_type": "code",
   "execution_count": 7,
   "metadata": {
    "pycharm": {
     "name": "#%%\n"
    }
   },
   "outputs": [
    {
     "data": {
      "text/plain": "      video_id trending_date  \\\n0  LgVi6y5QIjM    2017-11-14   \n1  Bayt7uQith4    2017-11-14   \n2  1ZAPwfrtAFY    2017-11-14   \n3  AHtypnRk7JE    2017-11-14   \n4  ZJ9We4bjcg0    2017-11-14   \n\n                                               title            channel_title  \\\n0  Sing zu Ende! | Gesangseinlagen vom Feinsten |...                inscope21   \n1  Kinder ferngesteuert im Kiosk! Erwachsene abzo...  LUKE! Die Woche und ich   \n2  The Trump Presidency: Last Week Tonight with J...          LastWeekTonight   \n3                                Das Fermi-Paradoxon        100SekundenPhysik   \n4           18 SONGS mit Kelly MissesVlog (Sing-off)                     rezo   \n\n   category_id        publish_time  \\\n0           24 2017-11-13 17:08:49   \n1           23 2017-11-12 22:30:01   \n2           24 2017-11-13 07:30:00   \n3           27 2017-11-12 15:00:01   \n4           24 2017-11-12 13:10:36   \n\n                                                tags    views   likes  \\\n0  inscope21|\"sing zu ende\"|\"gesangseinlagen\"|\"ge...   252786   35885   \n1  Kinder|\"ferngesteuert\"|\"Kinder ferngesteuert\"|...   797196   53576   \n2  last week tonight trump presidency|\"last week ...  2418783   97190   \n3  Physik|\"Wissenschaft\"|\"Technik\"|\"Science-Ficti...   380247   31821   \n4  kelly|\"missesvlog\"|\"kelly song\"|\"bausa\"|\"bausa...   822213  100684   \n\n   dislikes  ...                                  thumbnail_link  \\\n0       230  ...  https://i.ytimg.com/vi/LgVi6y5QIjM/default.jpg   \n1       302  ...  https://i.ytimg.com/vi/Bayt7uQith4/default.jpg   \n2      6146  ...  https://i.ytimg.com/vi/1ZAPwfrtAFY/default.jpg   \n3       458  ...  https://i.ytimg.com/vi/AHtypnRk7JE/default.jpg   \n4      2467  ...  https://i.ytimg.com/vi/ZJ9We4bjcg0/default.jpg   \n\n  comments_disabled  ratings_disabled  video_error_or_removed  \\\n0             False             False                   False   \n1             False             False                   False   \n2             False             False                   False   \n3             False             False                   False   \n4             False             False                   False   \n\n                                         description days_until_trending  \\\n0  Heute gibt es mal wieder ein neues Format... w...                   1   \n1  Kinder ferngesteuert! Kinder lassen sich sooo ...                   2   \n2  One year after the presidential election, John...                   1   \n3  ►Alle Videos: http://bit.ly/1fa7Tw3\\n\\n\\n✚Snap...                   2   \n4  18 Song Mashup über den (veränderten) Beat von...                   2   \n\n   ratings  likes_per_rating  ratings_per_view  comments_per_view  \n0    36115          0.993631          0.142868           0.006088  \n1    53878          0.994395          0.067584           0.001603  \n2   103336          0.940524          0.042722           0.005252  \n3    32279          0.985811          0.084890           0.005141  \n4   103151          0.976084          0.125455           0.012459  \n\n[5 rows x 21 columns]",
      "text/html": "<div>\n<style scoped>\n    .dataframe tbody tr th:only-of-type {\n        vertical-align: middle;\n    }\n\n    .dataframe tbody tr th {\n        vertical-align: top;\n    }\n\n    .dataframe thead th {\n        text-align: right;\n    }\n</style>\n<table border=\"1\" class=\"dataframe\">\n  <thead>\n    <tr style=\"text-align: right;\">\n      <th></th>\n      <th>video_id</th>\n      <th>trending_date</th>\n      <th>title</th>\n      <th>channel_title</th>\n      <th>category_id</th>\n      <th>publish_time</th>\n      <th>tags</th>\n      <th>views</th>\n      <th>likes</th>\n      <th>dislikes</th>\n      <th>...</th>\n      <th>thumbnail_link</th>\n      <th>comments_disabled</th>\n      <th>ratings_disabled</th>\n      <th>video_error_or_removed</th>\n      <th>description</th>\n      <th>days_until_trending</th>\n      <th>ratings</th>\n      <th>likes_per_rating</th>\n      <th>ratings_per_view</th>\n      <th>comments_per_view</th>\n    </tr>\n  </thead>\n  <tbody>\n    <tr>\n      <th>0</th>\n      <td>LgVi6y5QIjM</td>\n      <td>2017-11-14</td>\n      <td>Sing zu Ende! | Gesangseinlagen vom Feinsten |...</td>\n      <td>inscope21</td>\n      <td>24</td>\n      <td>2017-11-13 17:08:49</td>\n      <td>inscope21|\"sing zu ende\"|\"gesangseinlagen\"|\"ge...</td>\n      <td>252786</td>\n      <td>35885</td>\n      <td>230</td>\n      <td>...</td>\n      <td>https://i.ytimg.com/vi/LgVi6y5QIjM/default.jpg</td>\n      <td>False</td>\n      <td>False</td>\n      <td>False</td>\n      <td>Heute gibt es mal wieder ein neues Format... w...</td>\n      <td>1</td>\n      <td>36115</td>\n      <td>0.993631</td>\n      <td>0.142868</td>\n      <td>0.006088</td>\n    </tr>\n    <tr>\n      <th>1</th>\n      <td>Bayt7uQith4</td>\n      <td>2017-11-14</td>\n      <td>Kinder ferngesteuert im Kiosk! Erwachsene abzo...</td>\n      <td>LUKE! Die Woche und ich</td>\n      <td>23</td>\n      <td>2017-11-12 22:30:01</td>\n      <td>Kinder|\"ferngesteuert\"|\"Kinder ferngesteuert\"|...</td>\n      <td>797196</td>\n      <td>53576</td>\n      <td>302</td>\n      <td>...</td>\n      <td>https://i.ytimg.com/vi/Bayt7uQith4/default.jpg</td>\n      <td>False</td>\n      <td>False</td>\n      <td>False</td>\n      <td>Kinder ferngesteuert! Kinder lassen sich sooo ...</td>\n      <td>2</td>\n      <td>53878</td>\n      <td>0.994395</td>\n      <td>0.067584</td>\n      <td>0.001603</td>\n    </tr>\n    <tr>\n      <th>2</th>\n      <td>1ZAPwfrtAFY</td>\n      <td>2017-11-14</td>\n      <td>The Trump Presidency: Last Week Tonight with J...</td>\n      <td>LastWeekTonight</td>\n      <td>24</td>\n      <td>2017-11-13 07:30:00</td>\n      <td>last week tonight trump presidency|\"last week ...</td>\n      <td>2418783</td>\n      <td>97190</td>\n      <td>6146</td>\n      <td>...</td>\n      <td>https://i.ytimg.com/vi/1ZAPwfrtAFY/default.jpg</td>\n      <td>False</td>\n      <td>False</td>\n      <td>False</td>\n      <td>One year after the presidential election, John...</td>\n      <td>1</td>\n      <td>103336</td>\n      <td>0.940524</td>\n      <td>0.042722</td>\n      <td>0.005252</td>\n    </tr>\n    <tr>\n      <th>3</th>\n      <td>AHtypnRk7JE</td>\n      <td>2017-11-14</td>\n      <td>Das Fermi-Paradoxon</td>\n      <td>100SekundenPhysik</td>\n      <td>27</td>\n      <td>2017-11-12 15:00:01</td>\n      <td>Physik|\"Wissenschaft\"|\"Technik\"|\"Science-Ficti...</td>\n      <td>380247</td>\n      <td>31821</td>\n      <td>458</td>\n      <td>...</td>\n      <td>https://i.ytimg.com/vi/AHtypnRk7JE/default.jpg</td>\n      <td>False</td>\n      <td>False</td>\n      <td>False</td>\n      <td>►Alle Videos: http://bit.ly/1fa7Tw3\\n\\n\\n✚Snap...</td>\n      <td>2</td>\n      <td>32279</td>\n      <td>0.985811</td>\n      <td>0.084890</td>\n      <td>0.005141</td>\n    </tr>\n    <tr>\n      <th>4</th>\n      <td>ZJ9We4bjcg0</td>\n      <td>2017-11-14</td>\n      <td>18 SONGS mit Kelly MissesVlog (Sing-off)</td>\n      <td>rezo</td>\n      <td>24</td>\n      <td>2017-11-12 13:10:36</td>\n      <td>kelly|\"missesvlog\"|\"kelly song\"|\"bausa\"|\"bausa...</td>\n      <td>822213</td>\n      <td>100684</td>\n      <td>2467</td>\n      <td>...</td>\n      <td>https://i.ytimg.com/vi/ZJ9We4bjcg0/default.jpg</td>\n      <td>False</td>\n      <td>False</td>\n      <td>False</td>\n      <td>18 Song Mashup über den (veränderten) Beat von...</td>\n      <td>2</td>\n      <td>103151</td>\n      <td>0.976084</td>\n      <td>0.125455</td>\n      <td>0.012459</td>\n    </tr>\n  </tbody>\n</table>\n<p>5 rows × 21 columns</p>\n</div>"
     },
     "execution_count": 7,
     "metadata": {},
     "output_type": "execute_result"
    }
   ],
   "source": [
    "df['trending_date'] = df.apply(lambda row: datetime.strptime(row['trending_date'], '%y.%d.%m'), axis=1)\n",
    "df['publish_time'] = df.apply(lambda row: datetime.strptime(row['publish_time'], '%Y-%m-%dT%H:%M:%S.000Z'), axis=1)\n",
    "df['days_until_trending'] = df.apply(lambda row: ((row['trending_date'] - row['publish_time']).days + 1), axis=1)\n",
    "\n",
    "# Add additional Data\n",
    "df['ratings'] = df['likes'] + df['dislikes']\n",
    "df['likes_per_rating'] = df.apply(lambda row: 0 if row['ratings'] == 0 else row['likes'] / row['ratings'], axis=1)\n",
    "df['ratings_per_view'] = df['ratings'] / df['views']\n",
    "df['comments_per_view'] = df['comment_count'] / df['views']\n",
    "\n",
    "dropColumns = ['video_id', 'title', 'tags', 'thumbnail_link', 'description']\n",
    "\n",
    "df.head()"
   ]
  },
  {
   "cell_type": "markdown",
   "source": [
    "# Input of tag factor"
   ],
   "metadata": {
    "collapsed": false
   }
  },
  {
   "cell_type": "code",
   "execution_count": 8,
   "outputs": [
    {
     "data": {
      "text/plain": "               factor  count\ntag                         \nfull game    0.880435     23\nsplit        0.862500     20\nwellness     0.852273     22\nneuer modus  0.843750     24\nlcs          0.840909     22",
      "text/html": "<div>\n<style scoped>\n    .dataframe tbody tr th:only-of-type {\n        vertical-align: middle;\n    }\n\n    .dataframe tbody tr th {\n        vertical-align: top;\n    }\n\n    .dataframe thead th {\n        text-align: right;\n    }\n</style>\n<table border=\"1\" class=\"dataframe\">\n  <thead>\n    <tr style=\"text-align: right;\">\n      <th></th>\n      <th>factor</th>\n      <th>count</th>\n    </tr>\n    <tr>\n      <th>tag</th>\n      <th></th>\n      <th></th>\n    </tr>\n  </thead>\n  <tbody>\n    <tr>\n      <th>full game</th>\n      <td>0.880435</td>\n      <td>23</td>\n    </tr>\n    <tr>\n      <th>split</th>\n      <td>0.862500</td>\n      <td>20</td>\n    </tr>\n    <tr>\n      <th>wellness</th>\n      <td>0.852273</td>\n      <td>22</td>\n    </tr>\n    <tr>\n      <th>neuer modus</th>\n      <td>0.843750</td>\n      <td>24</td>\n    </tr>\n    <tr>\n      <th>lcs</th>\n      <td>0.840909</td>\n      <td>22</td>\n    </tr>\n  </tbody>\n</table>\n</div>"
     },
     "execution_count": 8,
     "metadata": {},
     "output_type": "execute_result"
    }
   ],
   "source": [
    "tag_df = pd.read_csv('../0_data/DEtags.csv')\n",
    "tag_df = tag_df.set_index('tag')\n",
    "tag_df.head()"
   ],
   "metadata": {
    "collapsed": false,
    "pycharm": {
     "name": "#%%\n"
    }
   }
  },
  {
   "cell_type": "markdown",
   "source": [
    "## Converter function"
   ],
   "metadata": {
    "collapsed": false
   }
  },
  {
   "cell_type": "code",
   "execution_count": 9,
   "outputs": [],
   "source": [
    "def calculate_tag_factor(tag_string, tag_data):\n",
    "    tag_list = pd.Series(list(set(map(lambda x: x.strip('\\\"').lower(), tag_string.split('|')))))\n",
    "    return tag_list.apply(lambda tag: tag_data['factor'].get(tag, np.nan)).mean(skipna=True)"
   ],
   "metadata": {
    "collapsed": false,
    "pycharm": {
     "name": "#%%\n"
    }
   }
  },
  {
   "cell_type": "markdown",
   "source": [
    "## Test function"
   ],
   "metadata": {
    "collapsed": false
   }
  },
  {
   "cell_type": "code",
   "execution_count": 10,
   "outputs": [
    {
     "data": {
      "text/plain": "                 channel_title  \\\n0                    inscope21   \n1      LUKE! Die Woche und ich   \n2              LastWeekTonight   \n3            100SekundenPhysik   \n4                         rezo   \n...                        ...   \n40835           Kingdom Hearts   \n40836     YourMovieSucksDOTorg   \n40837  Grünwald Freitagscomedy   \n40838      Assassin's Creed DE   \n40839       Уральские Пельмени   \n\n                                                    tags  tag_factors  \n0      inscope21|\"sing zu ende\"|\"gesangseinlagen\"|\"ge...     0.512928  \n1      Kinder|\"ferngesteuert\"|\"Kinder ferngesteuert\"|...     0.612439  \n2      last week tonight trump presidency|\"last week ...     0.686567  \n3      Physik|\"Wissenschaft\"|\"Technik\"|\"Science-Ficti...     0.633594  \n4      kelly|\"missesvlog\"|\"kelly song\"|\"bausa\"|\"bausa...     0.541702  \n...                                                  ...          ...  \n40835  Kingdom Hearts|\"KH3\"|\"Kingdom Hearts 3\"|\"Pirat...     0.725610  \n40836                                             [none]     0.000000  \n40837  Günter Grünwald|\"Grünwald Freitagscomedy\"|\"Gün...     0.661601  \n40838  Assassin's Creed|\"Assassins Creed\"|\"Assassin's...     0.654359  \n40839  Гироскутер|\"уральские пельмени гироскутер\"|\"мя...     0.000000  \n\n[40840 rows x 3 columns]",
      "text/html": "<div>\n<style scoped>\n    .dataframe tbody tr th:only-of-type {\n        vertical-align: middle;\n    }\n\n    .dataframe tbody tr th {\n        vertical-align: top;\n    }\n\n    .dataframe thead th {\n        text-align: right;\n    }\n</style>\n<table border=\"1\" class=\"dataframe\">\n  <thead>\n    <tr style=\"text-align: right;\">\n      <th></th>\n      <th>channel_title</th>\n      <th>tags</th>\n      <th>tag_factors</th>\n    </tr>\n  </thead>\n  <tbody>\n    <tr>\n      <th>0</th>\n      <td>inscope21</td>\n      <td>inscope21|\"sing zu ende\"|\"gesangseinlagen\"|\"ge...</td>\n      <td>0.512928</td>\n    </tr>\n    <tr>\n      <th>1</th>\n      <td>LUKE! Die Woche und ich</td>\n      <td>Kinder|\"ferngesteuert\"|\"Kinder ferngesteuert\"|...</td>\n      <td>0.612439</td>\n    </tr>\n    <tr>\n      <th>2</th>\n      <td>LastWeekTonight</td>\n      <td>last week tonight trump presidency|\"last week ...</td>\n      <td>0.686567</td>\n    </tr>\n    <tr>\n      <th>3</th>\n      <td>100SekundenPhysik</td>\n      <td>Physik|\"Wissenschaft\"|\"Technik\"|\"Science-Ficti...</td>\n      <td>0.633594</td>\n    </tr>\n    <tr>\n      <th>4</th>\n      <td>rezo</td>\n      <td>kelly|\"missesvlog\"|\"kelly song\"|\"bausa\"|\"bausa...</td>\n      <td>0.541702</td>\n    </tr>\n    <tr>\n      <th>...</th>\n      <td>...</td>\n      <td>...</td>\n      <td>...</td>\n    </tr>\n    <tr>\n      <th>40835</th>\n      <td>Kingdom Hearts</td>\n      <td>Kingdom Hearts|\"KH3\"|\"Kingdom Hearts 3\"|\"Pirat...</td>\n      <td>0.725610</td>\n    </tr>\n    <tr>\n      <th>40836</th>\n      <td>YourMovieSucksDOTorg</td>\n      <td>[none]</td>\n      <td>0.000000</td>\n    </tr>\n    <tr>\n      <th>40837</th>\n      <td>Grünwald Freitagscomedy</td>\n      <td>Günter Grünwald|\"Grünwald Freitagscomedy\"|\"Gün...</td>\n      <td>0.661601</td>\n    </tr>\n    <tr>\n      <th>40838</th>\n      <td>Assassin's Creed DE</td>\n      <td>Assassin's Creed|\"Assassins Creed\"|\"Assassin's...</td>\n      <td>0.654359</td>\n    </tr>\n    <tr>\n      <th>40839</th>\n      <td>Уральские Пельмени</td>\n      <td>Гироскутер|\"уральские пельмени гироскутер\"|\"мя...</td>\n      <td>0.000000</td>\n    </tr>\n  </tbody>\n</table>\n<p>40840 rows × 3 columns</p>\n</div>"
     },
     "execution_count": 10,
     "metadata": {},
     "output_type": "execute_result"
    }
   ],
   "source": [
    "df['tag_factors'] = df['tags'].apply(lambda x: calculate_tag_factor(x, tag_df))\n",
    "df['tag_factors'] = df.apply(lambda row: 0 if np.isnan(row['tag_factors']) else row['tag_factors'], axis=1)\n",
    "df[['channel_title','tags','tag_factors']]\n"
   ],
   "metadata": {
    "collapsed": false,
    "pycharm": {
     "name": "#%%\n"
    }
   }
  },
  {
   "cell_type": "markdown",
   "metadata": {
    "pycharm": {
     "name": "#%% md\n"
    }
   },
   "source": [
    "# days_until_trending could be analyzed with views, likes, dislikes and comment_count"
   ]
  },
  {
   "cell_type": "code",
   "execution_count": 11,
   "metadata": {
    "pycharm": {
     "name": "#%%\n"
    }
   },
   "outputs": [
    {
     "data": {
      "text/plain": "video_id                          object\ntrending_date             datetime64[ns]\ntitle                             object\nchannel_title                     object\ncategory_id                        int64\npublish_time              datetime64[ns]\ntags                              object\nviews                              int64\nlikes                              int64\ndislikes                           int64\ncomment_count                      int64\nthumbnail_link                    object\ncomments_disabled                   bool\nratings_disabled                    bool\nvideo_error_or_removed              bool\ndescription                       object\ndays_until_trending                int64\nratings                            int64\nlikes_per_rating                 float64\nratings_per_view                 float64\ncomments_per_view                float64\ntag_factors                      float64\ndtype: object"
     },
     "execution_count": 11,
     "metadata": {},
     "output_type": "execute_result"
    }
   ],
   "source": [
    "df.dtypes"
   ]
  },
  {
   "cell_type": "markdown",
   "metadata": {},
   "source": [
    "# Split in Test- and Training values"
   ]
  },
  {
   "cell_type": "code",
   "execution_count": 12,
   "metadata": {
    "pycharm": {
     "name": "#%%\n"
    }
   },
   "outputs": [],
   "source": [
    "x = pd.DataFrame(df['views'])\n",
    "y = pd.DataFrame(df['days_until_trending'])\n",
    "\n",
    "# x = preprocessing.scale(x)\n",
    "\n",
    "x_train, x_test, y_train, y_test = train_test_split(x, y, test_size=0.2)"
   ]
  },
  {
   "cell_type": "code",
   "execution_count": 13,
   "metadata": {
    "pycharm": {
     "name": "#%%\n"
    }
   },
   "outputs": [
    {
     "data": {
      "text/plain": "-0.0005700736368008386"
     },
     "execution_count": 13,
     "metadata": {},
     "output_type": "execute_result"
    }
   ],
   "source": [
    "# train the model using the training set and calculate a score\n",
    "model = LinearRegression()\n",
    "model.fit(x_train, y_train)\n",
    "model.score(x_test, y_test)"
   ]
  },
  {
   "cell_type": "code",
   "execution_count": 16,
   "metadata": {
    "pycharm": {
     "name": "#%%\n"
    }
   },
   "outputs": [
    {
     "name": "stdout",
     "output_type": "stream",
     "text": [
      "predicted response:\n",
      "[[1.88192764]\n",
      " [1.90923311]\n",
      " [1.99056555]\n",
      " ...\n",
      " [1.87055565]\n",
      " [1.92638659]\n",
      " [1.88511466]]\n",
      "intercept: 1.8692488844470858\n",
      "slope: 5.0156078482959473e-08\n",
      "coefficient of determination: 3.67639218979976e-05\n"
     ]
    },
    {
     "data": {
      "text/plain": "<Figure size 1440x720 with 1 Axes>",
      "image/png": "[encoded data removed]"
     },
     "metadata": {
      "needs_background": "light"
     },
     "output_type": "display_data"
    }
   ],
   "source": [
    "# Prediction of the values\n",
    "y_pred = model.predict(x)\n",
    "print('predicted response:', y_pred, sep='\\n')\n",
    "\n",
    "intercept = model.intercept_[0]\n",
    "slope = model.coef_[0, 0]\n",
    "r_sq = model.score(x, y)\n",
    "print('intercept:', intercept)\n",
    "print('slope:', slope)\n",
    "print('coefficient of determination:', r_sq)\n",
    "\n",
    "# plot\n",
    "plt.figure(figsize=(20, 10))\n",
    "plt.title(\"Regression\")\n",
    "plt.xlabel(\"views\")\n",
    "plt.ylabel(\"days until trending\")\n",
    "plt.scatter(df.views, df.days_until_trending)\n",
    "#plt.xlim(0, 900000)\n",
    "\n",
    "#Plot regression grade\n",
    "t = np.array([min(x.loc[:, \"views\"]), max(x.loc[:, \"views\"])])\n",
    "t = t.reshape(-1, 1)\n",
    "plt.plot(t, model.predict(t), \"-r\")\n",
    "\n",
    "plt.show()"
   ]
  },
  {
   "cell_type": "markdown",
   "source": [
    "# Filter out some Data for a better result"
   ],
   "metadata": {
    "collapsed": false
   }
  },
  {
   "cell_type": "code",
   "execution_count": null,
   "outputs": [],
   "source": [
    "filter = len(df[df['days_until_trending'] > 6])\n",
    "\n",
    "print(filter, \"rows will be dropped\")\n",
    "\n",
    "rows = len(df.index)\n",
    "\n",
    "print(\"That are\", 100/rows*filter, \"%\")\n",
    "\n",
    "# get names of indexes\n",
    "index_names = df[ df['days_until_trending'] >= 6 ].index\n",
    "\n",
    "# drop these row indexes from dataFrame\n",
    "df.drop(index_names, inplace = True)"
   ],
   "metadata": {
    "collapsed": false,
    "pycharm": {
     "name": "#%%\n"
    }
   }
  },
  {
   "cell_type": "markdown",
   "source": [
    "# Train and fit the model"
   ],
   "metadata": {
    "collapsed": false,
    "pycharm": {
     "name": "#%% md\n"
    }
   }
  },
  {
   "cell_type": "code",
   "execution_count": null,
   "outputs": [],
   "source": [
    "# use views, likes, dislikes and comment_count\n",
    "x = df.iloc[:,7:11]\n",
    "# only use views\n",
    "#x = pd.DataFrame(df['views'])\n",
    "y = pd.DataFrame(df['days_until_trending'])\n",
    "\n",
    "x = preprocessing.scale(x)\n",
    "\n",
    "# split again in training set and test set\n",
    "x_train, x_test, y_train, y_test = train_test_split(x, y, test_size=0.2)"
   ],
   "metadata": {
    "collapsed": false,
    "pycharm": {
     "name": "#%%\n"
    }
   }
  },
  {
   "cell_type": "code",
   "execution_count": null,
   "outputs": [],
   "source": [
    "# train the model using the training set and calculate a score\n",
    "model = LinearRegression()\n",
    "model.fit(x_train, y_train)\n",
    "model.score(x_test, y_test)"
   ],
   "metadata": {
    "collapsed": false,
    "pycharm": {
     "name": "#%%\n"
    }
   }
  },
  {
   "cell_type": "markdown",
   "source": [
    "## Data are not well spread\n",
    "## Method is not applicable this way (see the plot)"
   ],
   "metadata": {
    "collapsed": false
   }
  },
  {
   "cell_type": "code",
   "execution_count": null,
   "outputs": [],
   "source": [
    "# plot\n",
    "plt.figure(figsize=(20, 5))\n",
    "plt.title(\"Regression\")\n",
    "plt.xlabel(\"views\")\n",
    "plt.ylabel(\"days until trending\")\n",
    "plt.scatter(df.views, df.days_until_trending)\n"
   ],
   "metadata": {
    "collapsed": false,
    "pycharm": {
     "name": "#%%\n"
    }
   }
  }
 ],
 "metadata": {
  "kernelspec": {
   "display_name": "Python 3",
   "language": "python",
   "name": "python3"
  },
  "language_info": {
   "codemirror_mode": {
    "name": "ipython",
    "version": 3
   },
   "file_extension": ".py",
   "mimetype": "text/x-python",
   "name": "python",
   "nbconvert_exporter": "python",
   "pygments_lexer": "ipython3",
   "version": "3.8.6"
  }
 },
 "nbformat": 4,
 "nbformat_minor": 1
}