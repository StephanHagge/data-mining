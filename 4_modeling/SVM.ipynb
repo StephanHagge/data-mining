{
 "cells": [
  {
   "cell_type": "markdown",
   "metadata": {
    "collapsed": true,
    "pycharm": {
     "name": "#%% md\n"
    }
   },
   "source": [
    "# Imports"
   ]
  },
  {
   "cell_type": "code",
   "execution_count": 14,
   "outputs": [],
   "source": [
    "from datetime import datetime\n",
    "import pandas as pd\n",
    "import numpy as np\n",
    "import matplotlib.pyplot as plt\n",
    "from sklearn import svm, datasets\n",
    "from matplotlib.colors import ListedColormap\n",
    "from sklearn.model_selection import train_test_split\n",
    "from sklearn import preprocessing\n",
    "from sklearn.svm import SVC"
   ],
   "metadata": {
    "collapsed": false,
    "pycharm": {
     "name": "#%%\n"
    }
   }
  },
  {
   "cell_type": "markdown",
   "source": [
    "# Data"
   ],
   "metadata": {
    "collapsed": false
   }
  },
  {
   "cell_type": "code",
   "execution_count": 15,
   "outputs": [
    {
     "data": {
      "text/plain": "  trending_date            channel_title  category_id        publish_time  \\\n0    2017-11-14                inscope21           24 2017-11-13 17:08:49   \n1    2017-11-14  LUKE! Die Woche und ich           23 2017-11-12 22:30:01   \n2    2017-11-14          LastWeekTonight           24 2017-11-13 07:30:00   \n3    2017-11-14        100SekundenPhysik           27 2017-11-12 15:00:01   \n4    2017-11-14                     rezo           24 2017-11-12 13:10:36   \n\n                                                tags    views   likes  \\\n0  inscope21|\"sing zu ende\"|\"gesangseinlagen\"|\"ge...   252786   35885   \n1  Kinder|\"ferngesteuert\"|\"Kinder ferngesteuert\"|...   797196   53576   \n2  last week tonight trump presidency|\"last week ...  2418783   97190   \n3  Physik|\"Wissenschaft\"|\"Technik\"|\"Science-Ficti...   380247   31821   \n4  kelly|\"missesvlog\"|\"kelly song\"|\"bausa\"|\"bausa...   822213  100684   \n\n   dislikes  comment_count  comments_disabled  ratings_disabled  \\\n0       230           1539              False             False   \n1       302           1278              False             False   \n2      6146          12703              False             False   \n3       458           1955              False             False   \n4      2467          10244              False             False   \n\n   video_error_or_removed  days_until_trending  \n0                   False                    1  \n1                   False                    2  \n2                   False                    1  \n3                   False                    2  \n4                   False                    2  ",
      "text/html": "<div>\n<style scoped>\n    .dataframe tbody tr th:only-of-type {\n        vertical-align: middle;\n    }\n\n    .dataframe tbody tr th {\n        vertical-align: top;\n    }\n\n    .dataframe thead th {\n        text-align: right;\n    }\n</style>\n<table border=\"1\" class=\"dataframe\">\n  <thead>\n    <tr style=\"text-align: right;\">\n      <th></th>\n      <th>trending_date</th>\n      <th>channel_title</th>\n      <th>category_id</th>\n      <th>publish_time</th>\n      <th>tags</th>\n      <th>views</th>\n      <th>likes</th>\n      <th>dislikes</th>\n      <th>comment_count</th>\n      <th>comments_disabled</th>\n      <th>ratings_disabled</th>\n      <th>video_error_or_removed</th>\n      <th>days_until_trending</th>\n    </tr>\n  </thead>\n  <tbody>\n    <tr>\n      <th>0</th>\n      <td>2017-11-14</td>\n      <td>inscope21</td>\n      <td>24</td>\n      <td>2017-11-13 17:08:49</td>\n      <td>inscope21|\"sing zu ende\"|\"gesangseinlagen\"|\"ge...</td>\n      <td>252786</td>\n      <td>35885</td>\n      <td>230</td>\n      <td>1539</td>\n      <td>False</td>\n      <td>False</td>\n      <td>False</td>\n      <td>1</td>\n    </tr>\n    <tr>\n      <th>1</th>\n      <td>2017-11-14</td>\n      <td>LUKE! Die Woche und ich</td>\n      <td>23</td>\n      <td>2017-11-12 22:30:01</td>\n      <td>Kinder|\"ferngesteuert\"|\"Kinder ferngesteuert\"|...</td>\n      <td>797196</td>\n      <td>53576</td>\n      <td>302</td>\n      <td>1278</td>\n      <td>False</td>\n      <td>False</td>\n      <td>False</td>\n      <td>2</td>\n    </tr>\n    <tr>\n      <th>2</th>\n      <td>2017-11-14</td>\n      <td>LastWeekTonight</td>\n      <td>24</td>\n      <td>2017-11-13 07:30:00</td>\n      <td>last week tonight trump presidency|\"last week ...</td>\n      <td>2418783</td>\n      <td>97190</td>\n      <td>6146</td>\n      <td>12703</td>\n      <td>False</td>\n      <td>False</td>\n      <td>False</td>\n      <td>1</td>\n    </tr>\n    <tr>\n      <th>3</th>\n      <td>2017-11-14</td>\n      <td>100SekundenPhysik</td>\n      <td>27</td>\n      <td>2017-11-12 15:00:01</td>\n      <td>Physik|\"Wissenschaft\"|\"Technik\"|\"Science-Ficti...</td>\n      <td>380247</td>\n      <td>31821</td>\n      <td>458</td>\n      <td>1955</td>\n      <td>False</td>\n      <td>False</td>\n      <td>False</td>\n      <td>2</td>\n    </tr>\n    <tr>\n      <th>4</th>\n      <td>2017-11-14</td>\n      <td>rezo</td>\n      <td>24</td>\n      <td>2017-11-12 13:10:36</td>\n      <td>kelly|\"missesvlog\"|\"kelly song\"|\"bausa\"|\"bausa...</td>\n      <td>822213</td>\n      <td>100684</td>\n      <td>2467</td>\n      <td>10244</td>\n      <td>False</td>\n      <td>False</td>\n      <td>False</td>\n      <td>2</td>\n    </tr>\n  </tbody>\n</table>\n</div>"
     },
     "execution_count": 15,
     "metadata": {},
     "output_type": "execute_result"
    }
   ],
   "source": [
    "df = pd.read_csv('../data/DEvideos.csv')\n",
    "\n",
    "df['trending_date'] = df.apply(lambda row: datetime.strptime(row['trending_date'], '%y.%d.%m'), axis=1)\n",
    "df['publish_time'] = df.apply(lambda row: datetime.strptime(row['publish_time'], '%Y-%m-%dT%H:%M:%S.000Z'), axis=1)\n",
    "df['days_until_trending'] = df.apply(lambda row: ((row['trending_date'] - row['publish_time']).days + 1), axis=1)\n",
    "\n",
    "dropColumns = ['video_id', 'title', 'thumbnail_link', 'description']\n",
    "df.drop(columns=dropColumns, inplace=True)\n",
    "\n",
    "df.head()"
   ],
   "metadata": {
    "collapsed": false,
    "pycharm": {
     "name": "#%%\n"
    }
   }
  },
  {
   "cell_type": "markdown",
   "source": [
    "# Input of tag factor"
   ],
   "metadata": {
    "collapsed": false
   }
  },
  {
   "cell_type": "code",
   "execution_count": 16,
   "outputs": [
    {
     "data": {
      "text/plain": "               factor  count\ntag                         \nfull game    0.880435     23\nsplit        0.862500     20\nwellness     0.852273     22\nneuer modus  0.843750     24\nlcs          0.840909     22",
      "text/html": "<div>\n<style scoped>\n    .dataframe tbody tr th:only-of-type {\n        vertical-align: middle;\n    }\n\n    .dataframe tbody tr th {\n        vertical-align: top;\n    }\n\n    .dataframe thead th {\n        text-align: right;\n    }\n</style>\n<table border=\"1\" class=\"dataframe\">\n  <thead>\n    <tr style=\"text-align: right;\">\n      <th></th>\n      <th>factor</th>\n      <th>count</th>\n    </tr>\n    <tr>\n      <th>tag</th>\n      <th></th>\n      <th></th>\n    </tr>\n  </thead>\n  <tbody>\n    <tr>\n      <th>full game</th>\n      <td>0.880435</td>\n      <td>23</td>\n    </tr>\n    <tr>\n      <th>split</th>\n      <td>0.862500</td>\n      <td>20</td>\n    </tr>\n    <tr>\n      <th>wellness</th>\n      <td>0.852273</td>\n      <td>22</td>\n    </tr>\n    <tr>\n      <th>neuer modus</th>\n      <td>0.843750</td>\n      <td>24</td>\n    </tr>\n    <tr>\n      <th>lcs</th>\n      <td>0.840909</td>\n      <td>22</td>\n    </tr>\n  </tbody>\n</table>\n</div>"
     },
     "execution_count": 16,
     "metadata": {},
     "output_type": "execute_result"
    }
   ],
   "source": [
    "# tag_df = pd.read_csv('../data/tags.csv')\n",
    "# tag_df = tag_df.set_index('tag')\n",
    "# tag_df.head()"
   ],
   "metadata": {
    "collapsed": false,
    "pycharm": {
     "name": "#%%\n"
    }
   }
  },
  {
   "cell_type": "markdown",
   "source": [
    "## Converter function"
   ],
   "metadata": {
    "collapsed": false
   }
  },
  {
   "cell_type": "code",
   "execution_count": 17,
   "outputs": [],
   "source": [
    "# def calculate_tag_factor(tag_string, tag_data):\n",
    "#     tag_list = pd.Series(list(set(map(lambda x: x.strip('\\\"').lower(), tag_string.split('|')))))\n",
    "#     return tag_list.apply(lambda tag: tag_data['factor'].get(tag, np.nan)).mean(skipna=True)"
   ],
   "metadata": {
    "collapsed": false,
    "pycharm": {
     "name": "#%%\n"
    }
   }
  },
  {
   "cell_type": "markdown",
   "source": [
    "## Test function"
   ],
   "metadata": {
    "collapsed": false
   }
  },
  {
   "cell_type": "code",
   "execution_count": 18,
   "outputs": [
    {
     "data": {
      "text/plain": "                 channel_title  \\\n0                    inscope21   \n1      LUKE! Die Woche und ich   \n2              LastWeekTonight   \n3            100SekundenPhysik   \n4                         rezo   \n...                        ...   \n40835           Kingdom Hearts   \n40836     YourMovieSucksDOTorg   \n40837  Grünwald Freitagscomedy   \n40838      Assassin's Creed DE   \n40839       Уральские Пельмени   \n\n                                                    tags  tag_factors  \n0      inscope21|\"sing zu ende\"|\"gesangseinlagen\"|\"ge...     0.512928  \n1      Kinder|\"ferngesteuert\"|\"Kinder ferngesteuert\"|...     0.612439  \n2      last week tonight trump presidency|\"last week ...     0.686567  \n3      Physik|\"Wissenschaft\"|\"Technik\"|\"Science-Ficti...     0.633594  \n4      kelly|\"missesvlog\"|\"kelly song\"|\"bausa\"|\"bausa...     0.541702  \n...                                                  ...          ...  \n40835  Kingdom Hearts|\"KH3\"|\"Kingdom Hearts 3\"|\"Pirat...     0.725610  \n40836                                             [none]     0.000000  \n40837  Günter Grünwald|\"Grünwald Freitagscomedy\"|\"Gün...     0.661601  \n40838  Assassin's Creed|\"Assassins Creed\"|\"Assassin's...     0.654359  \n40839  Гироскутер|\"уральские пельмени гироскутер\"|\"мя...     0.000000  \n\n[40840 rows x 3 columns]",
      "text/html": "<div>\n<style scoped>\n    .dataframe tbody tr th:only-of-type {\n        vertical-align: middle;\n    }\n\n    .dataframe tbody tr th {\n        vertical-align: top;\n    }\n\n    .dataframe thead th {\n        text-align: right;\n    }\n</style>\n<table border=\"1\" class=\"dataframe\">\n  <thead>\n    <tr style=\"text-align: right;\">\n      <th></th>\n      <th>channel_title</th>\n      <th>tags</th>\n      <th>tag_factors</th>\n    </tr>\n  </thead>\n  <tbody>\n    <tr>\n      <th>0</th>\n      <td>inscope21</td>\n      <td>inscope21|\"sing zu ende\"|\"gesangseinlagen\"|\"ge...</td>\n      <td>0.512928</td>\n    </tr>\n    <tr>\n      <th>1</th>\n      <td>LUKE! Die Woche und ich</td>\n      <td>Kinder|\"ferngesteuert\"|\"Kinder ferngesteuert\"|...</td>\n      <td>0.612439</td>\n    </tr>\n    <tr>\n      <th>2</th>\n      <td>LastWeekTonight</td>\n      <td>last week tonight trump presidency|\"last week ...</td>\n      <td>0.686567</td>\n    </tr>\n    <tr>\n      <th>3</th>\n      <td>100SekundenPhysik</td>\n      <td>Physik|\"Wissenschaft\"|\"Technik\"|\"Science-Ficti...</td>\n      <td>0.633594</td>\n    </tr>\n    <tr>\n      <th>4</th>\n      <td>rezo</td>\n      <td>kelly|\"missesvlog\"|\"kelly song\"|\"bausa\"|\"bausa...</td>\n      <td>0.541702</td>\n    </tr>\n    <tr>\n      <th>...</th>\n      <td>...</td>\n      <td>...</td>\n      <td>...</td>\n    </tr>\n    <tr>\n      <th>40835</th>\n      <td>Kingdom Hearts</td>\n      <td>Kingdom Hearts|\"KH3\"|\"Kingdom Hearts 3\"|\"Pirat...</td>\n      <td>0.725610</td>\n    </tr>\n    <tr>\n      <th>40836</th>\n      <td>YourMovieSucksDOTorg</td>\n      <td>[none]</td>\n      <td>0.000000</td>\n    </tr>\n    <tr>\n      <th>40837</th>\n      <td>Grünwald Freitagscomedy</td>\n      <td>Günter Grünwald|\"Grünwald Freitagscomedy\"|\"Gün...</td>\n      <td>0.661601</td>\n    </tr>\n    <tr>\n      <th>40838</th>\n      <td>Assassin's Creed DE</td>\n      <td>Assassin's Creed|\"Assassins Creed\"|\"Assassin's...</td>\n      <td>0.654359</td>\n    </tr>\n    <tr>\n      <th>40839</th>\n      <td>Уральские Пельмени</td>\n      <td>Гироскутер|\"уральские пельмени гироскутер\"|\"мя...</td>\n      <td>0.000000</td>\n    </tr>\n  </tbody>\n</table>\n<p>40840 rows × 3 columns</p>\n</div>"
     },
     "execution_count": 18,
     "metadata": {},
     "output_type": "execute_result"
    }
   ],
   "source": [
    "# df['tag_factors'] = df['tags'].apply(lambda x: calculate_tag_factor(x, tag_df))\n",
    "# df['tag_factors'] = df.apply(lambda row: 0 if np.isnan(row['tag_factors']) else row['tag_factors'], axis=1)\n",
    "# df[['channel_title','tags','tag_factors']]"
   ],
   "metadata": {
    "collapsed": false,
    "pycharm": {
     "name": "#%%\n"
    }
   }
  },
  {
   "cell_type": "code",
   "execution_count": 19,
   "outputs": [
    {
     "data": {
      "text/plain": "trending_date             datetime64[ns]\nchannel_title                     object\ncategory_id                        int64\npublish_time              datetime64[ns]\ntags                              object\nviews                              int64\nlikes                              int64\ndislikes                           int64\ncomment_count                      int64\ncomments_disabled                   bool\nratings_disabled                    bool\nvideo_error_or_removed              bool\ndays_until_trending                int64\ntag_factors                      float64\ntarget_category                   object\ndtype: object"
     },
     "execution_count": 19,
     "metadata": {},
     "output_type": "execute_result"
    }
   ],
   "source": [
    "def assign_target_category(row):\n",
    "    if row['days_until_trending'] == 0:\n",
    "        return '0 Days'\n",
    "    elif row['days_until_trending'] == 1:\n",
    "        return '1 Day'\n",
    "    elif row['days_until_trending'] == 2:\n",
    "        return '2 Days'\n",
    "    elif row['days_until_trending'] < 10:\n",
    "        return '< 10 Days'\n",
    "    elif row['days_until_trending'] < 100:\n",
    "        return '< 100 Days'\n",
    "    elif row['days_until_trending'] < 1000:\n",
    "        return '< 1000 Days'\n",
    "    else:\n",
    "        return '>= 1000 Days'\n",
    "\n",
    "df['target_category'] = df.apply(assign_target_category, axis=1)\n",
    "\n",
    "df.head()\n",
    "\n",
    "df.dtypes"
   ],
   "metadata": {
    "collapsed": false,
    "pycharm": {
     "name": "#%%\n"
    }
   }
  },
  {
   "cell_type": "code",
   "execution_count": 20,
   "outputs": [
    {
     "data": {
      "text/plain": "<matplotlib.collections.PathCollection at 0x12ee06813a0>"
     },
     "execution_count": 20,
     "metadata": {},
     "output_type": "execute_result"
    },
    {
     "data": {
      "text/plain": "<Figure size 432x288 with 1 Axes>",
      "image/png": "[encoded data removed]"
     },
     "metadata": {
      "needs_background": "light"
     },
     "output_type": "display_data"
    }
   ],
   "source": [
    "plt.xlabel('views')\n",
    "plt.ylabel('days until trending')\n",
    "plt.scatter(df.views, df.views, color='green', marker='+')\n",
    "plt.scatter(df.days_until_trending, df.days_until_trending,color=\"blue\",marker='.')\n"
   ],
   "metadata": {
    "collapsed": false,
    "pycharm": {
     "name": "#%%\n"
    }
   }
  },
  {
   "cell_type": "markdown",
   "source": [
    "# Model training and fitting"
   ],
   "metadata": {
    "collapsed": false,
    "pycharm": {
     "name": "#%% md\n"
    }
   }
  },
  {
   "cell_type": "code",
   "execution_count": 22,
   "outputs": [
    {
     "data": {
      "text/plain": "0.6242654260528894"
     },
     "execution_count": 22,
     "metadata": {},
     "output_type": "execute_result"
    }
   ],
   "source": [
    "# Use multiple columns\n",
    "#x = pd.DataFrame(df.iloc[:, 4:6])\n",
    "# Use single column\n",
    "x = pd.DataFrame(df['views'])\n",
    "y = pd.DataFrame(df['target_category']).values.ravel()\n",
    "\n",
    "x = preprocessing.scale(x)\n",
    "\n",
    "x_train, x_test, y_train, y_test = train_test_split(x, y, test_size=0.2)\n",
    "\n",
    "model = SVC(kernel='rbf', random_state = 1)\n",
    "model.fit(x_train, y_train)\n",
    "model.score(x_test, y_test)"
   ],
   "metadata": {
    "collapsed": false,
    "pycharm": {
     "name": "#%%\n"
    }
   }
  },
  {
   "cell_type": "markdown",
   "source": [
    "## Prediction"
   ],
   "metadata": {
    "collapsed": false,
    "pycharm": {
     "name": "#%% md\n"
    }
   }
  },
  {
   "cell_type": "code",
   "execution_count": null,
   "outputs": [],
   "source": [
    "model.predict([[45000]])"
   ],
   "metadata": {
    "collapsed": false,
    "pycharm": {
     "name": "#%%\n"
    }
   }
  }
 ],
 "metadata": {
  "kernelspec": {
   "display_name": "Python 3",
   "language": "python",
   "name": "python3"
  },
  "language_info": {
   "codemirror_mode": {
    "name": "ipython",
    "version": 2
   },
   "file_extension": ".py",
   "mimetype": "text/x-python",
   "name": "python",
   "nbconvert_exporter": "python",
   "pygments_lexer": "ipython2",
   "version": "2.7.6"
  }
 },
 "nbformat": 4,
 "nbformat_minor": 0
}