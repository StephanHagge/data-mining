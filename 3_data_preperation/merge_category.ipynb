{
 "cells": [
  {
   "cell_type": "markdown",
   "source": [
    "# Merge the category"
   ],
   "metadata": {
    "collapsed": false,
    "pycharm": {
     "name": "#%% md\n"
    }
   }
  },
  {
   "cell_type": "code",
   "execution_count": 4,
   "metadata": {
    "collapsed": true
   },
   "outputs": [
    {
     "name": "stdout",
     "output_type": "stream",
     "text": [
      "Entertainment           15292\n",
      "People & Blogs           5988\n",
      "Sports                   2752\n",
      "Comedy                   2534\n",
      "Film & Animation         2376\n",
      "Music                    2372\n",
      "Howto & Style            1745\n",
      "Gaming                   1565\n",
      "Autos & Vehicles          873\n",
      "Education                 844\n",
      "Science & Technology      806\n",
      "Pets & Animals            251\n",
      "Travel & Events           141\n",
      "Shows                     107\n",
      "Movies                      2\n",
      "Trailers                    1\n",
      "Name: category, dtype: int64\n"
     ]
    }
   ],
   "source": [
    "import pandas as pd\n",
    "\n",
    "df = pd.read_csv('../0_data/DEvideos.csv')\n",
    "\n",
    "category = {\n",
    "    1: \"Film & Animation\",\n",
    "    2: \"Autos & Vehicles\",\n",
    "    10: \"Music\",\n",
    "    15: \"Pets & Animals\",\n",
    "    17: \"Sports\",\n",
    "    18: \"Short Movies\",\n",
    "    19: \"Travel & Events\",\n",
    "    20: \"Gaming\",\n",
    "    21: \"Videoblogging\",\n",
    "    22: \"People & Blogs\",\n",
    "    23: \"Comedy\",\n",
    "    24: \"Entertainment\",\n",
    "    26: \"Howto & Style\",\n",
    "    27: \"Education\",\n",
    "    28: \"Science & Technology\",\n",
    "    30: \"Movies\",\n",
    "    31: \"Anime/Animation\",\n",
    "    32: \"Action/Adventure\",\n",
    "    33: \"Classics\",\n",
    "    34: \"Comedy\",\n",
    "    35: \"Documentary\",\n",
    "    36: \"Drama\",\n",
    "    37: \"Family\",\n",
    "    38: \"Foreign\",\n",
    "    39: \"Horror\",\n",
    "    40: \"Sci-Fi/Fantasy\",\n",
    "    41: \"Thriller\",\n",
    "    42: \"Shorts\",\n",
    "    43: \"Shows\",\n",
    "    44: \"Trailers\"\n",
    "  }\n",
    "\n",
    "for x in category.keys():\n",
    "    df.loc[df['category_id'] == x, 'category'] = category.get(x);\n",
    "\n",
    "print(df['category'].value_counts())"
   ]
  },
  {
   "cell_type": "markdown",
   "source": [
    "# Output Data"
   ],
   "metadata": {
    "collapsed": false,
    "pycharm": {
     "name": "#%% md\n"
    }
   }
  },
  {
   "cell_type": "code",
   "execution_count": 5,
   "outputs": [
    {
     "data": {
      "text/plain": "      video_id trending_date  \\\n0  LgVi6y5QIjM      17.14.11   \n1  Bayt7uQith4      17.14.11   \n2  1ZAPwfrtAFY      17.14.11   \n3  AHtypnRk7JE      17.14.11   \n4  ZJ9We4bjcg0      17.14.11   \n\n                                               title            channel_title  \\\n0  Sing zu Ende! | Gesangseinlagen vom Feinsten |...                inscope21   \n1  Kinder ferngesteuert im Kiosk! Erwachsene abzo...  LUKE! Die Woche und ich   \n2  The Trump Presidency: Last Week Tonight with J...          LastWeekTonight   \n3                                Das Fermi-Paradoxon        100SekundenPhysik   \n4           18 SONGS mit Kelly MissesVlog (Sing-off)                     rezo   \n\n   category_id              publish_time  \\\n0           24  2017-11-13T17:08:49.000Z   \n1           23  2017-11-12T22:30:01.000Z   \n2           24  2017-11-13T07:30:00.000Z   \n3           27  2017-11-12T15:00:01.000Z   \n4           24  2017-11-12T13:10:36.000Z   \n\n                                                tags    views   likes  \\\n0  inscope21|\"sing zu ende\"|\"gesangseinlagen\"|\"ge...   252786   35885   \n1  Kinder|\"ferngesteuert\"|\"Kinder ferngesteuert\"|...   797196   53576   \n2  last week tonight trump presidency|\"last week ...  2418783   97190   \n3  Physik|\"Wissenschaft\"|\"Technik\"|\"Science-Ficti...   380247   31821   \n4  kelly|\"missesvlog\"|\"kelly song\"|\"bausa\"|\"bausa...   822213  100684   \n\n   dislikes  comment_count                                  thumbnail_link  \\\n0       230           1539  https://i.ytimg.com/vi/LgVi6y5QIjM/default.jpg   \n1       302           1278  https://i.ytimg.com/vi/Bayt7uQith4/default.jpg   \n2      6146          12703  https://i.ytimg.com/vi/1ZAPwfrtAFY/default.jpg   \n3       458           1955  https://i.ytimg.com/vi/AHtypnRk7JE/default.jpg   \n4      2467          10244  https://i.ytimg.com/vi/ZJ9We4bjcg0/default.jpg   \n\n   comments_disabled  ratings_disabled  video_error_or_removed  \\\n0              False             False                   False   \n1              False             False                   False   \n2              False             False                   False   \n3              False             False                   False   \n4              False             False                   False   \n\n                                         description       category  \n0  Heute gibt es mal wieder ein neues Format... w...  Entertainment  \n1  Kinder ferngesteuert! Kinder lassen sich sooo ...         Comedy  \n2  One year after the presidential election, John...  Entertainment  \n3  ►Alle Videos: http://bit.ly/1fa7Tw3\\n\\n\\n✚Snap...      Education  \n4  18 Song Mashup über den (veränderten) Beat von...  Entertainment  ",
      "text/html": "<div>\n<style scoped>\n    .dataframe tbody tr th:only-of-type {\n        vertical-align: middle;\n    }\n\n    .dataframe tbody tr th {\n        vertical-align: top;\n    }\n\n    .dataframe thead th {\n        text-align: right;\n    }\n</style>\n<table border=\"1\" class=\"dataframe\">\n  <thead>\n    <tr style=\"text-align: right;\">\n      <th></th>\n      <th>video_id</th>\n      <th>trending_date</th>\n      <th>title</th>\n      <th>channel_title</th>\n      <th>category_id</th>\n      <th>publish_time</th>\n      <th>tags</th>\n      <th>views</th>\n      <th>likes</th>\n      <th>dislikes</th>\n      <th>comment_count</th>\n      <th>thumbnail_link</th>\n      <th>comments_disabled</th>\n      <th>ratings_disabled</th>\n      <th>video_error_or_removed</th>\n      <th>description</th>\n      <th>category</th>\n    </tr>\n  </thead>\n  <tbody>\n    <tr>\n      <th>0</th>\n      <td>LgVi6y5QIjM</td>\n      <td>17.14.11</td>\n      <td>Sing zu Ende! | Gesangseinlagen vom Feinsten |...</td>\n      <td>inscope21</td>\n      <td>24</td>\n      <td>2017-11-13T17:08:49.000Z</td>\n      <td>inscope21|\"sing zu ende\"|\"gesangseinlagen\"|\"ge...</td>\n      <td>252786</td>\n      <td>35885</td>\n      <td>230</td>\n      <td>1539</td>\n      <td>https://i.ytimg.com/vi/LgVi6y5QIjM/default.jpg</td>\n      <td>False</td>\n      <td>False</td>\n      <td>False</td>\n      <td>Heute gibt es mal wieder ein neues Format... w...</td>\n      <td>Entertainment</td>\n    </tr>\n    <tr>\n      <th>1</th>\n      <td>Bayt7uQith4</td>\n      <td>17.14.11</td>\n      <td>Kinder ferngesteuert im Kiosk! Erwachsene abzo...</td>\n      <td>LUKE! Die Woche und ich</td>\n      <td>23</td>\n      <td>2017-11-12T22:30:01.000Z</td>\n      <td>Kinder|\"ferngesteuert\"|\"Kinder ferngesteuert\"|...</td>\n      <td>797196</td>\n      <td>53576</td>\n      <td>302</td>\n      <td>1278</td>\n      <td>https://i.ytimg.com/vi/Bayt7uQith4/default.jpg</td>\n      <td>False</td>\n      <td>False</td>\n      <td>False</td>\n      <td>Kinder ferngesteuert! Kinder lassen sich sooo ...</td>\n      <td>Comedy</td>\n    </tr>\n    <tr>\n      <th>2</th>\n      <td>1ZAPwfrtAFY</td>\n      <td>17.14.11</td>\n      <td>The Trump Presidency: Last Week Tonight with J...</td>\n      <td>LastWeekTonight</td>\n      <td>24</td>\n      <td>2017-11-13T07:30:00.000Z</td>\n      <td>last week tonight trump presidency|\"last week ...</td>\n      <td>2418783</td>\n      <td>97190</td>\n      <td>6146</td>\n      <td>12703</td>\n      <td>https://i.ytimg.com/vi/1ZAPwfrtAFY/default.jpg</td>\n      <td>False</td>\n      <td>False</td>\n      <td>False</td>\n      <td>One year after the presidential election, John...</td>\n      <td>Entertainment</td>\n    </tr>\n    <tr>\n      <th>3</th>\n      <td>AHtypnRk7JE</td>\n      <td>17.14.11</td>\n      <td>Das Fermi-Paradoxon</td>\n      <td>100SekundenPhysik</td>\n      <td>27</td>\n      <td>2017-11-12T15:00:01.000Z</td>\n      <td>Physik|\"Wissenschaft\"|\"Technik\"|\"Science-Ficti...</td>\n      <td>380247</td>\n      <td>31821</td>\n      <td>458</td>\n      <td>1955</td>\n      <td>https://i.ytimg.com/vi/AHtypnRk7JE/default.jpg</td>\n      <td>False</td>\n      <td>False</td>\n      <td>False</td>\n      <td>►Alle Videos: http://bit.ly/1fa7Tw3\\n\\n\\n✚Snap...</td>\n      <td>Education</td>\n    </tr>\n    <tr>\n      <th>4</th>\n      <td>ZJ9We4bjcg0</td>\n      <td>17.14.11</td>\n      <td>18 SONGS mit Kelly MissesVlog (Sing-off)</td>\n      <td>rezo</td>\n      <td>24</td>\n      <td>2017-11-12T13:10:36.000Z</td>\n      <td>kelly|\"missesvlog\"|\"kelly song\"|\"bausa\"|\"bausa...</td>\n      <td>822213</td>\n      <td>100684</td>\n      <td>2467</td>\n      <td>10244</td>\n      <td>https://i.ytimg.com/vi/ZJ9We4bjcg0/default.jpg</td>\n      <td>False</td>\n      <td>False</td>\n      <td>False</td>\n      <td>18 Song Mashup über den (veränderten) Beat von...</td>\n      <td>Entertainment</td>\n    </tr>\n  </tbody>\n</table>\n</div>"
     },
     "execution_count": 5,
     "metadata": {},
     "output_type": "execute_result"
    }
   ],
   "source": [
    "df.head()"
   ],
   "metadata": {
    "collapsed": false,
    "pycharm": {
     "name": "#%%\n"
    }
   }
  }
 ],
 "metadata": {
  "kernelspec": {
   "display_name": "Python 3",
   "language": "python",
   "name": "python3"
  },
  "language_info": {
   "codemirror_mode": {
    "name": "ipython",
    "version": 2
   },
   "file_extension": ".py",
   "mimetype": "text/x-python",
   "name": "python",
   "nbconvert_exporter": "python",
   "pygments_lexer": "ipython2",
   "version": "2.7.6"
  }
 },
 "nbformat": 4,
 "nbformat_minor": 0
}