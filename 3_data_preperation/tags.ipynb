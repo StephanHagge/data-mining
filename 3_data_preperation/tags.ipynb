{
 "cells": [
  {
   "cell_type": "code",
   "execution_count": 95,
   "outputs": [],
   "source": [
    "import numpy as np\n",
    "import pandas as pd\n",
    "import seaborn as sns\n",
    "import matplotlib.pyplot as plt\n",
    "import pycountry\n",
    "\n",
    "from datetime import datetime\n",
    "\n",
    "%matplotlib inline\n",
    "plt.rcParams['figure.figsize'] = (20, 6)\n",
    "\n",
    "calculate_binary = False"
   ],
   "metadata": {
    "collapsed": false,
    "pycharm": {
     "name": "#%%\n"
    }
   }
  },
  {
   "cell_type": "markdown",
   "source": [
    "# Configuration Parameter"
   ],
   "metadata": {
    "collapsed": false,
    "pycharm": {
     "name": "#%% md\n"
    }
   }
  },
  {
   "cell_type": "code",
   "execution_count": 96,
   "outputs": [],
   "source": [
    "data_lan_code = 'DE'\n",
    "\n",
    "filter_countries = True\n",
    "filter_languages = False # Resource intensive, use with care\n",
    "\n",
    "#limit_method = 'count'\n",
    "#limit_method = 'percent'\n",
    "limit_method = None\n",
    "max_tag_count = 100\n",
    "max_tag_percent = 0.5\n",
    "\n",
    "# Always applied after tag limit calculation\n",
    "filter_tags_by_usage = True\n",
    "min_tag_usage = 20"
   ],
   "metadata": {
    "collapsed": false,
    "pycharm": {
     "name": "#%%\n"
    }
   }
  },
  {
   "cell_type": "markdown",
   "source": [
    "# Read data"
   ],
   "metadata": {
    "collapsed": false
   }
  },
  {
   "cell_type": "code",
   "execution_count": 97,
   "outputs": [],
   "source": [
    "\n",
    "df = pd.read_csv('../data/'+ data_lan_code + 'videos.csv')"
   ],
   "metadata": {
    "collapsed": false,
    "pycharm": {
     "name": "#%%\n"
    }
   }
  },
  {
   "cell_type": "markdown",
   "source": [
    "# Calculate categories"
   ],
   "metadata": {
    "collapsed": false,
    "pycharm": {
     "name": "#%% md\n"
    }
   }
  },
  {
   "cell_type": "code",
   "execution_count": 98,
   "outputs": [],
   "source": [
    "def assign_trending_category(row):\n",
    "    if row['days_until_trending'] == 0:\n",
    "        return 0 # 0 Days\n",
    "    elif row['days_until_trending'] == 1:\n",
    "        return 1 # 1 Day\n",
    "    elif row['days_until_trending'] == 2:\n",
    "        return 2 # 2 Days\n",
    "    elif row['days_until_trending'] <= 5:\n",
    "        return 3 # 3 - 5 Days\n",
    "    else:\n",
    "        return 4 # > 5 Days\n",
    "\n",
    "df['days_until_trending'] = df.apply(lambda row: ((datetime.strptime(row['trending_date'], '%y.%d.%m') - datetime.strptime(row['publish_time'], '%Y-%m-%dT%H:%M:%S.000Z')).days + 1), axis=1)\n",
    "df['trending_category'] = df.apply(assign_trending_category, axis=1)"
   ],
   "metadata": {
    "collapsed": false,
    "pycharm": {
     "name": "#%%\n"
    }
   }
  },
  {
   "cell_type": "markdown",
   "source": [
    "# Drop unused data"
   ],
   "metadata": {
    "collapsed": false,
    "pycharm": {
     "name": "#%% md\n"
    }
   }
  },
  {
   "cell_type": "code",
   "execution_count": 99,
   "outputs": [
    {
     "data": {
      "text/plain": "      video_id                                              title  \\\n0  LgVi6y5QIjM  Sing zu Ende! | Gesangseinlagen vom Feinsten |...   \n1  Bayt7uQith4  Kinder ferngesteuert im Kiosk! Erwachsene abzo...   \n2  1ZAPwfrtAFY  The Trump Presidency: Last Week Tonight with J...   \n3  AHtypnRk7JE                                Das Fermi-Paradoxon   \n4  ZJ9We4bjcg0           18 SONGS mit Kelly MissesVlog (Sing-off)   \n\n                                                tags  trending_category  \n0  inscope21|\"sing zu ende\"|\"gesangseinlagen\"|\"ge...                  1  \n1  Kinder|\"ferngesteuert\"|\"Kinder ferngesteuert\"|...                  2  \n2  last week tonight trump presidency|\"last week ...                  1  \n3  Physik|\"Wissenschaft\"|\"Technik\"|\"Science-Ficti...                  2  \n4  kelly|\"missesvlog\"|\"kelly song\"|\"bausa\"|\"bausa...                  2  ",
      "text/html": "<div>\n<style scoped>\n    .dataframe tbody tr th:only-of-type {\n        vertical-align: middle;\n    }\n\n    .dataframe tbody tr th {\n        vertical-align: top;\n    }\n\n    .dataframe thead th {\n        text-align: right;\n    }\n</style>\n<table border=\"1\" class=\"dataframe\">\n  <thead>\n    <tr style=\"text-align: right;\">\n      <th></th>\n      <th>video_id</th>\n      <th>title</th>\n      <th>tags</th>\n      <th>trending_category</th>\n    </tr>\n  </thead>\n  <tbody>\n    <tr>\n      <th>0</th>\n      <td>LgVi6y5QIjM</td>\n      <td>Sing zu Ende! | Gesangseinlagen vom Feinsten |...</td>\n      <td>inscope21|\"sing zu ende\"|\"gesangseinlagen\"|\"ge...</td>\n      <td>1</td>\n    </tr>\n    <tr>\n      <th>1</th>\n      <td>Bayt7uQith4</td>\n      <td>Kinder ferngesteuert im Kiosk! Erwachsene abzo...</td>\n      <td>Kinder|\"ferngesteuert\"|\"Kinder ferngesteuert\"|...</td>\n      <td>2</td>\n    </tr>\n    <tr>\n      <th>2</th>\n      <td>1ZAPwfrtAFY</td>\n      <td>The Trump Presidency: Last Week Tonight with J...</td>\n      <td>last week tonight trump presidency|\"last week ...</td>\n      <td>1</td>\n    </tr>\n    <tr>\n      <th>3</th>\n      <td>AHtypnRk7JE</td>\n      <td>Das Fermi-Paradoxon</td>\n      <td>Physik|\"Wissenschaft\"|\"Technik\"|\"Science-Ficti...</td>\n      <td>2</td>\n    </tr>\n    <tr>\n      <th>4</th>\n      <td>ZJ9We4bjcg0</td>\n      <td>18 SONGS mit Kelly MissesVlog (Sing-off)</td>\n      <td>kelly|\"missesvlog\"|\"kelly song\"|\"bausa\"|\"bausa...</td>\n      <td>2</td>\n    </tr>\n  </tbody>\n</table>\n</div>"
     },
     "execution_count": 99,
     "metadata": {},
     "output_type": "execute_result"
    }
   ],
   "source": [
    "df = df.drop(['trending_date','category_id', 'publish_time', 'views', 'likes','dislikes',\n",
    "         'comment_count', 'thumbnail_link', 'comments_disabled', 'ratings_disabled',\n",
    "         'video_error_or_removed', 'description', 'days_until_trending',\n",
    "          'channel_title'], axis=1)\n",
    "df.head()"
   ],
   "metadata": {
    "collapsed": false,
    "pycharm": {
     "name": "#%%\n"
    }
   }
  },
  {
   "cell_type": "markdown",
   "source": [
    "## Parse tags and convert\n",
    "\n",
    "Breaks the tag-strings into single elements and formats them. The following formatting is applied:\n",
    "* Remove enclosing quotation marks (\"\")\n",
    "* convert to lower case\n",
    "* remove all duplicates (due to conversion to lower)\n",
    "\n",
    "After formatting, the tags are filter by the following rules. The tag will be excluded when:\n",
    "* The tag matches the '[none]' tag\n",
    "* The tag is a number (to remove time related data)\n",
    "* The tag describes a country\n",
    "* The tag describes a language (resource intensive due to large amount of languages)"
   ],
   "metadata": {
    "collapsed": false
   }
  },
  {
   "cell_type": "code",
   "execution_count": 100,
   "outputs": [
    {
     "data": {
      "text/plain": "0    [inscope21, sing zu ende, gesangseinlagen, ges...\n1    [kinder, ferngesteuert, kinder ferngesteuert, ...\n2    [last week tonight trump presidency, last week...\n3    [physik, wissenschaft, technik, science-fictio...\n4    [kelly, missesvlog, kelly song, bausa, bausa w...\nName: parsed_tags, dtype: object"
     },
     "execution_count": 100,
     "metadata": {},
     "output_type": "execute_result"
    }
   ],
   "source": [
    "\n",
    "countries = [s.name for s in pycountry.countries]\n",
    "languages = [s.name for s in pycountry.languages]\n",
    "\n",
    "def isValidTag(s):\n",
    "    return s != '[none]' \\\n",
    "    and not s.isnumeric() \\\n",
    "    and not(filter_countries and s in countries) \\\n",
    "    and not (filter_languages and s in languages)\n",
    "def formatData(s):\n",
    "    s2 = map(lambda x: x.strip('\\\"').lower(), s)\n",
    "    res = []\n",
    "    [res.append(x) for x in s2 if x not in res]\n",
    "    return res\n",
    "\n",
    "df['parsed_tags'] = df['tags'].str.split('|')\\\n",
    "    .apply(formatData)\\\n",
    "    .apply(lambda x: list(filter(isValidTag, x)))\n",
    "df = df.drop('tags', axis=1)\n",
    "df['parsed_tags'].head()\n"
   ],
   "metadata": {
    "collapsed": false,
    "pycharm": {
     "name": "#%%\n"
    }
   }
  },
  {
   "cell_type": "markdown",
   "source": [
    "## Calculate tag count per video"
   ],
   "metadata": {
    "collapsed": false,
    "pycharm": {
     "name": "#%% md\n"
    }
   }
  },
  {
   "cell_type": "code",
   "execution_count": 101,
   "outputs": [
    {
     "data": {
      "text/plain": "      video_id                                              title  \\\n0  LgVi6y5QIjM  Sing zu Ende! | Gesangseinlagen vom Feinsten |...   \n1  Bayt7uQith4  Kinder ferngesteuert im Kiosk! Erwachsene abzo...   \n2  1ZAPwfrtAFY  The Trump Presidency: Last Week Tonight with J...   \n3  AHtypnRk7JE                                Das Fermi-Paradoxon   \n4  ZJ9We4bjcg0           18 SONGS mit Kelly MissesVlog (Sing-off)   \n\n   trending_category                                        parsed_tags  \\\n0                  1  [inscope21, sing zu ende, gesangseinlagen, ges...   \n1                  2  [kinder, ferngesteuert, kinder ferngesteuert, ...   \n2                  1  [last week tonight trump presidency, last week...   \n3                  2  [physik, wissenschaft, technik, science-fictio...   \n4                  2  [kelly, missesvlog, kelly song, bausa, bausa w...   \n\n   tag_count  \n0         16  \n1         27  \n2          4  \n3          9  \n4          5  ",
      "text/html": "<div>\n<style scoped>\n    .dataframe tbody tr th:only-of-type {\n        vertical-align: middle;\n    }\n\n    .dataframe tbody tr th {\n        vertical-align: top;\n    }\n\n    .dataframe thead th {\n        text-align: right;\n    }\n</style>\n<table border=\"1\" class=\"dataframe\">\n  <thead>\n    <tr style=\"text-align: right;\">\n      <th></th>\n      <th>video_id</th>\n      <th>title</th>\n      <th>trending_category</th>\n      <th>parsed_tags</th>\n      <th>tag_count</th>\n    </tr>\n  </thead>\n  <tbody>\n    <tr>\n      <th>0</th>\n      <td>LgVi6y5QIjM</td>\n      <td>Sing zu Ende! | Gesangseinlagen vom Feinsten |...</td>\n      <td>1</td>\n      <td>[inscope21, sing zu ende, gesangseinlagen, ges...</td>\n      <td>16</td>\n    </tr>\n    <tr>\n      <th>1</th>\n      <td>Bayt7uQith4</td>\n      <td>Kinder ferngesteuert im Kiosk! Erwachsene abzo...</td>\n      <td>2</td>\n      <td>[kinder, ferngesteuert, kinder ferngesteuert, ...</td>\n      <td>27</td>\n    </tr>\n    <tr>\n      <th>2</th>\n      <td>1ZAPwfrtAFY</td>\n      <td>The Trump Presidency: Last Week Tonight with J...</td>\n      <td>1</td>\n      <td>[last week tonight trump presidency, last week...</td>\n      <td>4</td>\n    </tr>\n    <tr>\n      <th>3</th>\n      <td>AHtypnRk7JE</td>\n      <td>Das Fermi-Paradoxon</td>\n      <td>2</td>\n      <td>[physik, wissenschaft, technik, science-fictio...</td>\n      <td>9</td>\n    </tr>\n    <tr>\n      <th>4</th>\n      <td>ZJ9We4bjcg0</td>\n      <td>18 SONGS mit Kelly MissesVlog (Sing-off)</td>\n      <td>2</td>\n      <td>[kelly, missesvlog, kelly song, bausa, bausa w...</td>\n      <td>5</td>\n    </tr>\n  </tbody>\n</table>\n</div>"
     },
     "execution_count": 101,
     "metadata": {},
     "output_type": "execute_result"
    }
   ],
   "source": [
    "df['tag_count'] = df.apply( lambda row: len(row['parsed_tags']), axis=1)\n",
    "df.head()"
   ],
   "metadata": {
    "collapsed": false,
    "pycharm": {
     "name": "#%%\n"
    }
   }
  },
  {
   "cell_type": "markdown",
   "source": [
    "## Calculate total tag counts"
   ],
   "metadata": {
    "collapsed": false
   }
  },
  {
   "cell_type": "code",
   "execution_count": 102,
   "outputs": [],
   "source": [
    "def to_1D(series):\n",
    "    return pd.Series([x for _list in series for x in _list])\n",
    "tag_counts = to_1D(df['parsed_tags']).value_counts()\n",
    "tag_counts.name = \"counts\""
   ],
   "metadata": {
    "collapsed": false,
    "pycharm": {
     "name": "#%%\n"
    }
   }
  },
  {
   "cell_type": "markdown",
   "source": [
    "## Display top 20 tags"
   ],
   "metadata": {
    "collapsed": false
   }
  },
  {
   "cell_type": "code",
   "execution_count": 103,
   "outputs": [
    {
     "name": "stderr",
     "output_type": "stream",
     "text": [
      "d:\\programme\\python\\python39\\lib\\site-packages\\seaborn\\_decorators.py:36: FutureWarning: Pass the following variables as keyword args: x, y. From version 0.12, the only valid positional argument will be `data`, and passing other arguments without an explicit keyword will result in an error or misinterpretation.\n",
      "  warnings.warn(\n"
     ]
    },
    {
     "data": {
      "text/plain": "<AxesSubplot:>"
     },
     "execution_count": 103,
     "metadata": {},
     "output_type": "execute_result"
    },
    {
     "data": {
      "text/plain": "<Figure size 1440x432 with 1 Axes>",
      "image/png": "[encoded data removed]"
     },
     "metadata": {
      "needs_background": "light"
     },
     "output_type": "display_data"
    }
   ],
   "source": [
    "top_tags = tag_counts.head(20)\n",
    "sns.barplot(top_tags.index, top_tags.values)\n",
    "\n",
    "# https://towardsdatascience.com/dealing-with-list-values-in-pandas-dataframes-a177e534f173"
   ],
   "metadata": {
    "collapsed": false,
    "pycharm": {
     "name": "#%%\n"
    }
   }
  },
  {
   "cell_type": "markdown",
   "source": [
    "## Convert tags into their own table"
   ],
   "metadata": {
    "collapsed": false
   }
  },
  {
   "cell_type": "code",
   "execution_count": 104,
   "outputs": [
    {
     "data": {
      "text/plain": "                                   0                               1   \\\n0                           inscope21                    sing zu ende   \n1                              kinder                   ferngesteuert   \n2  last week tonight trump presidency  last week tonight donald trump   \n3                              physik                    wissenschaft   \n4                               kelly                      missesvlog   \n\n                     2                      3                              4   \\\n0       gesangseinlagen                 gesang                       gesungen   \n1  kinder ferngesteuert  luke mockridge kinder  luke die woche und ich kinder   \n2     john oliver trump           donald trump                            NaN   \n3               technik        science-fiction                  außerirdische   \n4            kelly song                  bausa      bausa was du liebe nennst   \n\n                 5           6             7                8   \\\n0  songs nachsingen  nachsingen  songs covern  carpool karaoke   \n1             prank  verarschen         kiosk        funkgerät   \n2               NaN         NaN           NaN              NaN   \n3             alien      aliens         fermi  fermi-paradoxon   \n4               NaN         NaN           NaN              NaN   \n\n                9   ...   69   70   71   72   73   74   75   76   77   78  \n0  witziger gesang  ...  NaN  NaN  NaN  NaN  NaN  NaN  NaN  NaN  NaN  NaN  \n1       falschgeld  ...  NaN  NaN  NaN  NaN  NaN  NaN  NaN  NaN  NaN  NaN  \n2              NaN  ...  NaN  NaN  NaN  NaN  NaN  NaN  NaN  NaN  NaN  NaN  \n3              NaN  ...  NaN  NaN  NaN  NaN  NaN  NaN  NaN  NaN  NaN  NaN  \n4              NaN  ...  NaN  NaN  NaN  NaN  NaN  NaN  NaN  NaN  NaN  NaN  \n\n[5 rows x 79 columns]",
      "text/html": "<div>\n<style scoped>\n    .dataframe tbody tr th:only-of-type {\n        vertical-align: middle;\n    }\n\n    .dataframe tbody tr th {\n        vertical-align: top;\n    }\n\n    .dataframe thead th {\n        text-align: right;\n    }\n</style>\n<table border=\"1\" class=\"dataframe\">\n  <thead>\n    <tr style=\"text-align: right;\">\n      <th></th>\n      <th>0</th>\n      <th>1</th>\n      <th>2</th>\n      <th>3</th>\n      <th>4</th>\n      <th>5</th>\n      <th>6</th>\n      <th>7</th>\n      <th>8</th>\n      <th>9</th>\n      <th>...</th>\n      <th>69</th>\n      <th>70</th>\n      <th>71</th>\n      <th>72</th>\n      <th>73</th>\n      <th>74</th>\n      <th>75</th>\n      <th>76</th>\n      <th>77</th>\n      <th>78</th>\n    </tr>\n  </thead>\n  <tbody>\n    <tr>\n      <th>0</th>\n      <td>inscope21</td>\n      <td>sing zu ende</td>\n      <td>gesangseinlagen</td>\n      <td>gesang</td>\n      <td>gesungen</td>\n      <td>songs nachsingen</td>\n      <td>nachsingen</td>\n      <td>songs covern</td>\n      <td>carpool karaoke</td>\n      <td>witziger gesang</td>\n      <td>...</td>\n      <td>NaN</td>\n      <td>NaN</td>\n      <td>NaN</td>\n      <td>NaN</td>\n      <td>NaN</td>\n      <td>NaN</td>\n      <td>NaN</td>\n      <td>NaN</td>\n      <td>NaN</td>\n      <td>NaN</td>\n    </tr>\n    <tr>\n      <th>1</th>\n      <td>kinder</td>\n      <td>ferngesteuert</td>\n      <td>kinder ferngesteuert</td>\n      <td>luke mockridge kinder</td>\n      <td>luke die woche und ich kinder</td>\n      <td>prank</td>\n      <td>verarschen</td>\n      <td>kiosk</td>\n      <td>funkgerät</td>\n      <td>falschgeld</td>\n      <td>...</td>\n      <td>NaN</td>\n      <td>NaN</td>\n      <td>NaN</td>\n      <td>NaN</td>\n      <td>NaN</td>\n      <td>NaN</td>\n      <td>NaN</td>\n      <td>NaN</td>\n      <td>NaN</td>\n      <td>NaN</td>\n    </tr>\n    <tr>\n      <th>2</th>\n      <td>last week tonight trump presidency</td>\n      <td>last week tonight donald trump</td>\n      <td>john oliver trump</td>\n      <td>donald trump</td>\n      <td>NaN</td>\n      <td>NaN</td>\n      <td>NaN</td>\n      <td>NaN</td>\n      <td>NaN</td>\n      <td>NaN</td>\n      <td>...</td>\n      <td>NaN</td>\n      <td>NaN</td>\n      <td>NaN</td>\n      <td>NaN</td>\n      <td>NaN</td>\n      <td>NaN</td>\n      <td>NaN</td>\n      <td>NaN</td>\n      <td>NaN</td>\n      <td>NaN</td>\n    </tr>\n    <tr>\n      <th>3</th>\n      <td>physik</td>\n      <td>wissenschaft</td>\n      <td>technik</td>\n      <td>science-fiction</td>\n      <td>außerirdische</td>\n      <td>alien</td>\n      <td>aliens</td>\n      <td>fermi</td>\n      <td>fermi-paradoxon</td>\n      <td>NaN</td>\n      <td>...</td>\n      <td>NaN</td>\n      <td>NaN</td>\n      <td>NaN</td>\n      <td>NaN</td>\n      <td>NaN</td>\n      <td>NaN</td>\n      <td>NaN</td>\n      <td>NaN</td>\n      <td>NaN</td>\n      <td>NaN</td>\n    </tr>\n    <tr>\n      <th>4</th>\n      <td>kelly</td>\n      <td>missesvlog</td>\n      <td>kelly song</td>\n      <td>bausa</td>\n      <td>bausa was du liebe nennst</td>\n      <td>NaN</td>\n      <td>NaN</td>\n      <td>NaN</td>\n      <td>NaN</td>\n      <td>NaN</td>\n      <td>...</td>\n      <td>NaN</td>\n      <td>NaN</td>\n      <td>NaN</td>\n      <td>NaN</td>\n      <td>NaN</td>\n      <td>NaN</td>\n      <td>NaN</td>\n      <td>NaN</td>\n      <td>NaN</td>\n      <td>NaN</td>\n    </tr>\n  </tbody>\n</table>\n<p>5 rows × 79 columns</p>\n</div>"
     },
     "execution_count": 104,
     "metadata": {},
     "output_type": "execute_result"
    }
   ],
   "source": [
    "tags_df = df['parsed_tags'].apply(pd.Series)\n",
    "tags_df.head()"
   ],
   "metadata": {
    "collapsed": false,
    "pycharm": {
     "name": "#%%\n"
    }
   }
  },
  {
   "cell_type": "markdown",
   "source": [
    "## Calculate tag usage"
   ],
   "metadata": {
    "collapsed": false
   }
  },
  {
   "cell_type": "code",
   "execution_count": 105,
   "outputs": [
    {
     "data": {
      "text/plain": "atv                             0.009257\nçukur                           0.006242\nfox                             0.005501\nfußball                         0.004787\nшарий                           0.004734\n                                  ...   \namal arafa                      0.000026\nexatlon romania (16.04.2018)    0.000026\nprimärfarben                    0.000026\nrb leipzig                      0.000026\nalicia spinnet                  0.000026\nName: 0, Length: 9978, dtype: float64"
     },
     "execution_count": 105,
     "metadata": {},
     "output_type": "execute_result"
    }
   ],
   "source": [
    "tags_df.iloc[:, 0].value_counts(normalize=True)"
   ],
   "metadata": {
    "collapsed": false,
    "pycharm": {
     "name": "#%%\n"
    }
   }
  },
  {
   "cell_type": "markdown",
   "source": [
    "## Convert tags to binary table"
   ],
   "metadata": {
    "collapsed": false
   }
  },
  {
   "cell_type": "code",
   "execution_count": 106,
   "outputs": [],
   "source": [
    "def boolean_df(item_lists, items):\n",
    "    bool_dict={}\n",
    "    for i, item in enumerate(items):\n",
    "        bool_dict[item] = item_lists.apply(lambda x: item in x)\n",
    "    return pd.DataFrame(bool_dict)\n",
    "\n",
    "tags_start = 0\n",
    "tags_end = 1000\n",
    "if calculate_binary:\n",
    "    #unique_items = tag_counts.where(lambda x: x > 500).dropna().index\n",
    "    unique_items = tag_counts.head(tags_end).tail(tags_end-tags_start).index\n",
    "    head_tags = df['parsed_tags']\n",
    "    tags_bool = boolean_df(head_tags, unique_items)\n",
    "    tags_bool.head()"
   ],
   "metadata": {
    "collapsed": false,
    "pycharm": {
     "name": "#%%\n"
    }
   }
  },
  {
   "cell_type": "markdown",
   "source": [
    "## Tags as correlation matrix"
   ],
   "metadata": {
    "collapsed": false
   }
  },
  {
   "cell_type": "code",
   "execution_count": 107,
   "outputs": [],
   "source": [
    "if calculate_binary:\n",
    "    tags_int = tags_bool.astype(int)\n",
    "    tags_freq_mat = np.dot(tags_int.T, tags_int)\n",
    "    np.fill_diagonal(tags_freq_mat, 0)\n",
    "\n",
    "    tags_freq = pd.DataFrame(tags_freq_mat, columns = unique_items, index = unique_items)\n",
    "\n",
    "    fix, ax = plt.subplots(figsize = (9,5))\n",
    "    sns.heatmap(tags_freq, cmap = \"Blues\")\n",
    "    plt.xticks(rotation=50)\n",
    "    #plt.savefig(\"heatmap.png\", dpi = 300)\n",
    "\n"
   ],
   "metadata": {
    "collapsed": false,
    "pycharm": {
     "name": "#%%\n"
    }
   }
  },
  {
   "cell_type": "markdown",
   "source": [
    "# Calculate Tag factors\n",
    "## Gather Tag Data"
   ],
   "metadata": {
    "collapsed": false,
    "pycharm": {
     "name": "#%% md\n"
    }
   }
  },
  {
   "cell_type": "code",
   "execution_count": 108,
   "outputs": [
    {
     "data": {
      "text/plain": "                                            count    sum\ninscope21                                      83  42.25\nsing zu ende                                   14   6.50\ngesangseinlagen                                 4   1.75\ngesang                                         21   9.75\ngesungen                                       15   6.75\n...                                           ...    ...\nневошедшие номера                               1   0.75\nсмешные ляпы                                    1   0.75\nуральские пельмени этого не было на тв          1   0.75\nуральские пельмени то что не вошло в эфир       1   0.75\nуральские пельмени то что не попало в эфир      1   0.75\n\n[155218 rows x 2 columns]",
      "text/html": "<div>\n<style scoped>\n    .dataframe tbody tr th:only-of-type {\n        vertical-align: middle;\n    }\n\n    .dataframe tbody tr th {\n        vertical-align: top;\n    }\n\n    .dataframe thead th {\n        text-align: right;\n    }\n</style>\n<table border=\"1\" class=\"dataframe\">\n  <thead>\n    <tr style=\"text-align: right;\">\n      <th></th>\n      <th>count</th>\n      <th>sum</th>\n    </tr>\n  </thead>\n  <tbody>\n    <tr>\n      <th>inscope21</th>\n      <td>83</td>\n      <td>42.25</td>\n    </tr>\n    <tr>\n      <th>sing zu ende</th>\n      <td>14</td>\n      <td>6.50</td>\n    </tr>\n    <tr>\n      <th>gesangseinlagen</th>\n      <td>4</td>\n      <td>1.75</td>\n    </tr>\n    <tr>\n      <th>gesang</th>\n      <td>21</td>\n      <td>9.75</td>\n    </tr>\n    <tr>\n      <th>gesungen</th>\n      <td>15</td>\n      <td>6.75</td>\n    </tr>\n    <tr>\n      <th>...</th>\n      <td>...</td>\n      <td>...</td>\n    </tr>\n    <tr>\n      <th>невошедшие номера</th>\n      <td>1</td>\n      <td>0.75</td>\n    </tr>\n    <tr>\n      <th>смешные ляпы</th>\n      <td>1</td>\n      <td>0.75</td>\n    </tr>\n    <tr>\n      <th>уральские пельмени этого не было на тв</th>\n      <td>1</td>\n      <td>0.75</td>\n    </tr>\n    <tr>\n      <th>уральские пельмени то что не вошло в эфир</th>\n      <td>1</td>\n      <td>0.75</td>\n    </tr>\n    <tr>\n      <th>уральские пельмени то что не попало в эфир</th>\n      <td>1</td>\n      <td>0.75</td>\n    </tr>\n  </tbody>\n</table>\n<p>155218 rows × 2 columns</p>\n</div>"
     },
     "execution_count": 108,
     "metadata": {},
     "output_type": "execute_result"
    }
   ],
   "source": [
    "factors = {\n",
    "    0 : 1.0,\n",
    "    1 : 0.75,\n",
    "    2 : 0.5,\n",
    "    3 : 0.25,\n",
    "    4 : 0.0\n",
    "}\n",
    "\n",
    "tag_index = {}\n",
    "for index, row in df.iterrows():\n",
    "    cat = row['trending_category']\n",
    "    trending_value = factors[cat]\n",
    "    for tag in row['parsed_tags']:\n",
    "        if tag in tag_index:\n",
    "            tag_index[tag]['count'] += 1\n",
    "            tag_index[tag]['sum'] += trending_value\n",
    "        else:\n",
    "            tag_index[tag] = { 'count': 1, 'sum': trending_value }\n",
    "\n",
    "tag_data = pd.DataFrame.from_dict(tag_index, orient='index')\n",
    "tag_data"
   ],
   "metadata": {
    "collapsed": false,
    "pycharm": {
     "name": "#%%\n"
    }
   }
  },
  {
   "cell_type": "markdown",
   "source": [
    "## Filter Data and calculate Factor"
   ],
   "metadata": {
    "collapsed": false,
    "pycharm": {
     "name": "#%% md\n"
    }
   }
  },
  {
   "cell_type": "code",
   "execution_count": 109,
   "outputs": [
    {
     "data": {
      "text/plain": "                      count    sum    factor  tag_weight\nfull game                23  20.25  0.880435       20.25\nsplit                    20  17.25  0.862500       17.25\nwellness                 22  18.75  0.852273       18.75\nneuer modus              24  20.25  0.843750       20.25\nlcs                      22  18.50  0.840909       18.50\n...                     ...    ...       ...         ...\nkontra k neues video     27  11.00  0.407407       11.00\nvfx                      32  13.00  0.406250       13.00\nshaho casado             26  10.50  0.403846       10.50\nwarner bros              28  11.25  0.401786       11.25\nlucas the spider         21   7.75  0.369048        7.75\n\n[5828 rows x 4 columns]",
      "text/html": "<div>\n<style scoped>\n    .dataframe tbody tr th:only-of-type {\n        vertical-align: middle;\n    }\n\n    .dataframe tbody tr th {\n        vertical-align: top;\n    }\n\n    .dataframe thead th {\n        text-align: right;\n    }\n</style>\n<table border=\"1\" class=\"dataframe\">\n  <thead>\n    <tr style=\"text-align: right;\">\n      <th></th>\n      <th>count</th>\n      <th>sum</th>\n      <th>factor</th>\n      <th>tag_weight</th>\n    </tr>\n  </thead>\n  <tbody>\n    <tr>\n      <th>full game</th>\n      <td>23</td>\n      <td>20.25</td>\n      <td>0.880435</td>\n      <td>20.25</td>\n    </tr>\n    <tr>\n      <th>split</th>\n      <td>20</td>\n      <td>17.25</td>\n      <td>0.862500</td>\n      <td>17.25</td>\n    </tr>\n    <tr>\n      <th>wellness</th>\n      <td>22</td>\n      <td>18.75</td>\n      <td>0.852273</td>\n      <td>18.75</td>\n    </tr>\n    <tr>\n      <th>neuer modus</th>\n      <td>24</td>\n      <td>20.25</td>\n      <td>0.843750</td>\n      <td>20.25</td>\n    </tr>\n    <tr>\n      <th>lcs</th>\n      <td>22</td>\n      <td>18.50</td>\n      <td>0.840909</td>\n      <td>18.50</td>\n    </tr>\n    <tr>\n      <th>...</th>\n      <td>...</td>\n      <td>...</td>\n      <td>...</td>\n      <td>...</td>\n    </tr>\n    <tr>\n      <th>kontra k neues video</th>\n      <td>27</td>\n      <td>11.00</td>\n      <td>0.407407</td>\n      <td>11.00</td>\n    </tr>\n    <tr>\n      <th>vfx</th>\n      <td>32</td>\n      <td>13.00</td>\n      <td>0.406250</td>\n      <td>13.00</td>\n    </tr>\n    <tr>\n      <th>shaho casado</th>\n      <td>26</td>\n      <td>10.50</td>\n      <td>0.403846</td>\n      <td>10.50</td>\n    </tr>\n    <tr>\n      <th>warner bros</th>\n      <td>28</td>\n      <td>11.25</td>\n      <td>0.401786</td>\n      <td>11.25</td>\n    </tr>\n    <tr>\n      <th>lucas the spider</th>\n      <td>21</td>\n      <td>7.75</td>\n      <td>0.369048</td>\n      <td>7.75</td>\n    </tr>\n  </tbody>\n</table>\n<p>5828 rows × 4 columns</p>\n</div>"
     },
     "execution_count": 109,
     "metadata": {},
     "output_type": "execute_result"
    }
   ],
   "source": [
    "if limit_method == 'count':\n",
    "    tag_factors = tag_data.head(max_tag_count)\n",
    "elif limit_method == 'percent':\n",
    "    tag_factors = tag_data.head(int(len(tag_data)*max_tag_percent))\n",
    "else:\n",
    "    tag_factors = tag_data.copy()\n",
    "\n",
    "if filter_tags_by_usage:\n",
    "    tag_factors = tag_factors[tag_factors['count'] >= min_tag_usage]\n",
    "\n",
    "tag_factors['factor'] = tag_factors['sum'] / tag_factors['count']\n",
    "tag_factors['tag_weight'] = tag_factors['factor'] * tag_factors['count']\n",
    "tag_factors = tag_factors.sort_values(by='factor', ascending=False)\n",
    "tag_factors\n"
   ],
   "metadata": {
    "collapsed": false,
    "pycharm": {
     "name": "#%%\n"
    }
   }
  },
  {
   "cell_type": "markdown",
   "source": [
    "## Apply Tag factors"
   ],
   "metadata": {
    "collapsed": false,
    "pycharm": {
     "name": "#%% md\n"
    }
   }
  },
  {
   "cell_type": "code",
   "execution_count": 110,
   "outputs": [
    {
     "data": {
      "text/plain": "                                                   title  tag_factor\n0      Sing zu Ende! | Gesangseinlagen vom Feinsten |...    0.512928\n1      Kinder ferngesteuert im Kiosk! Erwachsene abzo...    0.612439\n2      The Trump Presidency: Last Week Tonight with J...    0.686567\n3                                    Das Fermi-Paradoxon    0.633594\n4               18 SONGS mit Kelly MissesVlog (Sing-off)    0.541702\n...                                                  ...         ...\n40835  KINGDOM HEARTS III – E3 2018 Pirates of the Ca...    0.725610\n40836                                     YMS: The Visit         NaN\n40837  Ungut umgeschult – Grünwald als Ersthelfer am ...    0.661601\n40838  Assassin's Creed Odyssey: E3 2018 Welt-Enthüll...    0.654359\n40839  Гироскутер - Азбука Уральских Пельменей Б - Ур...         NaN\n\n[40840 rows x 2 columns]",
      "text/html": "<div>\n<style scoped>\n    .dataframe tbody tr th:only-of-type {\n        vertical-align: middle;\n    }\n\n    .dataframe tbody tr th {\n        vertical-align: top;\n    }\n\n    .dataframe thead th {\n        text-align: right;\n    }\n</style>\n<table border=\"1\" class=\"dataframe\">\n  <thead>\n    <tr style=\"text-align: right;\">\n      <th></th>\n      <th>title</th>\n      <th>tag_factor</th>\n    </tr>\n  </thead>\n  <tbody>\n    <tr>\n      <th>0</th>\n      <td>Sing zu Ende! | Gesangseinlagen vom Feinsten |...</td>\n      <td>0.512928</td>\n    </tr>\n    <tr>\n      <th>1</th>\n      <td>Kinder ferngesteuert im Kiosk! Erwachsene abzo...</td>\n      <td>0.612439</td>\n    </tr>\n    <tr>\n      <th>2</th>\n      <td>The Trump Presidency: Last Week Tonight with J...</td>\n      <td>0.686567</td>\n    </tr>\n    <tr>\n      <th>3</th>\n      <td>Das Fermi-Paradoxon</td>\n      <td>0.633594</td>\n    </tr>\n    <tr>\n      <th>4</th>\n      <td>18 SONGS mit Kelly MissesVlog (Sing-off)</td>\n      <td>0.541702</td>\n    </tr>\n    <tr>\n      <th>...</th>\n      <td>...</td>\n      <td>...</td>\n    </tr>\n    <tr>\n      <th>40835</th>\n      <td>KINGDOM HEARTS III – E3 2018 Pirates of the Ca...</td>\n      <td>0.725610</td>\n    </tr>\n    <tr>\n      <th>40836</th>\n      <td>YMS: The Visit</td>\n      <td>NaN</td>\n    </tr>\n    <tr>\n      <th>40837</th>\n      <td>Ungut umgeschult – Grünwald als Ersthelfer am ...</td>\n      <td>0.661601</td>\n    </tr>\n    <tr>\n      <th>40838</th>\n      <td>Assassin's Creed Odyssey: E3 2018 Welt-Enthüll...</td>\n      <td>0.654359</td>\n    </tr>\n    <tr>\n      <th>40839</th>\n      <td>Гироскутер - Азбука Уральских Пельменей Б - Ур...</td>\n      <td>NaN</td>\n    </tr>\n  </tbody>\n</table>\n<p>40840 rows × 2 columns</p>\n</div>"
     },
     "execution_count": 110,
     "metadata": {},
     "output_type": "execute_result"
    }
   ],
   "source": [
    "def calculate_tag_factor(data):\n",
    "    tag_list = list()\n",
    "    for t in data:\n",
    "        factor = tag_factors['factor'].get(t, None)\n",
    "        if factor is not None :\n",
    "            tag_list.append(factor)\n",
    "    return np.nan if len(tag_list) == 0 else np.mean(tag_list)\n",
    "df['tag_factor'] = df['parsed_tags'].apply(calculate_tag_factor)\n",
    "\n",
    "df[['title','tag_factor']]"
   ],
   "metadata": {
    "collapsed": false,
    "pycharm": {
     "name": "#%%\n"
    }
   }
  },
  {
   "cell_type": "markdown",
   "source": [
    "### Remove entries with no value and sort by factor"
   ],
   "metadata": {
    "collapsed": false,
    "pycharm": {
     "name": "#%% md\n"
    }
   }
  },
  {
   "cell_type": "code",
   "execution_count": 111,
   "outputs": [
    {
     "data": {
      "text/plain": "          video_id                                              title  \\\n36468  nujkpx_I-F8  10 gefährliche Beauty-Erfindungen, die der Ver...   \n28203  axUt32vmdcM  Forscher haben endlich die ganze Wahrheit über...   \n26919  T3tU-OTajlw  12 versteckte Botschaften in berühmten Logos, ...   \n35472  k6RMYTgWk-8  GS Warriors vs Houston Rockets - Full Game Hig...   \n32426  89MA-LdPuQ8  Cleveland Cavaliers vs Toronto Raptors - Full ...   \n...            ...                                                ...   \n27200  tUBMQsSNTPY  JIM KNOPF UND LUKAS DER LOKOMOTIVFÜHRER - Tra...   \n26742  tUBMQsSNTPY  JIM KNOPF UND LUKAS DER LOKOMOTIVFÜHRER - Tra...   \n34143  1I-eQH5Nbyg  DEEP BLUE SEA 2 - Trailer #1 Deutsch HD German...   \n26592  tUBMQsSNTPY  JIM KNOPF UND LUKAS DER LOKOMOTIVFÜHRER - Tra...   \n34507  1I-eQH5Nbyg  DEEP BLUE SEA 2 - Trailer #1 Deutsch HD German...   \n\n       tag_factor  tag_count  \n36468    0.814286         20  \n28203    0.814286         14  \n26919    0.814286         10  \n35472    0.794368          7  \n32426    0.794368          8  \n...           ...        ...  \n27200    0.401786         16  \n26742    0.401786         16  \n34143    0.401786         21  \n26592    0.401786         16  \n34507    0.401786         21  \n\n[34760 rows x 4 columns]",
      "text/html": "<div>\n<style scoped>\n    .dataframe tbody tr th:only-of-type {\n        vertical-align: middle;\n    }\n\n    .dataframe tbody tr th {\n        vertical-align: top;\n    }\n\n    .dataframe thead th {\n        text-align: right;\n    }\n</style>\n<table border=\"1\" class=\"dataframe\">\n  <thead>\n    <tr style=\"text-align: right;\">\n      <th></th>\n      <th>video_id</th>\n      <th>title</th>\n      <th>tag_factor</th>\n      <th>tag_count</th>\n    </tr>\n  </thead>\n  <tbody>\n    <tr>\n      <th>36468</th>\n      <td>nujkpx_I-F8</td>\n      <td>10 gefährliche Beauty-Erfindungen, die der Ver...</td>\n      <td>0.814286</td>\n      <td>20</td>\n    </tr>\n    <tr>\n      <th>28203</th>\n      <td>axUt32vmdcM</td>\n      <td>Forscher haben endlich die ganze Wahrheit über...</td>\n      <td>0.814286</td>\n      <td>14</td>\n    </tr>\n    <tr>\n      <th>26919</th>\n      <td>T3tU-OTajlw</td>\n      <td>12 versteckte Botschaften in berühmten Logos, ...</td>\n      <td>0.814286</td>\n      <td>10</td>\n    </tr>\n    <tr>\n      <th>35472</th>\n      <td>k6RMYTgWk-8</td>\n      <td>GS Warriors vs Houston Rockets - Full Game Hig...</td>\n      <td>0.794368</td>\n      <td>7</td>\n    </tr>\n    <tr>\n      <th>32426</th>\n      <td>89MA-LdPuQ8</td>\n      <td>Cleveland Cavaliers vs Toronto Raptors - Full ...</td>\n      <td>0.794368</td>\n      <td>8</td>\n    </tr>\n    <tr>\n      <th>...</th>\n      <td>...</td>\n      <td>...</td>\n      <td>...</td>\n      <td>...</td>\n    </tr>\n    <tr>\n      <th>27200</th>\n      <td>tUBMQsSNTPY</td>\n      <td>JIM KNOPF UND LUKAS DER LOKOMOTIVFÜHRER - Tra...</td>\n      <td>0.401786</td>\n      <td>16</td>\n    </tr>\n    <tr>\n      <th>26742</th>\n      <td>tUBMQsSNTPY</td>\n      <td>JIM KNOPF UND LUKAS DER LOKOMOTIVFÜHRER - Tra...</td>\n      <td>0.401786</td>\n      <td>16</td>\n    </tr>\n    <tr>\n      <th>34143</th>\n      <td>1I-eQH5Nbyg</td>\n      <td>DEEP BLUE SEA 2 - Trailer #1 Deutsch HD German...</td>\n      <td>0.401786</td>\n      <td>21</td>\n    </tr>\n    <tr>\n      <th>26592</th>\n      <td>tUBMQsSNTPY</td>\n      <td>JIM KNOPF UND LUKAS DER LOKOMOTIVFÜHRER - Tra...</td>\n      <td>0.401786</td>\n      <td>16</td>\n    </tr>\n    <tr>\n      <th>34507</th>\n      <td>1I-eQH5Nbyg</td>\n      <td>DEEP BLUE SEA 2 - Trailer #1 Deutsch HD German...</td>\n      <td>0.401786</td>\n      <td>21</td>\n    </tr>\n  </tbody>\n</table>\n<p>34760 rows × 4 columns</p>\n</div>"
     },
     "execution_count": 111,
     "metadata": {},
     "output_type": "execute_result"
    }
   ],
   "source": [
    "target_videos = df[df['tag_factor'].notna()]\n",
    "target_videos[['video_id','title','tag_factor', 'tag_count']].sort_values(by=['tag_factor'], ascending=False)"
   ],
   "metadata": {
    "collapsed": false,
    "pycharm": {
     "name": "#%%\n"
    }
   }
  },
  {
   "cell_type": "markdown",
   "source": [
    "## Data coverage"
   ],
   "metadata": {
    "collapsed": false,
    "pycharm": {
     "name": "#%% md\n"
    }
   }
  },
  {
   "cell_type": "code",
   "execution_count": 112,
   "outputs": [
    {
     "data": {
      "text/plain": "0.8511263467189031"
     },
     "execution_count": 112,
     "metadata": {},
     "output_type": "execute_result"
    }
   ],
   "source": [
    "len(target_videos.index) / len(df.index)"
   ],
   "metadata": {
    "collapsed": false,
    "pycharm": {
     "name": "#%%\n"
    }
   }
  },
  {
   "cell_type": "markdown",
   "source": [
    "## Save tag factors to csv"
   ],
   "metadata": {
    "collapsed": false,
    "pycharm": {
     "name": "#%% md\n"
    }
   }
  },
  {
   "cell_type": "code",
   "execution_count": 113,
   "outputs": [],
   "source": [
    "tag_data = tag_factors.copy()\n",
    "tag_data['tags'] = tag_data.index\n",
    "tag_data[['tags','factor','count']].to_csv('../data/'+data_lan_code+'tags.csv', header=['tag','factor','count'], index=False)"
   ],
   "metadata": {
    "collapsed": false,
    "pycharm": {
     "name": "#%%\n"
    }
   }
  },
  {
   "cell_type": "markdown",
   "source": [
    "## Load Tags"
   ],
   "metadata": {
    "collapsed": false,
    "pycharm": {
     "name": "#%% md\n"
    }
   }
  },
  {
   "cell_type": "code",
   "execution_count": 114,
   "outputs": [
    {
     "data": {
      "text/plain": "               factor  count\ntag                         \nfull game    0.880435     23\nsplit        0.862500     20\nwellness     0.852273     22\nneuer modus  0.843750     24\nlcs          0.840909     22",
      "text/html": "<div>\n<style scoped>\n    .dataframe tbody tr th:only-of-type {\n        vertical-align: middle;\n    }\n\n    .dataframe tbody tr th {\n        vertical-align: top;\n    }\n\n    .dataframe thead th {\n        text-align: right;\n    }\n</style>\n<table border=\"1\" class=\"dataframe\">\n  <thead>\n    <tr style=\"text-align: right;\">\n      <th></th>\n      <th>factor</th>\n      <th>count</th>\n    </tr>\n    <tr>\n      <th>tag</th>\n      <th></th>\n      <th></th>\n    </tr>\n  </thead>\n  <tbody>\n    <tr>\n      <th>full game</th>\n      <td>0.880435</td>\n      <td>23</td>\n    </tr>\n    <tr>\n      <th>split</th>\n      <td>0.862500</td>\n      <td>20</td>\n    </tr>\n    <tr>\n      <th>wellness</th>\n      <td>0.852273</td>\n      <td>22</td>\n    </tr>\n    <tr>\n      <th>neuer modus</th>\n      <td>0.843750</td>\n      <td>24</td>\n    </tr>\n    <tr>\n      <th>lcs</th>\n      <td>0.840909</td>\n      <td>22</td>\n    </tr>\n  </tbody>\n</table>\n</div>"
     },
     "execution_count": 114,
     "metadata": {},
     "output_type": "execute_result"
    }
   ],
   "source": [
    "tag_df = pd.read_csv('../data/'+data_lan_code+'tags.csv')\n",
    "tag_df = tag_df.set_index('tag')\n",
    "tag_df.head()"
   ],
   "metadata": {
    "collapsed": false,
    "pycharm": {
     "name": "#%%\n"
    }
   }
  },
  {
   "cell_type": "markdown",
   "source": [
    "## Converter function"
   ],
   "metadata": {
    "collapsed": false,
    "pycharm": {
     "name": "#%% md\n"
    }
   }
  },
  {
   "cell_type": "code",
   "execution_count": 115,
   "outputs": [],
   "source": [
    "def calculate_tag_factor(tag_string, tag_values):\n",
    "    return pd.Series(list(set(map(lambda x: x.strip('\\\"').lower(), tag_string.split('|')))))\\\n",
    "        .apply(lambda n: tag_values['factor'].get(n, np.nan))\\\n",
    "        .mean(skipna=True)"
   ],
   "metadata": {
    "collapsed": false,
    "pycharm": {
     "name": "#%%\n"
    }
   }
  },
  {
   "cell_type": "markdown",
   "source": [
    "## Test function"
   ],
   "metadata": {
    "collapsed": false,
    "pycharm": {
     "name": "#%% md\n"
    }
   }
  },
  {
   "cell_type": "code",
   "source": [
    "test_df = pd.read_csv('../data/'+data_lan_code+'videos.csv')\n",
    "test_df = test_df.head(10) # Just use head to reduce runtime\n",
    "test_df['tag_factors'] = test_df['tags'].apply(lambda x: calculate_tag_factor(x, tag_df))\n",
    "test_df[['video_id','title','channel_title','tags','tag_factors']]"
   ],
   "metadata": {
    "collapsed": false,
    "pycharm": {
     "name": "#%%\n"
    }
   },
   "execution_count": 116,
   "outputs": [
    {
     "data": {
      "text/plain": "      video_id                                              title  \\\n0  LgVi6y5QIjM  Sing zu Ende! | Gesangseinlagen vom Feinsten |...   \n1  Bayt7uQith4  Kinder ferngesteuert im Kiosk! Erwachsene abzo...   \n2  1ZAPwfrtAFY  The Trump Presidency: Last Week Tonight with J...   \n3  AHtypnRk7JE                                Das Fermi-Paradoxon   \n4  ZJ9We4bjcg0           18 SONGS mit Kelly MissesVlog (Sing-off)   \n5  xapGFgWqtg4  Geld verdienen mit Online-Umfragen? Geht das w...   \n6  EIM7RMe39JY                       Kanaken auf der Klassenfahrt   \n7  PaWTaj6Iie0  3 unbekannte Gesichter von Film/Serien-Charakt...   \n8  GHct2dGNLks         Antoine leiht Auto von Ernährungsberaterin   \n9  aZYSFByDGkg  Legenden: So wird dein Ruhm unsterblich - Fame...   \n\n             channel_title                                               tags  \\\n0                inscope21  inscope21|\"sing zu ende\"|\"gesangseinlagen\"|\"ge...   \n1  LUKE! Die Woche und ich  Kinder|\"ferngesteuert\"|\"Kinder ferngesteuert\"|...   \n2          LastWeekTonight  last week tonight trump presidency|\"last week ...   \n3        100SekundenPhysik  Physik|\"Wissenschaft\"|\"Technik\"|\"Science-Ficti...   \n4                     rezo  kelly|\"missesvlog\"|\"kelly song\"|\"bausa\"|\"bausa...   \n5          Die Allestester                                             [none]   \n6               Bodyformus  kanaken|\"kurden\"|\"türken\"|\"schule\"|\"schulzeit\"...   \n7               Jay & Arya  unbekannte gesichte charakter|\"unbekannte gesi...   \n8              TeddyComedy  Antoine Auto|\"Antoine Boot Camp\"|\"Antoine Ernä...   \n9                  WALULIS  michael jackson|\"promi\"|\"tot\"|\"tod\"|\"gestorben...   \n\n   tag_factors  \n0     0.512928  \n1     0.612439  \n2     0.686567  \n3     0.633594  \n4     0.541702  \n5          NaN  \n6     0.590316  \n7     0.526124  \n8     0.602571  \n9     0.609751  ",
      "text/html": "<div>\n<style scoped>\n    .dataframe tbody tr th:only-of-type {\n        vertical-align: middle;\n    }\n\n    .dataframe tbody tr th {\n        vertical-align: top;\n    }\n\n    .dataframe thead th {\n        text-align: right;\n    }\n</style>\n<table border=\"1\" class=\"dataframe\">\n  <thead>\n    <tr style=\"text-align: right;\">\n      <th></th>\n      <th>video_id</th>\n      <th>title</th>\n      <th>channel_title</th>\n      <th>tags</th>\n      <th>tag_factors</th>\n    </tr>\n  </thead>\n  <tbody>\n    <tr>\n      <th>0</th>\n      <td>LgVi6y5QIjM</td>\n      <td>Sing zu Ende! | Gesangseinlagen vom Feinsten |...</td>\n      <td>inscope21</td>\n      <td>inscope21|\"sing zu ende\"|\"gesangseinlagen\"|\"ge...</td>\n      <td>0.512928</td>\n    </tr>\n    <tr>\n      <th>1</th>\n      <td>Bayt7uQith4</td>\n      <td>Kinder ferngesteuert im Kiosk! Erwachsene abzo...</td>\n      <td>LUKE! Die Woche und ich</td>\n      <td>Kinder|\"ferngesteuert\"|\"Kinder ferngesteuert\"|...</td>\n      <td>0.612439</td>\n    </tr>\n    <tr>\n      <th>2</th>\n      <td>1ZAPwfrtAFY</td>\n      <td>The Trump Presidency: Last Week Tonight with J...</td>\n      <td>LastWeekTonight</td>\n      <td>last week tonight trump presidency|\"last week ...</td>\n      <td>0.686567</td>\n    </tr>\n    <tr>\n      <th>3</th>\n      <td>AHtypnRk7JE</td>\n      <td>Das Fermi-Paradoxon</td>\n      <td>100SekundenPhysik</td>\n      <td>Physik|\"Wissenschaft\"|\"Technik\"|\"Science-Ficti...</td>\n      <td>0.633594</td>\n    </tr>\n    <tr>\n      <th>4</th>\n      <td>ZJ9We4bjcg0</td>\n      <td>18 SONGS mit Kelly MissesVlog (Sing-off)</td>\n      <td>rezo</td>\n      <td>kelly|\"missesvlog\"|\"kelly song\"|\"bausa\"|\"bausa...</td>\n      <td>0.541702</td>\n    </tr>\n    <tr>\n      <th>5</th>\n      <td>xapGFgWqtg4</td>\n      <td>Geld verdienen mit Online-Umfragen? Geht das w...</td>\n      <td>Die Allestester</td>\n      <td>[none]</td>\n      <td>NaN</td>\n    </tr>\n    <tr>\n      <th>6</th>\n      <td>EIM7RMe39JY</td>\n      <td>Kanaken auf der Klassenfahrt</td>\n      <td>Bodyformus</td>\n      <td>kanaken|\"kurden\"|\"türken\"|\"schule\"|\"schulzeit\"...</td>\n      <td>0.590316</td>\n    </tr>\n    <tr>\n      <th>7</th>\n      <td>PaWTaj6Iie0</td>\n      <td>3 unbekannte Gesichter von Film/Serien-Charakt...</td>\n      <td>Jay &amp; Arya</td>\n      <td>unbekannte gesichte charakter|\"unbekannte gesi...</td>\n      <td>0.526124</td>\n    </tr>\n    <tr>\n      <th>8</th>\n      <td>GHct2dGNLks</td>\n      <td>Antoine leiht Auto von Ernährungsberaterin</td>\n      <td>TeddyComedy</td>\n      <td>Antoine Auto|\"Antoine Boot Camp\"|\"Antoine Ernä...</td>\n      <td>0.602571</td>\n    </tr>\n    <tr>\n      <th>9</th>\n      <td>aZYSFByDGkg</td>\n      <td>Legenden: So wird dein Ruhm unsterblich - Fame...</td>\n      <td>WALULIS</td>\n      <td>michael jackson|\"promi\"|\"tot\"|\"tod\"|\"gestorben...</td>\n      <td>0.609751</td>\n    </tr>\n  </tbody>\n</table>\n</div>"
     },
     "execution_count": 116,
     "metadata": {},
     "output_type": "execute_result"
    }
   ]
  }
 ],
 "metadata": {
  "kernelspec": {
   "display_name": "Python 3",
   "language": "python",
   "name": "python3"
  },
  "language_info": {
   "codemirror_mode": {
    "name": "ipython",
    "version": 2
   },
   "file_extension": ".py",
   "mimetype": "text/x-python",
   "name": "python",
   "nbconvert_exporter": "python",
   "pygments_lexer": "ipython2",
   "version": "2.7.6"
  }
 },
 "nbformat": 4,
 "nbformat_minor": 0
}