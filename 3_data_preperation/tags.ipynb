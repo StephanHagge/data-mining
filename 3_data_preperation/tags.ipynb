{
 "cells": [
  {
   "cell_type": "markdown",
   "source": [
    "# Tag preparation\n",
    "Because the tags of each video consists of a sub-list they cannot be directly integrated into most models.\n",
    "The idea to allow the usage of tags inside the model without using specialized or complex algorithms is to condense them down to a single value.\n",
    "For this reason we developed our own algorithm to calculate a factor between 0 and 1\n",
    "that describes the relation of how close a single tag is related to the *trending category* of a video.\n",
    "The *trending category* has been directly obtained from the data understanding phase.\n",
    "\n",
    "The processing of list based data was implemented with the help of [this](https://towardsdatascience.com/dealing-with-list-values-in-pandas-dataframes-a177e534f173) article."
   ],
   "metadata": {
    "collapsed": false,
    "pycharm": {
     "name": "#%% md\n"
    }
   }
  },
  {
   "cell_type": "code",
   "execution_count": 66,
   "outputs": [],
   "source": [
    "import numpy as np\n",
    "import pandas as pd\n",
    "import seaborn as sns\n",
    "import matplotlib.pyplot as plt\n",
    "import pycountry\n",
    "\n",
    "from datetime import datetime\n",
    "\n",
    "%matplotlib inline\n",
    "plt.rcParams['figure.figsize'] = (20, 6)"
   ],
   "metadata": {
    "collapsed": false,
    "pycharm": {
     "name": "#%%\n"
    }
   }
  },
  {
   "cell_type": "markdown",
   "source": [
    "## Configuration Parameter\n",
    "List of parameters used to configure the algorithm and usage of data.\n",
    "Change the *data_lan_code* to perform the calculation for different regions."
   ],
   "metadata": {
    "collapsed": false,
    "pycharm": {
     "name": "#%% md\n"
    }
   }
  },
  {
   "cell_type": "code",
   "execution_count": 67,
   "outputs": [],
   "source": [
    "data_lan_code = 'DE'\n",
    "\n",
    "filter_countries = True\n",
    "filter_languages = False # Resource intensive, use with care\n",
    "\n",
    "#limit_method = 'count'\n",
    "#limit_method = 'percent'\n",
    "limit_method = None\n",
    "max_tag_count = 100\n",
    "max_tag_percent = 0.5\n",
    "\n",
    "# Always applied after tag limit calculation\n",
    "filter_tags_by_usage = True\n",
    "min_tag_usage = 20"
   ],
   "metadata": {
    "collapsed": false,
    "pycharm": {
     "name": "#%%\n"
    }
   }
  },
  {
   "cell_type": "markdown",
   "source": [
    "# Prepare data\n",
    "Loading of the data specified in the configuration section as well as calculation of the\n",
    "*trending category* that is required for later calculation. Columns that are not required will be\n",
    "dropped to reduce memory usage."
   ],
   "metadata": {
    "collapsed": false
   }
  },
  {
   "cell_type": "code",
   "execution_count": 68,
   "outputs": [
    {
     "data": {
      "text/plain": "      video_id                                              title  \\\n0  2kyS6SvSYSE                 WE WANT TO TALK ABOUT OUR MARRIAGE   \n1  1ZAPwfrtAFY  The Trump Presidency: Last Week Tonight with J...   \n2  5qpjK5DgCt4  Racist Superman | Rudy Mancuso, King Bach & Le...   \n3  puqaWrEC7tY                   Nickelback Lyrics: Real or Fake?   \n4  d380meD0W0M                           I Dare You: GOING BALD!?   \n\n                                                tags  trending_category  \n0                                    SHANtell martin                  1  \n1  last week tonight trump presidency|\"last week ...                  1  \n2  racist superman|\"rudy\"|\"mancuso\"|\"king\"|\"bach\"...                  2  \n3  rhett and link|\"gmm\"|\"good mythical morning\"|\"...                  1  \n4  ryan|\"higa\"|\"higatv\"|\"nigahiga\"|\"i dare you\"|\"...                  2  ",
      "text/html": "<div>\n<style scoped>\n    .dataframe tbody tr th:only-of-type {\n        vertical-align: middle;\n    }\n\n    .dataframe tbody tr th {\n        vertical-align: top;\n    }\n\n    .dataframe thead th {\n        text-align: right;\n    }\n</style>\n<table border=\"1\" class=\"dataframe\">\n  <thead>\n    <tr style=\"text-align: right;\">\n      <th></th>\n      <th>video_id</th>\n      <th>title</th>\n      <th>tags</th>\n      <th>trending_category</th>\n    </tr>\n  </thead>\n  <tbody>\n    <tr>\n      <th>0</th>\n      <td>2kyS6SvSYSE</td>\n      <td>WE WANT TO TALK ABOUT OUR MARRIAGE</td>\n      <td>SHANtell martin</td>\n      <td>1</td>\n    </tr>\n    <tr>\n      <th>1</th>\n      <td>1ZAPwfrtAFY</td>\n      <td>The Trump Presidency: Last Week Tonight with J...</td>\n      <td>last week tonight trump presidency|\"last week ...</td>\n      <td>1</td>\n    </tr>\n    <tr>\n      <th>2</th>\n      <td>5qpjK5DgCt4</td>\n      <td>Racist Superman | Rudy Mancuso, King Bach &amp; Le...</td>\n      <td>racist superman|\"rudy\"|\"mancuso\"|\"king\"|\"bach\"...</td>\n      <td>2</td>\n    </tr>\n    <tr>\n      <th>3</th>\n      <td>puqaWrEC7tY</td>\n      <td>Nickelback Lyrics: Real or Fake?</td>\n      <td>rhett and link|\"gmm\"|\"good mythical morning\"|\"...</td>\n      <td>1</td>\n    </tr>\n    <tr>\n      <th>4</th>\n      <td>d380meD0W0M</td>\n      <td>I Dare You: GOING BALD!?</td>\n      <td>ryan|\"higa\"|\"higatv\"|\"nigahiga\"|\"i dare you\"|\"...</td>\n      <td>2</td>\n    </tr>\n  </tbody>\n</table>\n</div>"
     },
     "execution_count": 68,
     "metadata": {},
     "output_type": "execute_result"
    }
   ],
   "source": [
    "df = pd.read_csv('../0_data/'+ data_lan_code + 'videos.csv')\n",
    "\n",
    "def assign_trending_category(row):\n",
    "    if row['days_until_trending'] == 0:\n",
    "        return 0 # 0 Days\n",
    "    elif row['days_until_trending'] == 1:\n",
    "        return 1 # 1 Day\n",
    "    elif row['days_until_trending'] == 2:\n",
    "        return 2 # 2 Days\n",
    "    elif row['days_until_trending'] <= 5:\n",
    "        return 3 # 3 - 5 Days\n",
    "    else:\n",
    "        return 4 # > 5 Days\n",
    "\n",
    "df['days_until_trending'] = df.apply(lambda x: ((datetime.strptime(x['trending_date'], '%y.%d.%m') - datetime.strptime(x['publish_time'], '%Y-%m-%dT%H:%M:%S.000Z')).days + 1), axis=1)\n",
    "df['trending_category'] = df.apply(assign_trending_category, axis=1)\n",
    "\n",
    "df = df.drop(['trending_date','category_id', 'publish_time', 'views', 'likes','dislikes',\n",
    "         'comment_count', 'thumbnail_link', 'comments_disabled', 'ratings_disabled',\n",
    "         'video_error_or_removed', 'description', 'days_until_trending',\n",
    "          'channel_title'], axis=1)\n",
    "df.head()"
   ],
   "metadata": {
    "collapsed": false,
    "pycharm": {
     "name": "#%%\n"
    }
   }
  },
  {
   "cell_type": "markdown",
   "source": [
    "### Parse tags and convert\n",
    "The tags cannot be used as they are provided by the data because the are stored as a single string.\n",
    "Therefore, additional parsing and formatting is required to convert them to a list that can be used by Python.\n",
    "\n",
    "The following formatting is applied:\n",
    "* Remove enclosing quotation marks (\"\")\n",
    "* convert to lower case\n",
    "* remove duplicates (due to conversion to lower)\n",
    "\n",
    "One goal of the tag preparation is to be independent of time and location therefore additional filtering is required.\n",
    "\n",
    "Tags will be excluded when:\n",
    "* The tag matches the '[none]' tag (Video has no tags assigned)\n",
    "* The tag is a number (to remove time related data like years)\n",
    "* The tag describes a country\n",
    "* The tag describes a language (resource intensive due to large amount of languages)\n",
    "\n",
    "To filter languages and countries a special package called [pycountry](https://pypi.org/project/pycountry/) is used."
   ],
   "metadata": {
    "collapsed": false
   }
  },
  {
   "cell_type": "code",
   "execution_count": 69,
   "outputs": [
    {
     "data": {
      "text/plain": "0                                    [shantell martin]\n1    [last week tonight trump presidency, last week...\n2    [racist superman, rudy, mancuso, king, bach, r...\n3    [rhett and link, gmm, good mythical morning, r...\n4    [ryan, higa, higatv, nigahiga, i dare you, idy...\nName: parsed_tags, dtype: object"
     },
     "execution_count": 69,
     "metadata": {},
     "output_type": "execute_result"
    }
   ],
   "source": [
    "countries = [s.name for s in pycountry.countries]\n",
    "languages = [s.name for s in pycountry.languages]\n",
    "\n",
    "def isValidTag(s):\n",
    "    return s != '[none]' \\\n",
    "    and not s.isnumeric() \\\n",
    "    and not(filter_countries and s in countries) \\\n",
    "    and not (filter_languages and s in languages)\n",
    "def formatData(s):\n",
    "    s2 = map(lambda x: x.strip('\\\"').lower(), s)\n",
    "    res = []\n",
    "    [res.append(x) for x in s2 if x not in res]\n",
    "    return res\n",
    "\n",
    "df['parsed_tags'] = df['tags'].str.split('|')\\\n",
    "    .apply(formatData)\\\n",
    "    .apply(lambda x: list(filter(isValidTag, x)))\n",
    "df = df.drop('tags', axis=1)\n",
    "df['parsed_tags'].head()\n"
   ],
   "metadata": {
    "collapsed": false,
    "pycharm": {
     "name": "#%%\n"
    }
   }
  },
  {
   "cell_type": "markdown",
   "source": [
    "## Calculate tag count per video"
   ],
   "metadata": {
    "collapsed": false,
    "pycharm": {
     "name": "#%% md\n"
    }
   }
  },
  {
   "cell_type": "code",
   "execution_count": 70,
   "outputs": [
    {
     "data": {
      "text/plain": "      video_id                                              title  \\\n0  2kyS6SvSYSE                 WE WANT TO TALK ABOUT OUR MARRIAGE   \n1  1ZAPwfrtAFY  The Trump Presidency: Last Week Tonight with J...   \n2  5qpjK5DgCt4  Racist Superman | Rudy Mancuso, King Bach & Le...   \n3  puqaWrEC7tY                   Nickelback Lyrics: Real or Fake?   \n4  d380meD0W0M                           I Dare You: GOING BALD!?   \n\n   trending_category                                        parsed_tags  \\\n0                  1                                  [shantell martin]   \n1                  1  [last week tonight trump presidency, last week...   \n2                  2  [racist superman, rudy, mancuso, king, bach, r...   \n3                  1  [rhett and link, gmm, good mythical morning, r...   \n4                  2  [ryan, higa, higatv, nigahiga, i dare you, idy...   \n\n   tag_count  \n0          1  \n1          4  \n2         23  \n3         27  \n4         14  ",
      "text/html": "<div>\n<style scoped>\n    .dataframe tbody tr th:only-of-type {\n        vertical-align: middle;\n    }\n\n    .dataframe tbody tr th {\n        vertical-align: top;\n    }\n\n    .dataframe thead th {\n        text-align: right;\n    }\n</style>\n<table border=\"1\" class=\"dataframe\">\n  <thead>\n    <tr style=\"text-align: right;\">\n      <th></th>\n      <th>video_id</th>\n      <th>title</th>\n      <th>trending_category</th>\n      <th>parsed_tags</th>\n      <th>tag_count</th>\n    </tr>\n  </thead>\n  <tbody>\n    <tr>\n      <th>0</th>\n      <td>2kyS6SvSYSE</td>\n      <td>WE WANT TO TALK ABOUT OUR MARRIAGE</td>\n      <td>1</td>\n      <td>[shantell martin]</td>\n      <td>1</td>\n    </tr>\n    <tr>\n      <th>1</th>\n      <td>1ZAPwfrtAFY</td>\n      <td>The Trump Presidency: Last Week Tonight with J...</td>\n      <td>1</td>\n      <td>[last week tonight trump presidency, last week...</td>\n      <td>4</td>\n    </tr>\n    <tr>\n      <th>2</th>\n      <td>5qpjK5DgCt4</td>\n      <td>Racist Superman | Rudy Mancuso, King Bach &amp; Le...</td>\n      <td>2</td>\n      <td>[racist superman, rudy, mancuso, king, bach, r...</td>\n      <td>23</td>\n    </tr>\n    <tr>\n      <th>3</th>\n      <td>puqaWrEC7tY</td>\n      <td>Nickelback Lyrics: Real or Fake?</td>\n      <td>1</td>\n      <td>[rhett and link, gmm, good mythical morning, r...</td>\n      <td>27</td>\n    </tr>\n    <tr>\n      <th>4</th>\n      <td>d380meD0W0M</td>\n      <td>I Dare You: GOING BALD!?</td>\n      <td>2</td>\n      <td>[ryan, higa, higatv, nigahiga, i dare you, idy...</td>\n      <td>14</td>\n    </tr>\n  </tbody>\n</table>\n</div>"
     },
     "execution_count": 70,
     "metadata": {},
     "output_type": "execute_result"
    }
   ],
   "source": [
    "df['tag_count'] = df.apply( lambda x: len(x['parsed_tags']), axis=1)\n",
    "df.head()"
   ],
   "metadata": {
    "collapsed": false,
    "pycharm": {
     "name": "#%%\n"
    }
   }
  },
  {
   "cell_type": "markdown",
   "source": [
    "## Utility data\n",
    "This section is not necessary for the calculation and only displays some statistical information.\n"
   ],
   "metadata": {
    "collapsed": false
   }
  },
  {
   "cell_type": "markdown",
   "source": [
    "### Total number of tags"
   ],
   "metadata": {
    "collapsed": false,
    "pycharm": {
     "name": "#%% md\n"
    }
   }
  },
  {
   "cell_type": "code",
   "execution_count": 71,
   "outputs": [
    {
     "data": {
      "text/plain": "800146"
     },
     "execution_count": 71,
     "metadata": {},
     "output_type": "execute_result"
    }
   ],
   "source": [
    "def to_1D(series):\n",
    "    return pd.Series([x for _list in series for x in _list])\n",
    "tag_counts = to_1D(df['parsed_tags']).value_counts()\n",
    "tag_counts.name = \"counts\"\n",
    "tag_counts.sum()"
   ],
   "metadata": {
    "collapsed": false,
    "pycharm": {
     "name": "#%%\n"
    }
   }
  },
  {
   "cell_type": "markdown",
   "source": [
    "### Most used tags"
   ],
   "metadata": {
    "collapsed": false
   }
  },
  {
   "cell_type": "code",
   "execution_count": 72,
   "outputs": [
    {
     "data": {
      "text/plain": "<AxesSubplot:>"
     },
     "execution_count": 72,
     "metadata": {},
     "output_type": "execute_result"
    },
    {
     "data": {
      "text/plain": "<Figure size 1440x432 with 1 Axes>",
      "image/png": "[encoded data removed]"
     },
     "metadata": {
      "needs_background": "light"
     },
     "output_type": "display_data"
    }
   ],
   "source": [
    "top_tags = tag_counts.head(20)\n",
    "sns.barplot(x=top_tags.index, y=top_tags.values)"
   ],
   "metadata": {
    "collapsed": false,
    "pycharm": {
     "name": "#%%\n"
    }
   }
  },
  {
   "cell_type": "markdown",
   "source": [
    "## Tags as correlation matrix\n",
    "Disclaimer: The calculation of the binary table over the given tag data can be quite resource intensive.\n",
    "It is recommended to not use to large values for *tags_start* and *tags_end* because the required calculation\n",
    "time grows quite fast."
   ],
   "metadata": {
    "collapsed": false
   }
  },
  {
   "cell_type": "code",
   "execution_count": 73,
   "outputs": [
    {
     "data": {
      "text/plain": "<AxesSubplot:>"
     },
     "execution_count": 73,
     "metadata": {},
     "output_type": "execute_result"
    },
    {
     "data": {
      "text/plain": "<Figure size 648x360 with 2 Axes>",
      "image/png": "[encoded data removed]"
     },
     "metadata": {
      "needs_background": "light"
     },
     "output_type": "display_data"
    }
   ],
   "source": [
    "tags_start = 0\n",
    "tags_end = 20\n",
    "\n",
    "def boolean_df(item_lists, items):\n",
    "    bool_dict={}\n",
    "    for i, item in enumerate(items):\n",
    "        bool_dict[item] = item_lists.apply(lambda x: item in x)\n",
    "    return pd.DataFrame(bool_dict)\n",
    "\n",
    "unique_items = tag_counts.head(tags_end).tail(tags_end-tags_start).index\n",
    "tags_int = boolean_df(df['parsed_tags'], unique_items).astype(int)\n",
    "tags_freq_mat = np.dot(tags_int.T, tags_int)\n",
    "np.fill_diagonal(tags_freq_mat, 0) # Used to filter self correlations to increase visibility\n",
    "tags_freq = pd.DataFrame(tags_freq_mat, columns = unique_items, index = unique_items)\n",
    "\n",
    "fix, ax = plt.subplots(figsize = (9,5))\n",
    "sns.heatmap(tags_freq, cmap = \"Blues\")\n",
    "#plt.savefig(\"heatmap.png\", dpi = 300)"
   ],
   "metadata": {
    "collapsed": false,
    "pycharm": {
     "name": "#%%\n"
    }
   }
  },
  {
   "cell_type": "markdown",
   "source": [
    "## Calculate Tag factors\n",
    "Each tag is assigned a factor that defines how good it contributes to reaching a high *trending_category*.\n",
    "The resulting value is mapped onto the scale between 0 and 1 where 0 means low or no contribution\n",
    "and 1 the highest contribution.\n",
    "### Gather Tag Data"
   ],
   "metadata": {
    "collapsed": false,
    "pycharm": {
     "name": "#%% md\n"
    }
   }
  },
  {
   "cell_type": "code",
   "execution_count": 74,
   "outputs": [
    {
     "data": {
      "text/plain": "                                    count    sum\nshantell martin                        11   3.25\nlast week tonight trump presidency      7   2.00\nlast week tonight donald trump          7   2.00\njohn oliver trump                      15   4.00\ndonald trump                          307  88.25\n...                                   ...    ...\nbest smashburgers                       1   0.50\nhamburger recipe                        1   0.50\nhow to make hamburgers                  1   0.50\nbest hamburger                          1   0.50\nlangford                                1   0.75\n\n[51473 rows x 2 columns]",
      "text/html": "<div>\n<style scoped>\n    .dataframe tbody tr th:only-of-type {\n        vertical-align: middle;\n    }\n\n    .dataframe tbody tr th {\n        vertical-align: top;\n    }\n\n    .dataframe thead th {\n        text-align: right;\n    }\n</style>\n<table border=\"1\" class=\"dataframe\">\n  <thead>\n    <tr style=\"text-align: right;\">\n      <th></th>\n      <th>count</th>\n      <th>sum</th>\n    </tr>\n  </thead>\n  <tbody>\n    <tr>\n      <th>shantell martin</th>\n      <td>11</td>\n      <td>3.25</td>\n    </tr>\n    <tr>\n      <th>last week tonight trump presidency</th>\n      <td>7</td>\n      <td>2.00</td>\n    </tr>\n    <tr>\n      <th>last week tonight donald trump</th>\n      <td>7</td>\n      <td>2.00</td>\n    </tr>\n    <tr>\n      <th>john oliver trump</th>\n      <td>15</td>\n      <td>4.00</td>\n    </tr>\n    <tr>\n      <th>donald trump</th>\n      <td>307</td>\n      <td>88.25</td>\n    </tr>\n    <tr>\n      <th>...</th>\n      <td>...</td>\n      <td>...</td>\n    </tr>\n    <tr>\n      <th>best smashburgers</th>\n      <td>1</td>\n      <td>0.50</td>\n    </tr>\n    <tr>\n      <th>hamburger recipe</th>\n      <td>1</td>\n      <td>0.50</td>\n    </tr>\n    <tr>\n      <th>how to make hamburgers</th>\n      <td>1</td>\n      <td>0.50</td>\n    </tr>\n    <tr>\n      <th>best hamburger</th>\n      <td>1</td>\n      <td>0.50</td>\n    </tr>\n    <tr>\n      <th>langford</th>\n      <td>1</td>\n      <td>0.75</td>\n    </tr>\n  </tbody>\n</table>\n<p>51473 rows × 2 columns</p>\n</div>"
     },
     "execution_count": 74,
     "metadata": {},
     "output_type": "execute_result"
    }
   ],
   "source": [
    "factors = {\n",
    "    0 : 1.0,\n",
    "    1 : 0.75,\n",
    "    2 : 0.5,\n",
    "    3 : 0.25,\n",
    "    4 : 0.0\n",
    "}\n",
    "\n",
    "tag_index = {}\n",
    "for index, row in df.iterrows():\n",
    "    cat = row['trending_category']\n",
    "    trending_value = factors[cat]\n",
    "    for tag in row['parsed_tags']:\n",
    "        if tag in tag_index:\n",
    "            tag_index[tag]['count'] += 1\n",
    "            tag_index[tag]['sum'] += trending_value\n",
    "        else:\n",
    "            tag_index[tag] = { 'count': 1, 'sum': trending_value }\n",
    "\n",
    "tag_data = pd.DataFrame.from_dict(tag_index, orient='index')\n",
    "tag_data"
   ],
   "metadata": {
    "collapsed": false,
    "pycharm": {
     "name": "#%%\n"
    }
   }
  },
  {
   "cell_type": "markdown",
   "source": [
    "### Filter Data and calculate Factor\n",
    "The problem of the tag data is, that not each tag can be used for the calculation because there is not enough data about it.\n",
    "Therefore, two parameterized limitations are introduced.\n",
    "\n",
    "The first method is a filtering by either picking a fixed number of tags (based on usage), or a certain\n",
    "percentage of all tags. The second method is a limitation based on how often a tag is used to ascertain a minimum of\n",
    "entries for the evaluation.\n",
    "\n",
    "The results are stored in a separate table for later calculation.\n",
    "\n",
    "Note: The column *tag_weight* is added for comparison purposes and has no real meaning."
   ],
   "metadata": {
    "collapsed": false,
    "pycharm": {
     "name": "#%% md\n"
    }
   }
  },
  {
   "cell_type": "code",
   "execution_count": 75,
   "outputs": [
    {
     "data": {
      "text/plain": "                                    count    sum    factor  tag_weight\nthe roots                              23  12.75  0.554348       12.75\nespn nba                               28  14.75  0.526786       14.75\nnba on espn                            24  12.50  0.520833       12.50\nplvahqwmqn4m1uq5jitdkmnrxznwtug-dp     39  20.00  0.512821       20.00\nnba finals                             22  11.25  0.511364       11.25\n...                                   ...    ...       ...         ...\nwhite spider                           24   0.00  0.000000        0.00\namv                                    24   0.00  0.000000        0.00\nanimated short                         24   0.00  0.000000        0.00\nthesis film                            24   0.00  0.000000        0.00\ndragonfoxgirl                          24   0.00  0.000000        0.00\n\n[7844 rows x 4 columns]",
      "text/html": "<div>\n<style scoped>\n    .dataframe tbody tr th:only-of-type {\n        vertical-align: middle;\n    }\n\n    .dataframe tbody tr th {\n        vertical-align: top;\n    }\n\n    .dataframe thead th {\n        text-align: right;\n    }\n</style>\n<table border=\"1\" class=\"dataframe\">\n  <thead>\n    <tr style=\"text-align: right;\">\n      <th></th>\n      <th>count</th>\n      <th>sum</th>\n      <th>factor</th>\n      <th>tag_weight</th>\n    </tr>\n  </thead>\n  <tbody>\n    <tr>\n      <th>the roots</th>\n      <td>23</td>\n      <td>12.75</td>\n      <td>0.554348</td>\n      <td>12.75</td>\n    </tr>\n    <tr>\n      <th>espn nba</th>\n      <td>28</td>\n      <td>14.75</td>\n      <td>0.526786</td>\n      <td>14.75</td>\n    </tr>\n    <tr>\n      <th>nba on espn</th>\n      <td>24</td>\n      <td>12.50</td>\n      <td>0.520833</td>\n      <td>12.50</td>\n    </tr>\n    <tr>\n      <th>plvahqwmqn4m1uq5jitdkmnrxznwtug-dp</th>\n      <td>39</td>\n      <td>20.00</td>\n      <td>0.512821</td>\n      <td>20.00</td>\n    </tr>\n    <tr>\n      <th>nba finals</th>\n      <td>22</td>\n      <td>11.25</td>\n      <td>0.511364</td>\n      <td>11.25</td>\n    </tr>\n    <tr>\n      <th>...</th>\n      <td>...</td>\n      <td>...</td>\n      <td>...</td>\n      <td>...</td>\n    </tr>\n    <tr>\n      <th>white spider</th>\n      <td>24</td>\n      <td>0.00</td>\n      <td>0.000000</td>\n      <td>0.00</td>\n    </tr>\n    <tr>\n      <th>amv</th>\n      <td>24</td>\n      <td>0.00</td>\n      <td>0.000000</td>\n      <td>0.00</td>\n    </tr>\n    <tr>\n      <th>animated short</th>\n      <td>24</td>\n      <td>0.00</td>\n      <td>0.000000</td>\n      <td>0.00</td>\n    </tr>\n    <tr>\n      <th>thesis film</th>\n      <td>24</td>\n      <td>0.00</td>\n      <td>0.000000</td>\n      <td>0.00</td>\n    </tr>\n    <tr>\n      <th>dragonfoxgirl</th>\n      <td>24</td>\n      <td>0.00</td>\n      <td>0.000000</td>\n      <td>0.00</td>\n    </tr>\n  </tbody>\n</table>\n<p>7844 rows × 4 columns</p>\n</div>"
     },
     "execution_count": 75,
     "metadata": {},
     "output_type": "execute_result"
    }
   ],
   "source": [
    "filtered_tag_factors = tag_data.copy()\n",
    "\n",
    "if limit_method == 'count':\n",
    "    filtered_tag_factors = filtered_tag_factors.head(max_tag_count)\n",
    "elif limit_method == 'percent':\n",
    "    filtered_tag_factors = filtered_tag_factors.head(int(len(filtered_tag_factors)*max_tag_percent))\n",
    "else:\n",
    "    filtered_tag_factors = filtered_tag_factors.copy()\n",
    "\n",
    "if filter_tags_by_usage:\n",
    "    filtered_tag_factors = filtered_tag_factors[filtered_tag_factors['count'] >= min_tag_usage]\n",
    "\n",
    "filtered_tag_factors['factor'] = filtered_tag_factors['sum'] / filtered_tag_factors['count']\n",
    "filtered_tag_factors['tag_weight'] = filtered_tag_factors['factor'] * filtered_tag_factors['count']\n",
    "filtered_tag_factors = filtered_tag_factors.sort_values(by='factor', ascending=False)\n",
    "filtered_tag_factors"
   ],
   "metadata": {
    "collapsed": false,
    "pycharm": {
     "name": "#%%\n"
    }
   }
  },
  {
   "cell_type": "markdown",
   "source": [
    "### Factor based on usage limit\n",
    "Choosing the correct values to filter the tags can be difficult. This section displays how the resulting\n",
    "factors change based on a *usage limitation* between 1 and 1000."
   ],
   "metadata": {
    "collapsed": false,
    "pycharm": {
     "name": "#%% md\n"
    }
   }
  },
  {
   "cell_type": "code",
   "execution_count": 84,
   "outputs": [
    {
     "data": {
      "text/plain": "<Figure size 1440x432 with 1 Axes>",
      "image/png": "[encoded data removed]"
     },
     "metadata": {
      "needs_background": "light"
     },
     "output_type": "display_data"
    }
   ],
   "source": [
    "tag_stat = pd.DataFrame(columns=tag_data.describe().index )\n",
    "\n",
    "for i in range(1,1001,1):\n",
    "    data = tag_data[tag_data['count'] >= i]\n",
    "    factor_data = data['sum'] / data['count']\n",
    "    stat = factor_data.describe()\n",
    "    stat.name = i\n",
    "    tag_stat = tag_stat.append(stat)\n",
    "fig = sns.lineplot(data = tag_stat[['min','max','mean','std']], dashes=False)\n",
    "plt.xlabel(\"Min Tag uses\")\n",
    "plt.ylabel(\"Factor\")\n",
    "plt.title(data_lan_code)\n",
    "\n",
    "#plt.savefig('stats'+data_lan_code+'.png', dpi = 300)\n",
    "#tag_stat.to_csv('tag_stats_' + data_lan_code + '.csv')\n",
    "\n",
    "plt.show(fig)"
   ],
   "metadata": {
    "collapsed": false,
    "pycharm": {
     "name": "#%%\n"
    }
   }
  },
  {
   "cell_type": "markdown",
   "source": [
    "### Apply Tag factors\n",
    "The calculated factors are applied back to the used data. If a video has multiple tags\n",
    "the **mean** over all of them is used."
   ],
   "metadata": {
    "collapsed": false,
    "pycharm": {
     "name": "#%% md\n"
    }
   }
  },
  {
   "cell_type": "code",
   "execution_count": 77,
   "outputs": [
    {
     "data": {
      "text/plain": "                                                   title  tag_factor\n0                     WE WANT TO TALK ABOUT OUR MARRIAGE         NaN\n1      The Trump Presidency: Last Week Tonight with J...    0.287459\n2      Racist Superman | Rudy Mancuso, King Bach & Le...    0.160649\n3                       Nickelback Lyrics: Real or Fake?    0.222322\n4                               I Dare You: GOING BALD!?    0.158517\n...                                                  ...         ...\n40944                       The Cat Who Caught the Laser    0.128234\n40945                         True Facts : Ant Mutualism         NaN\n40946  I GAVE SAFIYA NYGAARD A PERFECT HAIR MAKEOVER ...    0.110300\n40947                How Black Panther Should Have Ended    0.165798\n40948  Official Call of Duty®: Black Ops 4 — Multipla...    0.068571\n\n[40949 rows x 2 columns]",
      "text/html": "<div>\n<style scoped>\n    .dataframe tbody tr th:only-of-type {\n        vertical-align: middle;\n    }\n\n    .dataframe tbody tr th {\n        vertical-align: top;\n    }\n\n    .dataframe thead th {\n        text-align: right;\n    }\n</style>\n<table border=\"1\" class=\"dataframe\">\n  <thead>\n    <tr style=\"text-align: right;\">\n      <th></th>\n      <th>title</th>\n      <th>tag_factor</th>\n    </tr>\n  </thead>\n  <tbody>\n    <tr>\n      <th>0</th>\n      <td>WE WANT TO TALK ABOUT OUR MARRIAGE</td>\n      <td>NaN</td>\n    </tr>\n    <tr>\n      <th>1</th>\n      <td>The Trump Presidency: Last Week Tonight with J...</td>\n      <td>0.287459</td>\n    </tr>\n    <tr>\n      <th>2</th>\n      <td>Racist Superman | Rudy Mancuso, King Bach &amp; Le...</td>\n      <td>0.160649</td>\n    </tr>\n    <tr>\n      <th>3</th>\n      <td>Nickelback Lyrics: Real or Fake?</td>\n      <td>0.222322</td>\n    </tr>\n    <tr>\n      <th>4</th>\n      <td>I Dare You: GOING BALD!?</td>\n      <td>0.158517</td>\n    </tr>\n    <tr>\n      <th>...</th>\n      <td>...</td>\n      <td>...</td>\n    </tr>\n    <tr>\n      <th>40944</th>\n      <td>The Cat Who Caught the Laser</td>\n      <td>0.128234</td>\n    </tr>\n    <tr>\n      <th>40945</th>\n      <td>True Facts : Ant Mutualism</td>\n      <td>NaN</td>\n    </tr>\n    <tr>\n      <th>40946</th>\n      <td>I GAVE SAFIYA NYGAARD A PERFECT HAIR MAKEOVER ...</td>\n      <td>0.110300</td>\n    </tr>\n    <tr>\n      <th>40947</th>\n      <td>How Black Panther Should Have Ended</td>\n      <td>0.165798</td>\n    </tr>\n    <tr>\n      <th>40948</th>\n      <td>Official Call of Duty®: Black Ops 4 — Multipla...</td>\n      <td>0.068571</td>\n    </tr>\n  </tbody>\n</table>\n<p>40949 rows × 2 columns</p>\n</div>"
     },
     "execution_count": 77,
     "metadata": {},
     "output_type": "execute_result"
    }
   ],
   "source": [
    "def calculate_tag_factor(data):\n",
    "    tag_list = list()\n",
    "    for t in data:\n",
    "        factor = filtered_tag_factors['factor'].get(t, None)\n",
    "        if factor is not None :\n",
    "            tag_list.append(factor)\n",
    "    return np.nan if len(tag_list) == 0 else np.mean(tag_list)\n",
    "df['tag_factor'] = df['parsed_tags'].apply(calculate_tag_factor)\n",
    "\n",
    "df[['title','tag_factor']]"
   ],
   "metadata": {
    "collapsed": false,
    "pycharm": {
     "name": "#%%\n"
    }
   }
  },
  {
   "cell_type": "markdown",
   "source": [
    "### Remove entries without value and sort by factor\n",
    "If either not all tags of the data are used for the calculation, or some videos have no tags at all\n",
    "the calculated factor equals *NaN*. Here these \"invalid\" rows are filtered out. Additionally, the data is\n",
    "sorted by their factor to show the best results."
   ],
   "metadata": {
    "collapsed": false,
    "pycharm": {
     "name": "#%% md\n"
    }
   }
  },
  {
   "cell_type": "code",
   "execution_count": 78,
   "outputs": [
    {
     "data": {
      "text/plain": "          video_id                                              title  \\\n7859   PitmObjGur4       Dick Enberg dies at 82 | SportsCenter | ESPN   \n38959  C0KnxhQMLBU  Stephen A. Smith goes off after Game 2: It's t...   \n39381  C0KnxhQMLBU  Stephen A. Smith goes off after Game 2: It's t...   \n39173  C0KnxhQMLBU  Stephen A. Smith goes off after Game 2: It's t...   \n25165  22iCU_bsApA  First Take interviews Trae Young after he decl...   \n...            ...                                                ...   \n37103  tjA7nAHOAww  LSD - Audio (Official Video) ft. Sia, Diplo, L...   \n36272  tjA7nAHOAww  LSD - Audio (Official Video) ft. Sia, Diplo, L...   \n35431  tjA7nAHOAww               LSD - Audio ft. Sia, Diplo, Labrinth   \n37918  tjA7nAHOAww  LSD - Audio (Official Video) ft. Sia, Diplo, L...   \n37714  tjA7nAHOAww  LSD - Audio (Official Video) ft. Sia, Diplo, L...   \n\n       tag_factor  tag_count  \n7859     0.430020          5  \n38959    0.427279         28  \n39381    0.427279         28  \n39173    0.427279         28  \n25165    0.419570         21  \n...           ...        ...  \n37103    0.019459         30  \n36272    0.019459         30  \n35431    0.019459         30  \n37918    0.019459         30  \n37714    0.019459         30  \n\n[38301 rows x 4 columns]",
      "text/html": "<div>\n<style scoped>\n    .dataframe tbody tr th:only-of-type {\n        vertical-align: middle;\n    }\n\n    .dataframe tbody tr th {\n        vertical-align: top;\n    }\n\n    .dataframe thead th {\n        text-align: right;\n    }\n</style>\n<table border=\"1\" class=\"dataframe\">\n  <thead>\n    <tr style=\"text-align: right;\">\n      <th></th>\n      <th>video_id</th>\n      <th>title</th>\n      <th>tag_factor</th>\n      <th>tag_count</th>\n    </tr>\n  </thead>\n  <tbody>\n    <tr>\n      <th>7859</th>\n      <td>PitmObjGur4</td>\n      <td>Dick Enberg dies at 82 | SportsCenter | ESPN</td>\n      <td>0.430020</td>\n      <td>5</td>\n    </tr>\n    <tr>\n      <th>38959</th>\n      <td>C0KnxhQMLBU</td>\n      <td>Stephen A. Smith goes off after Game 2: It's t...</td>\n      <td>0.427279</td>\n      <td>28</td>\n    </tr>\n    <tr>\n      <th>39381</th>\n      <td>C0KnxhQMLBU</td>\n      <td>Stephen A. Smith goes off after Game 2: It's t...</td>\n      <td>0.427279</td>\n      <td>28</td>\n    </tr>\n    <tr>\n      <th>39173</th>\n      <td>C0KnxhQMLBU</td>\n      <td>Stephen A. Smith goes off after Game 2: It's t...</td>\n      <td>0.427279</td>\n      <td>28</td>\n    </tr>\n    <tr>\n      <th>25165</th>\n      <td>22iCU_bsApA</td>\n      <td>First Take interviews Trae Young after he decl...</td>\n      <td>0.419570</td>\n      <td>21</td>\n    </tr>\n    <tr>\n      <th>...</th>\n      <td>...</td>\n      <td>...</td>\n      <td>...</td>\n      <td>...</td>\n    </tr>\n    <tr>\n      <th>37103</th>\n      <td>tjA7nAHOAww</td>\n      <td>LSD - Audio (Official Video) ft. Sia, Diplo, L...</td>\n      <td>0.019459</td>\n      <td>30</td>\n    </tr>\n    <tr>\n      <th>36272</th>\n      <td>tjA7nAHOAww</td>\n      <td>LSD - Audio (Official Video) ft. Sia, Diplo, L...</td>\n      <td>0.019459</td>\n      <td>30</td>\n    </tr>\n    <tr>\n      <th>35431</th>\n      <td>tjA7nAHOAww</td>\n      <td>LSD - Audio ft. Sia, Diplo, Labrinth</td>\n      <td>0.019459</td>\n      <td>30</td>\n    </tr>\n    <tr>\n      <th>37918</th>\n      <td>tjA7nAHOAww</td>\n      <td>LSD - Audio (Official Video) ft. Sia, Diplo, L...</td>\n      <td>0.019459</td>\n      <td>30</td>\n    </tr>\n    <tr>\n      <th>37714</th>\n      <td>tjA7nAHOAww</td>\n      <td>LSD - Audio (Official Video) ft. Sia, Diplo, L...</td>\n      <td>0.019459</td>\n      <td>30</td>\n    </tr>\n  </tbody>\n</table>\n<p>38301 rows × 4 columns</p>\n</div>"
     },
     "execution_count": 78,
     "metadata": {},
     "output_type": "execute_result"
    }
   ],
   "source": [
    "target_videos = df[df['tag_factor'].notna()]\n",
    "target_videos[['video_id','title','tag_factor', 'tag_count']].sort_values(by=['tag_factor'], ascending=False)"
   ],
   "metadata": {
    "collapsed": false,
    "pycharm": {
     "name": "#%%\n"
    }
   }
  },
  {
   "cell_type": "markdown",
   "source": [
    "### Data coverage\n",
    "Due to the filtering some data is lost."
   ],
   "metadata": {
    "collapsed": false,
    "pycharm": {
     "name": "#%% md\n"
    }
   }
  },
  {
   "cell_type": "code",
   "execution_count": 79,
   "outputs": [
    {
     "data": {
      "text/plain": "0.9353341961952673"
     },
     "execution_count": 79,
     "metadata": {},
     "output_type": "execute_result"
    }
   ],
   "source": [
    "len(target_videos.index) / len(df.index)"
   ],
   "metadata": {
    "collapsed": false,
    "pycharm": {
     "name": "#%%\n"
    }
   }
  },
  {
   "cell_type": "markdown",
   "source": [
    "### Save tag factors to csv\n",
    "The calculated factors are saved into a *csv* file to be used in the other notebooks."
   ],
   "metadata": {
    "collapsed": false,
    "pycharm": {
     "name": "#%% md\n"
    }
   }
  },
  {
   "cell_type": "code",
   "execution_count": 80,
   "outputs": [],
   "source": [
    "tag_data = filtered_tag_factors.copy()\n",
    "tag_data['tags'] = tag_data.index\n",
    "tag_data[['tags','factor','count']].to_csv('../0_data/'+data_lan_code+'tags.csv', header=['tag','factor','count'], index=False)"
   ],
   "metadata": {
    "collapsed": false,
    "pycharm": {
     "name": "#%%\n"
    }
   }
  },
  {
   "cell_type": "markdown",
   "source": [
    "## Loading and Testing data\n",
    "To check if the data can be retrieved in the same way as it was stored.\n",
    "\n",
    "The index of the table needs to be set manually after loading due to technical limitation of the *csv*-Format."
   ],
   "metadata": {
    "collapsed": false,
    "pycharm": {
     "name": "#%% md\n"
    }
   }
  },
  {
   "cell_type": "code",
   "execution_count": 81,
   "outputs": [
    {
     "data": {
      "text/plain": "                                      factor  count\ntag                                                \nthe roots                           0.554348     23\nespn nba                            0.526786     28\nnba on espn                         0.520833     24\nplvahqwmqn4m1uq5jitdkmnrxznwtug-dp  0.512821     39\nnba finals                          0.511364     22",
      "text/html": "<div>\n<style scoped>\n    .dataframe tbody tr th:only-of-type {\n        vertical-align: middle;\n    }\n\n    .dataframe tbody tr th {\n        vertical-align: top;\n    }\n\n    .dataframe thead th {\n        text-align: right;\n    }\n</style>\n<table border=\"1\" class=\"dataframe\">\n  <thead>\n    <tr style=\"text-align: right;\">\n      <th></th>\n      <th>factor</th>\n      <th>count</th>\n    </tr>\n    <tr>\n      <th>tag</th>\n      <th></th>\n      <th></th>\n    </tr>\n  </thead>\n  <tbody>\n    <tr>\n      <th>the roots</th>\n      <td>0.554348</td>\n      <td>23</td>\n    </tr>\n    <tr>\n      <th>espn nba</th>\n      <td>0.526786</td>\n      <td>28</td>\n    </tr>\n    <tr>\n      <th>nba on espn</th>\n      <td>0.520833</td>\n      <td>24</td>\n    </tr>\n    <tr>\n      <th>plvahqwmqn4m1uq5jitdkmnrxznwtug-dp</th>\n      <td>0.512821</td>\n      <td>39</td>\n    </tr>\n    <tr>\n      <th>nba finals</th>\n      <td>0.511364</td>\n      <td>22</td>\n    </tr>\n  </tbody>\n</table>\n</div>"
     },
     "execution_count": 81,
     "metadata": {},
     "output_type": "execute_result"
    }
   ],
   "source": [
    "tag_df = pd.read_csv('../0_data/'+data_lan_code+'tags.csv')\n",
    "tag_df = tag_df.set_index('tag')\n",
    "tag_df.head()"
   ],
   "metadata": {
    "collapsed": false,
    "pycharm": {
     "name": "#%%\n"
    }
   }
  },
  {
   "cell_type": "markdown",
   "source": [
    "### Converter function\n",
    "This function can be used to calculate the tag factor based on the unparsed tag data. Values that are\n",
    "not part of the given factor data will be excluded.\n",
    "\n",
    "Note: If used inside PyCharm the editor may display a warning for this function which is a false positive,\n",
    "the function is working as intended."
   ],
   "metadata": {
    "collapsed": false,
    "pycharm": {
     "name": "#%% md\n"
    }
   }
  },
  {
   "cell_type": "code",
   "execution_count": 82,
   "outputs": [],
   "source": [
    "def calculate_tag_factor(tag_string, tag_values):\n",
    "    return pd.Series(list(set(map(lambda x: x.strip('\\\"').lower(), tag_string.split('|')))))\\\n",
    "        .apply(lambda n: tag_values['factor'].get(n, np.nan))\\\n",
    "        .mean(skipna=True)"
   ],
   "metadata": {
    "collapsed": false,
    "pycharm": {
     "name": "#%%\n"
    }
   }
  },
  {
   "cell_type": "markdown",
   "source": [
    "### Test converter function\n",
    "Test the function and compare it to the calculated factors above."
   ],
   "metadata": {
    "collapsed": false,
    "pycharm": {
     "name": "#%% md\n"
    }
   }
  },
  {
   "cell_type": "code",
   "source": [
    "test_df = pd.read_csv('../0_data/'+data_lan_code+'videos.csv')\n",
    "test_df = test_df.head(10) # Just use head to reduce runtime\n",
    "test_df['tag_factors'] = test_df['tags'].apply(lambda x: calculate_tag_factor(x, tag_df))\n",
    "test_df[['video_id','title','channel_title','tags','tag_factors']]"
   ],
   "metadata": {
    "collapsed": false,
    "pycharm": {
     "name": "#%%\n"
    }
   },
   "execution_count": 83,
   "outputs": [
    {
     "data": {
      "text/plain": "      video_id                                              title  \\\n0  2kyS6SvSYSE                 WE WANT TO TALK ABOUT OUR MARRIAGE   \n1  1ZAPwfrtAFY  The Trump Presidency: Last Week Tonight with J...   \n2  5qpjK5DgCt4  Racist Superman | Rudy Mancuso, King Bach & Le...   \n3  puqaWrEC7tY                   Nickelback Lyrics: Real or Fake?   \n4  d380meD0W0M                           I Dare You: GOING BALD!?   \n5  gHZ1Qz0KiKM                              2 Weeks with iPhone X   \n6  39idVpFF7NQ          Roy Moore & Jeff Sessions Cold Open - SNL   \n7  nc99ccSXST0                5 Ice Cream Gadgets put to the Test   \n8  jr9QtXwC9vc  The Greatest Showman | Official Trailer 2 [HD]...   \n9  TUmyygCMMGA  Why the rise of the robots won’t mean the end ...   \n\n           channel_title                                               tags  \\\n0           CaseyNeistat                                    SHANtell martin   \n1        LastWeekTonight  last week tonight trump presidency|\"last week ...   \n2           Rudy Mancuso  racist superman|\"rudy\"|\"mancuso\"|\"king\"|\"bach\"...   \n3  Good Mythical Morning  rhett and link|\"gmm\"|\"good mythical morning\"|\"...   \n4               nigahiga  ryan|\"higa\"|\"higatv\"|\"nigahiga\"|\"i dare you\"|\"...   \n5               iJustine  ijustine|\"week with iPhone X\"|\"iphone x\"|\"appl...   \n6    Saturday Night Live  SNL|\"Saturday Night Live\"|\"SNL Season 43\"|\"Epi...   \n7     CrazyRussianHacker  5 Ice Cream Gadgets|\"Ice Cream\"|\"Cream Sandwic...   \n8       20th Century Fox  Trailer|\"Hugh Jackman\"|\"Michelle Williams\"|\"Za...   \n9                    Vox  vox.com|\"vox\"|\"explain\"|\"shift change\"|\"future...   \n\n   tag_factors  \n0          NaN  \n1     0.287459  \n2     0.160649  \n3     0.222322  \n4     0.158517  \n5     0.216093  \n6     0.252062  \n7     0.170529  \n8     0.190162  \n9     0.252532  ",
      "text/html": "<div>\n<style scoped>\n    .dataframe tbody tr th:only-of-type {\n        vertical-align: middle;\n    }\n\n    .dataframe tbody tr th {\n        vertical-align: top;\n    }\n\n    .dataframe thead th {\n        text-align: right;\n    }\n</style>\n<table border=\"1\" class=\"dataframe\">\n  <thead>\n    <tr style=\"text-align: right;\">\n      <th></th>\n      <th>video_id</th>\n      <th>title</th>\n      <th>channel_title</th>\n      <th>tags</th>\n      <th>tag_factors</th>\n    </tr>\n  </thead>\n  <tbody>\n    <tr>\n      <th>0</th>\n      <td>2kyS6SvSYSE</td>\n      <td>WE WANT TO TALK ABOUT OUR MARRIAGE</td>\n      <td>CaseyNeistat</td>\n      <td>SHANtell martin</td>\n      <td>NaN</td>\n    </tr>\n    <tr>\n      <th>1</th>\n      <td>1ZAPwfrtAFY</td>\n      <td>The Trump Presidency: Last Week Tonight with J...</td>\n      <td>LastWeekTonight</td>\n      <td>last week tonight trump presidency|\"last week ...</td>\n      <td>0.287459</td>\n    </tr>\n    <tr>\n      <th>2</th>\n      <td>5qpjK5DgCt4</td>\n      <td>Racist Superman | Rudy Mancuso, King Bach &amp; Le...</td>\n      <td>Rudy Mancuso</td>\n      <td>racist superman|\"rudy\"|\"mancuso\"|\"king\"|\"bach\"...</td>\n      <td>0.160649</td>\n    </tr>\n    <tr>\n      <th>3</th>\n      <td>puqaWrEC7tY</td>\n      <td>Nickelback Lyrics: Real or Fake?</td>\n      <td>Good Mythical Morning</td>\n      <td>rhett and link|\"gmm\"|\"good mythical morning\"|\"...</td>\n      <td>0.222322</td>\n    </tr>\n    <tr>\n      <th>4</th>\n      <td>d380meD0W0M</td>\n      <td>I Dare You: GOING BALD!?</td>\n      <td>nigahiga</td>\n      <td>ryan|\"higa\"|\"higatv\"|\"nigahiga\"|\"i dare you\"|\"...</td>\n      <td>0.158517</td>\n    </tr>\n    <tr>\n      <th>5</th>\n      <td>gHZ1Qz0KiKM</td>\n      <td>2 Weeks with iPhone X</td>\n      <td>iJustine</td>\n      <td>ijustine|\"week with iPhone X\"|\"iphone x\"|\"appl...</td>\n      <td>0.216093</td>\n    </tr>\n    <tr>\n      <th>6</th>\n      <td>39idVpFF7NQ</td>\n      <td>Roy Moore &amp; Jeff Sessions Cold Open - SNL</td>\n      <td>Saturday Night Live</td>\n      <td>SNL|\"Saturday Night Live\"|\"SNL Season 43\"|\"Epi...</td>\n      <td>0.252062</td>\n    </tr>\n    <tr>\n      <th>7</th>\n      <td>nc99ccSXST0</td>\n      <td>5 Ice Cream Gadgets put to the Test</td>\n      <td>CrazyRussianHacker</td>\n      <td>5 Ice Cream Gadgets|\"Ice Cream\"|\"Cream Sandwic...</td>\n      <td>0.170529</td>\n    </tr>\n    <tr>\n      <th>8</th>\n      <td>jr9QtXwC9vc</td>\n      <td>The Greatest Showman | Official Trailer 2 [HD]...</td>\n      <td>20th Century Fox</td>\n      <td>Trailer|\"Hugh Jackman\"|\"Michelle Williams\"|\"Za...</td>\n      <td>0.190162</td>\n    </tr>\n    <tr>\n      <th>9</th>\n      <td>TUmyygCMMGA</td>\n      <td>Why the rise of the robots won’t mean the end ...</td>\n      <td>Vox</td>\n      <td>vox.com|\"vox\"|\"explain\"|\"shift change\"|\"future...</td>\n      <td>0.252532</td>\n    </tr>\n  </tbody>\n</table>\n</div>"
     },
     "execution_count": 83,
     "metadata": {},
     "output_type": "execute_result"
    }
   ]
  }
 ],
 "metadata": {
  "kernelspec": {
   "display_name": "Python 3",
   "language": "python",
   "name": "python3"
  },
  "language_info": {
   "codemirror_mode": {
    "name": "ipython",
    "version": 2
   },
   "file_extension": ".py",
   "mimetype": "text/x-python",
   "name": "python",
   "nbconvert_exporter": "python",
   "pygments_lexer": "ipython2",
   "version": "2.7.6"
  }
 },
 "nbformat": 4,
 "nbformat_minor": 0
}