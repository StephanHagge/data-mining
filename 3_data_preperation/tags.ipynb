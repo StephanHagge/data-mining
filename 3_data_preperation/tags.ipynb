{
 "cells": [
  {
   "cell_type": "markdown",
   "source": [
    "# Tag preparation\n",
    "Because the tags of each video consists of a sub-list they cannot be directly integrated into most models.\n",
    "The idea to allow the usage of tags inside the model without using specialized or complex algorithms is to condense them down to a single value.\n",
    "For this reason we developed our own algorithm to calculate a factor between 0 and 1\n",
    "that describes the relation of how close a single tag is related to the *trending category* of a video.\n",
    "The *trending category* has been directly obtained from the data understanding phase.\n",
    "\n",
    "The processing of list based data was implemented with the help of [this](https://towardsdatascience.com/dealing-with-list-values-in-pandas-dataframes-a177e534f173) article."
   ],
   "metadata": {
    "collapsed": false,
    "pycharm": {
     "name": "#%% md\n"
    }
   }
  },
  {
   "cell_type": "code",
   "execution_count": 48,
   "outputs": [],
   "source": [
    "import numpy as np\n",
    "import pandas as pd\n",
    "import seaborn as sns\n",
    "import matplotlib.pyplot as plt\n",
    "import pycountry\n",
    "\n",
    "from datetime import datetime\n",
    "\n",
    "%matplotlib inline\n",
    "plt.rcParams['figure.figsize'] = (20, 6)"
   ],
   "metadata": {
    "collapsed": false,
    "pycharm": {
     "name": "#%%\n"
    }
   }
  },
  {
   "cell_type": "markdown",
   "source": [
    "## Configuration Parameter\n",
    "List of parameters used to configure the algorithm and usage of data."
   ],
   "metadata": {
    "collapsed": false,
    "pycharm": {
     "name": "#%% md\n"
    }
   }
  },
  {
   "cell_type": "code",
   "execution_count": 49,
   "outputs": [],
   "source": [
    "data_lan_code = 'DE'\n",
    "\n",
    "filter_countries = True\n",
    "filter_languages = False # Resource intensive, use with care\n",
    "\n",
    "#limit_method = 'count'\n",
    "#limit_method = 'percent'\n",
    "limit_method = None\n",
    "max_tag_count = 100\n",
    "max_tag_percent = 0.5\n",
    "\n",
    "# Always applied after tag limit calculation\n",
    "filter_tags_by_usage = True\n",
    "min_tag_usage = 20"
   ],
   "metadata": {
    "collapsed": false,
    "pycharm": {
     "name": "#%%\n"
    }
   }
  },
  {
   "cell_type": "markdown",
   "source": [
    "# Prepare data\n",
    "Loading of the data specified in the configuration section as well as calculation of the\n",
    "*trending category* that is required for later calculation. Columns that are not required will be\n",
    "dropped to reduce memory usage."
   ],
   "metadata": {
    "collapsed": false
   }
  },
  {
   "cell_type": "code",
   "execution_count": 50,
   "outputs": [
    {
     "data": {
      "text/plain": "      video_id                                              title  \\\n0  LgVi6y5QIjM  Sing zu Ende! | Gesangseinlagen vom Feinsten |...   \n1  Bayt7uQith4  Kinder ferngesteuert im Kiosk! Erwachsene abzo...   \n2  1ZAPwfrtAFY  The Trump Presidency: Last Week Tonight with J...   \n3  AHtypnRk7JE                                Das Fermi-Paradoxon   \n4  ZJ9We4bjcg0           18 SONGS mit Kelly MissesVlog (Sing-off)   \n\n                                                tags  trending_category  \n0  inscope21|\"sing zu ende\"|\"gesangseinlagen\"|\"ge...                  1  \n1  Kinder|\"ferngesteuert\"|\"Kinder ferngesteuert\"|...                  2  \n2  last week tonight trump presidency|\"last week ...                  1  \n3  Physik|\"Wissenschaft\"|\"Technik\"|\"Science-Ficti...                  2  \n4  kelly|\"missesvlog\"|\"kelly song\"|\"bausa\"|\"bausa...                  2  ",
      "text/html": "<div>\n<style scoped>\n    .dataframe tbody tr th:only-of-type {\n        vertical-align: middle;\n    }\n\n    .dataframe tbody tr th {\n        vertical-align: top;\n    }\n\n    .dataframe thead th {\n        text-align: right;\n    }\n</style>\n<table border=\"1\" class=\"dataframe\">\n  <thead>\n    <tr style=\"text-align: right;\">\n      <th></th>\n      <th>video_id</th>\n      <th>title</th>\n      <th>tags</th>\n      <th>trending_category</th>\n    </tr>\n  </thead>\n  <tbody>\n    <tr>\n      <th>0</th>\n      <td>LgVi6y5QIjM</td>\n      <td>Sing zu Ende! | Gesangseinlagen vom Feinsten |...</td>\n      <td>inscope21|\"sing zu ende\"|\"gesangseinlagen\"|\"ge...</td>\n      <td>1</td>\n    </tr>\n    <tr>\n      <th>1</th>\n      <td>Bayt7uQith4</td>\n      <td>Kinder ferngesteuert im Kiosk! Erwachsene abzo...</td>\n      <td>Kinder|\"ferngesteuert\"|\"Kinder ferngesteuert\"|...</td>\n      <td>2</td>\n    </tr>\n    <tr>\n      <th>2</th>\n      <td>1ZAPwfrtAFY</td>\n      <td>The Trump Presidency: Last Week Tonight with J...</td>\n      <td>last week tonight trump presidency|\"last week ...</td>\n      <td>1</td>\n    </tr>\n    <tr>\n      <th>3</th>\n      <td>AHtypnRk7JE</td>\n      <td>Das Fermi-Paradoxon</td>\n      <td>Physik|\"Wissenschaft\"|\"Technik\"|\"Science-Ficti...</td>\n      <td>2</td>\n    </tr>\n    <tr>\n      <th>4</th>\n      <td>ZJ9We4bjcg0</td>\n      <td>18 SONGS mit Kelly MissesVlog (Sing-off)</td>\n      <td>kelly|\"missesvlog\"|\"kelly song\"|\"bausa\"|\"bausa...</td>\n      <td>2</td>\n    </tr>\n  </tbody>\n</table>\n</div>"
     },
     "execution_count": 50,
     "metadata": {},
     "output_type": "execute_result"
    }
   ],
   "source": [
    "df = pd.read_csv('../0_data/'+ data_lan_code + 'videos.csv')\n",
    "\n",
    "def assign_trending_category(row):\n",
    "    if row['days_until_trending'] == 0:\n",
    "        return 0 # 0 Days\n",
    "    elif row['days_until_trending'] == 1:\n",
    "        return 1 # 1 Day\n",
    "    elif row['days_until_trending'] == 2:\n",
    "        return 2 # 2 Days\n",
    "    elif row['days_until_trending'] <= 5:\n",
    "        return 3 # 3 - 5 Days\n",
    "    else:\n",
    "        return 4 # > 5 Days\n",
    "\n",
    "df['days_until_trending'] = df.apply(lambda x: ((datetime.strptime(x['trending_date'], '%y.%d.%m') - datetime.strptime(x['publish_time'], '%Y-%m-%dT%H:%M:%S.000Z')).days + 1), axis=1)\n",
    "df['trending_category'] = df.apply(assign_trending_category, axis=1)\n",
    "\n",
    "df = df.drop(['trending_date','category_id', 'publish_time', 'views', 'likes','dislikes',\n",
    "         'comment_count', 'thumbnail_link', 'comments_disabled', 'ratings_disabled',\n",
    "         'video_error_or_removed', 'description', 'days_until_trending',\n",
    "          'channel_title'], axis=1)\n",
    "df.head()"
   ],
   "metadata": {
    "collapsed": false,
    "pycharm": {
     "name": "#%%\n"
    }
   }
  },
  {
   "cell_type": "markdown",
   "source": [
    "### Parse tags and convert\n",
    "The tags cannot be used as they are provided by the data because the are stored as a single string.\n",
    "Therefore, additional parsing and formatting is required to convert them to a list that can be used by Python.\n",
    "\n",
    "The following formatting is applied:\n",
    "* Remove enclosing quotation marks (\"\")\n",
    "* convert to lower case\n",
    "* remove duplicates (due to conversion to lower)\n",
    "\n",
    "One goal of the tag preparation is to be independent of time and location therefore additional filtering is required.\n",
    "\n",
    "Tags will be excluded when:\n",
    "* The tag matches the '[none]' tag (Video has no tags assigned)\n",
    "* The tag is a number (to remove time related data like years)\n",
    "* The tag describes a country\n",
    "* The tag describes a language (resource intensive due to large amount of languages)\n",
    "\n",
    "To filter languages and countries a special package called [pycountry](https://pypi.org/project/pycountry/) is used."
   ],
   "metadata": {
    "collapsed": false
   }
  },
  {
   "cell_type": "code",
   "execution_count": 51,
   "outputs": [
    {
     "data": {
      "text/plain": "0    [inscope21, sing zu ende, gesangseinlagen, ges...\n1    [kinder, ferngesteuert, kinder ferngesteuert, ...\n2    [last week tonight trump presidency, last week...\n3    [physik, wissenschaft, technik, science-fictio...\n4    [kelly, missesvlog, kelly song, bausa, bausa w...\nName: parsed_tags, dtype: object"
     },
     "execution_count": 51,
     "metadata": {},
     "output_type": "execute_result"
    }
   ],
   "source": [
    "countries = [s.name for s in pycountry.countries]\n",
    "languages = [s.name for s in pycountry.languages]\n",
    "\n",
    "def isValidTag(s):\n",
    "    return s != '[none]' \\\n",
    "    and not s.isnumeric() \\\n",
    "    and not(filter_countries and s in countries) \\\n",
    "    and not (filter_languages and s in languages)\n",
    "def formatData(s):\n",
    "    s2 = map(lambda x: x.strip('\\\"').lower(), s)\n",
    "    res = []\n",
    "    [res.append(x) for x in s2 if x not in res]\n",
    "    return res\n",
    "\n",
    "df['parsed_tags'] = df['tags'].str.split('|')\\\n",
    "    .apply(formatData)\\\n",
    "    .apply(lambda x: list(filter(isValidTag, x)))\n",
    "df = df.drop('tags', axis=1)\n",
    "df['parsed_tags'].head()\n"
   ],
   "metadata": {
    "collapsed": false,
    "pycharm": {
     "name": "#%%\n"
    }
   }
  },
  {
   "cell_type": "markdown",
   "source": [
    "## Calculate tag count per video"
   ],
   "metadata": {
    "collapsed": false,
    "pycharm": {
     "name": "#%% md\n"
    }
   }
  },
  {
   "cell_type": "code",
   "execution_count": 52,
   "outputs": [
    {
     "data": {
      "text/plain": "      video_id                                              title  \\\n0  LgVi6y5QIjM  Sing zu Ende! | Gesangseinlagen vom Feinsten |...   \n1  Bayt7uQith4  Kinder ferngesteuert im Kiosk! Erwachsene abzo...   \n2  1ZAPwfrtAFY  The Trump Presidency: Last Week Tonight with J...   \n3  AHtypnRk7JE                                Das Fermi-Paradoxon   \n4  ZJ9We4bjcg0           18 SONGS mit Kelly MissesVlog (Sing-off)   \n\n   trending_category                                        parsed_tags  \\\n0                  1  [inscope21, sing zu ende, gesangseinlagen, ges...   \n1                  2  [kinder, ferngesteuert, kinder ferngesteuert, ...   \n2                  1  [last week tonight trump presidency, last week...   \n3                  2  [physik, wissenschaft, technik, science-fictio...   \n4                  2  [kelly, missesvlog, kelly song, bausa, bausa w...   \n\n   tag_count  \n0         16  \n1         27  \n2          4  \n3          9  \n4          5  ",
      "text/html": "<div>\n<style scoped>\n    .dataframe tbody tr th:only-of-type {\n        vertical-align: middle;\n    }\n\n    .dataframe tbody tr th {\n        vertical-align: top;\n    }\n\n    .dataframe thead th {\n        text-align: right;\n    }\n</style>\n<table border=\"1\" class=\"dataframe\">\n  <thead>\n    <tr style=\"text-align: right;\">\n      <th></th>\n      <th>video_id</th>\n      <th>title</th>\n      <th>trending_category</th>\n      <th>parsed_tags</th>\n      <th>tag_count</th>\n    </tr>\n  </thead>\n  <tbody>\n    <tr>\n      <th>0</th>\n      <td>LgVi6y5QIjM</td>\n      <td>Sing zu Ende! | Gesangseinlagen vom Feinsten |...</td>\n      <td>1</td>\n      <td>[inscope21, sing zu ende, gesangseinlagen, ges...</td>\n      <td>16</td>\n    </tr>\n    <tr>\n      <th>1</th>\n      <td>Bayt7uQith4</td>\n      <td>Kinder ferngesteuert im Kiosk! Erwachsene abzo...</td>\n      <td>2</td>\n      <td>[kinder, ferngesteuert, kinder ferngesteuert, ...</td>\n      <td>27</td>\n    </tr>\n    <tr>\n      <th>2</th>\n      <td>1ZAPwfrtAFY</td>\n      <td>The Trump Presidency: Last Week Tonight with J...</td>\n      <td>1</td>\n      <td>[last week tonight trump presidency, last week...</td>\n      <td>4</td>\n    </tr>\n    <tr>\n      <th>3</th>\n      <td>AHtypnRk7JE</td>\n      <td>Das Fermi-Paradoxon</td>\n      <td>2</td>\n      <td>[physik, wissenschaft, technik, science-fictio...</td>\n      <td>9</td>\n    </tr>\n    <tr>\n      <th>4</th>\n      <td>ZJ9We4bjcg0</td>\n      <td>18 SONGS mit Kelly MissesVlog (Sing-off)</td>\n      <td>2</td>\n      <td>[kelly, missesvlog, kelly song, bausa, bausa w...</td>\n      <td>5</td>\n    </tr>\n  </tbody>\n</table>\n</div>"
     },
     "execution_count": 52,
     "metadata": {},
     "output_type": "execute_result"
    }
   ],
   "source": [
    "df['tag_count'] = df.apply( lambda x: len(x['parsed_tags']), axis=1)\n",
    "df.head()"
   ],
   "metadata": {
    "collapsed": false,
    "pycharm": {
     "name": "#%%\n"
    }
   }
  },
  {
   "cell_type": "markdown",
   "source": [
    "## Utility data\n",
    "This section is not necessary for the calculation and only displays some statistical information.\n"
   ],
   "metadata": {
    "collapsed": false
   }
  },
  {
   "cell_type": "markdown",
   "source": [
    "### Total number of tags"
   ],
   "metadata": {
    "collapsed": false,
    "pycharm": {
     "name": "#%% md\n"
    }
   }
  },
  {
   "cell_type": "code",
   "execution_count": 53,
   "outputs": [
    {
     "data": {
      "text/plain": "722854"
     },
     "execution_count": 53,
     "metadata": {},
     "output_type": "execute_result"
    }
   ],
   "source": [
    "def to_1D(series):\n",
    "    return pd.Series([x for _list in series for x in _list])\n",
    "tag_counts = to_1D(df['parsed_tags']).value_counts()\n",
    "tag_counts.name = \"counts\"\n",
    "tag_counts.sum()"
   ],
   "metadata": {
    "collapsed": false,
    "pycharm": {
     "name": "#%%\n"
    }
   }
  },
  {
   "cell_type": "markdown",
   "source": [
    "### Most used tags"
   ],
   "metadata": {
    "collapsed": false
   }
  },
  {
   "cell_type": "code",
   "execution_count": 54,
   "outputs": [
    {
     "data": {
      "text/plain": "<AxesSubplot:>"
     },
     "execution_count": 54,
     "metadata": {},
     "output_type": "execute_result"
    },
    {
     "data": {
      "text/plain": "<Figure size 1440x432 with 1 Axes>",
      "image/png": "[encoded data removed]"
     },
     "metadata": {
      "needs_background": "light"
     },
     "output_type": "display_data"
    }
   ],
   "source": [
    "top_tags = tag_counts.head(20)\n",
    "sns.barplot(x=top_tags.index, y=top_tags.values)"
   ],
   "metadata": {
    "collapsed": false,
    "pycharm": {
     "name": "#%%\n"
    }
   }
  },
  {
   "cell_type": "markdown",
   "source": [
    "## Tags as correlation matrix\n",
    "Disclaimer: The calculation of the binary table over the given tag data can be quite resource intensive.\n",
    "It is recommended to not use to large values for *tags_start* and *tags_end* because the required calculation\n",
    "time grows quite fast."
   ],
   "metadata": {
    "collapsed": false
   }
  },
  {
   "cell_type": "code",
   "execution_count": 55,
   "outputs": [
    {
     "data": {
      "text/plain": "<AxesSubplot:>"
     },
     "execution_count": 55,
     "metadata": {},
     "output_type": "execute_result"
    },
    {
     "data": {
      "text/plain": "<Figure size 648x360 with 2 Axes>",
      "image/png": "[encoded data removed]"
     },
     "metadata": {
      "needs_background": "light"
     },
     "output_type": "display_data"
    }
   ],
   "source": [
    "tags_start = 0\n",
    "tags_end = 20\n",
    "\n",
    "def boolean_df(item_lists, items):\n",
    "    bool_dict={}\n",
    "    for i, item in enumerate(items):\n",
    "        bool_dict[item] = item_lists.apply(lambda x: item in x)\n",
    "    return pd.DataFrame(bool_dict)\n",
    "\n",
    "unique_items = tag_counts.head(tags_end).tail(tags_end-tags_start).index\n",
    "tags_int = boolean_df(df['parsed_tags'], unique_items).astype(int)\n",
    "tags_freq_mat = np.dot(tags_int.T, tags_int)\n",
    "np.fill_diagonal(tags_freq_mat, 0) # Used to filter self correlations to increase visibility\n",
    "tags_freq = pd.DataFrame(tags_freq_mat, columns = unique_items, index = unique_items)\n",
    "\n",
    "fix, ax = plt.subplots(figsize = (9,5))\n",
    "sns.heatmap(tags_freq, cmap = \"Blues\")\n",
    "#plt.savefig(\"heatmap.png\", dpi = 300)"
   ],
   "metadata": {
    "collapsed": false,
    "pycharm": {
     "name": "#%%\n"
    }
   }
  },
  {
   "cell_type": "markdown",
   "source": [
    "## Calculate Tag factors\n",
    "Each tag is assigned a factor that defines how good it contributes to reaching a high *trending_category*.\n",
    "The resulting value is mapped onto the scale between 0 and 1 where 0 means low or no contribution\n",
    "and 1 the highest contribution.\n",
    "### Gather Tag Data"
   ],
   "metadata": {
    "collapsed": false,
    "pycharm": {
     "name": "#%% md\n"
    }
   }
  },
  {
   "cell_type": "code",
   "execution_count": 56,
   "outputs": [
    {
     "data": {
      "text/plain": "                                            count    sum\ninscope21                                      83  42.25\nsing zu ende                                   14   6.50\ngesangseinlagen                                 4   1.75\ngesang                                         21   9.75\ngesungen                                       15   6.75\n...                                           ...    ...\nневошедшие номера                               1   0.75\nсмешные ляпы                                    1   0.75\nуральские пельмени этого не было на тв          1   0.75\nуральские пельмени то что не вошло в эфир       1   0.75\nуральские пельмени то что не попало в эфир      1   0.75\n\n[155218 rows x 2 columns]",
      "text/html": "<div>\n<style scoped>\n    .dataframe tbody tr th:only-of-type {\n        vertical-align: middle;\n    }\n\n    .dataframe tbody tr th {\n        vertical-align: top;\n    }\n\n    .dataframe thead th {\n        text-align: right;\n    }\n</style>\n<table border=\"1\" class=\"dataframe\">\n  <thead>\n    <tr style=\"text-align: right;\">\n      <th></th>\n      <th>count</th>\n      <th>sum</th>\n    </tr>\n  </thead>\n  <tbody>\n    <tr>\n      <th>inscope21</th>\n      <td>83</td>\n      <td>42.25</td>\n    </tr>\n    <tr>\n      <th>sing zu ende</th>\n      <td>14</td>\n      <td>6.50</td>\n    </tr>\n    <tr>\n      <th>gesangseinlagen</th>\n      <td>4</td>\n      <td>1.75</td>\n    </tr>\n    <tr>\n      <th>gesang</th>\n      <td>21</td>\n      <td>9.75</td>\n    </tr>\n    <tr>\n      <th>gesungen</th>\n      <td>15</td>\n      <td>6.75</td>\n    </tr>\n    <tr>\n      <th>...</th>\n      <td>...</td>\n      <td>...</td>\n    </tr>\n    <tr>\n      <th>невошедшие номера</th>\n      <td>1</td>\n      <td>0.75</td>\n    </tr>\n    <tr>\n      <th>смешные ляпы</th>\n      <td>1</td>\n      <td>0.75</td>\n    </tr>\n    <tr>\n      <th>уральские пельмени этого не было на тв</th>\n      <td>1</td>\n      <td>0.75</td>\n    </tr>\n    <tr>\n      <th>уральские пельмени то что не вошло в эфир</th>\n      <td>1</td>\n      <td>0.75</td>\n    </tr>\n    <tr>\n      <th>уральские пельмени то что не попало в эфир</th>\n      <td>1</td>\n      <td>0.75</td>\n    </tr>\n  </tbody>\n</table>\n<p>155218 rows × 2 columns</p>\n</div>"
     },
     "execution_count": 56,
     "metadata": {},
     "output_type": "execute_result"
    }
   ],
   "source": [
    "factors = {\n",
    "    0 : 1.0,\n",
    "    1 : 0.75,\n",
    "    2 : 0.5,\n",
    "    3 : 0.25,\n",
    "    4 : 0.0\n",
    "}\n",
    "\n",
    "tag_index = {}\n",
    "for index, row in df.iterrows():\n",
    "    cat = row['trending_category']\n",
    "    trending_value = factors[cat]\n",
    "    for tag in row['parsed_tags']:\n",
    "        if tag in tag_index:\n",
    "            tag_index[tag]['count'] += 1\n",
    "            tag_index[tag]['sum'] += trending_value\n",
    "        else:\n",
    "            tag_index[tag] = { 'count': 1, 'sum': trending_value }\n",
    "\n",
    "tag_data = pd.DataFrame.from_dict(tag_index, orient='index')\n",
    "tag_data"
   ],
   "metadata": {
    "collapsed": false,
    "pycharm": {
     "name": "#%%\n"
    }
   }
  },
  {
   "cell_type": "markdown",
   "source": [
    "### Filter Data and calculate Factor\n",
    "The problem of the tag data is, that not each tag can be used for the calculation because there is not enough data about it.\n",
    "Therefore, two parameterized limitations are introduced.\n",
    "\n",
    "The first method is a filtering by either picking a fixed number of tags (based on usage), or a certain\n",
    "percentage of all tags. The second method is a limitation based on how often a tag is used to ascertain a minimum of\n",
    "entries for the evaluation.\n",
    "\n",
    "The results are stored in a separate table for later calculation.\n",
    "\n",
    "Note: The column *tag_weight* is added for comparison purposes and has no real meaning."
   ],
   "metadata": {
    "collapsed": false,
    "pycharm": {
     "name": "#%% md\n"
    }
   }
  },
  {
   "cell_type": "code",
   "execution_count": 57,
   "outputs": [
    {
     "data": {
      "text/plain": "                      count    sum    factor  tag_weight\nfull game                23  20.25  0.880435       20.25\nsplit                    20  17.25  0.862500       17.25\nwellness                 22  18.75  0.852273       18.75\nneuer modus              24  20.25  0.843750       20.25\nlcs                      22  18.50  0.840909       18.50\n...                     ...    ...       ...         ...\nkontra k neues video     27  11.00  0.407407       11.00\nvfx                      32  13.00  0.406250       13.00\nshaho casado             26  10.50  0.403846       10.50\nwarner bros              28  11.25  0.401786       11.25\nlucas the spider         21   7.75  0.369048        7.75\n\n[5828 rows x 4 columns]",
      "text/html": "<div>\n<style scoped>\n    .dataframe tbody tr th:only-of-type {\n        vertical-align: middle;\n    }\n\n    .dataframe tbody tr th {\n        vertical-align: top;\n    }\n\n    .dataframe thead th {\n        text-align: right;\n    }\n</style>\n<table border=\"1\" class=\"dataframe\">\n  <thead>\n    <tr style=\"text-align: right;\">\n      <th></th>\n      <th>count</th>\n      <th>sum</th>\n      <th>factor</th>\n      <th>tag_weight</th>\n    </tr>\n  </thead>\n  <tbody>\n    <tr>\n      <th>full game</th>\n      <td>23</td>\n      <td>20.25</td>\n      <td>0.880435</td>\n      <td>20.25</td>\n    </tr>\n    <tr>\n      <th>split</th>\n      <td>20</td>\n      <td>17.25</td>\n      <td>0.862500</td>\n      <td>17.25</td>\n    </tr>\n    <tr>\n      <th>wellness</th>\n      <td>22</td>\n      <td>18.75</td>\n      <td>0.852273</td>\n      <td>18.75</td>\n    </tr>\n    <tr>\n      <th>neuer modus</th>\n      <td>24</td>\n      <td>20.25</td>\n      <td>0.843750</td>\n      <td>20.25</td>\n    </tr>\n    <tr>\n      <th>lcs</th>\n      <td>22</td>\n      <td>18.50</td>\n      <td>0.840909</td>\n      <td>18.50</td>\n    </tr>\n    <tr>\n      <th>...</th>\n      <td>...</td>\n      <td>...</td>\n      <td>...</td>\n      <td>...</td>\n    </tr>\n    <tr>\n      <th>kontra k neues video</th>\n      <td>27</td>\n      <td>11.00</td>\n      <td>0.407407</td>\n      <td>11.00</td>\n    </tr>\n    <tr>\n      <th>vfx</th>\n      <td>32</td>\n      <td>13.00</td>\n      <td>0.406250</td>\n      <td>13.00</td>\n    </tr>\n    <tr>\n      <th>shaho casado</th>\n      <td>26</td>\n      <td>10.50</td>\n      <td>0.403846</td>\n      <td>10.50</td>\n    </tr>\n    <tr>\n      <th>warner bros</th>\n      <td>28</td>\n      <td>11.25</td>\n      <td>0.401786</td>\n      <td>11.25</td>\n    </tr>\n    <tr>\n      <th>lucas the spider</th>\n      <td>21</td>\n      <td>7.75</td>\n      <td>0.369048</td>\n      <td>7.75</td>\n    </tr>\n  </tbody>\n</table>\n<p>5828 rows × 4 columns</p>\n</div>"
     },
     "execution_count": 57,
     "metadata": {},
     "output_type": "execute_result"
    }
   ],
   "source": [
    "if limit_method == 'count':\n",
    "    tag_factors = tag_data.head(max_tag_count)\n",
    "elif limit_method == 'percent':\n",
    "    tag_factors = tag_data.head(int(len(tag_data)*max_tag_percent))\n",
    "else:\n",
    "    tag_factors = tag_data.copy()\n",
    "\n",
    "if filter_tags_by_usage:\n",
    "    tag_factors = tag_factors[tag_factors['count'] >= min_tag_usage]\n",
    "\n",
    "tag_factors['factor'] = tag_factors['sum'] / tag_factors['count']\n",
    "tag_factors['tag_weight'] = tag_factors['factor'] * tag_factors['count']\n",
    "tag_factors = tag_factors.sort_values(by='factor', ascending=False)\n",
    "tag_factors"
   ],
   "metadata": {
    "collapsed": false,
    "pycharm": {
     "name": "#%%\n"
    }
   }
  },
  {
   "cell_type": "markdown",
   "source": [
    "### Apply Tag factors\n",
    "The calculated factors are applied back to the used data. If a video has multiple tags\n",
    "the **mean** over all of them is used."
   ],
   "metadata": {
    "collapsed": false,
    "pycharm": {
     "name": "#%% md\n"
    }
   }
  },
  {
   "cell_type": "code",
   "execution_count": 58,
   "outputs": [
    {
     "data": {
      "text/plain": "                                                   title  tag_factor\n0      Sing zu Ende! | Gesangseinlagen vom Feinsten |...    0.512928\n1      Kinder ferngesteuert im Kiosk! Erwachsene abzo...    0.612439\n2      The Trump Presidency: Last Week Tonight with J...    0.686567\n3                                    Das Fermi-Paradoxon    0.633594\n4               18 SONGS mit Kelly MissesVlog (Sing-off)    0.541702\n...                                                  ...         ...\n40835  KINGDOM HEARTS III – E3 2018 Pirates of the Ca...    0.725610\n40836                                     YMS: The Visit         NaN\n40837  Ungut umgeschult – Grünwald als Ersthelfer am ...    0.661601\n40838  Assassin's Creed Odyssey: E3 2018 Welt-Enthüll...    0.654359\n40839  Гироскутер - Азбука Уральских Пельменей Б - Ур...         NaN\n\n[40840 rows x 2 columns]",
      "text/html": "<div>\n<style scoped>\n    .dataframe tbody tr th:only-of-type {\n        vertical-align: middle;\n    }\n\n    .dataframe tbody tr th {\n        vertical-align: top;\n    }\n\n    .dataframe thead th {\n        text-align: right;\n    }\n</style>\n<table border=\"1\" class=\"dataframe\">\n  <thead>\n    <tr style=\"text-align: right;\">\n      <th></th>\n      <th>title</th>\n      <th>tag_factor</th>\n    </tr>\n  </thead>\n  <tbody>\n    <tr>\n      <th>0</th>\n      <td>Sing zu Ende! | Gesangseinlagen vom Feinsten |...</td>\n      <td>0.512928</td>\n    </tr>\n    <tr>\n      <th>1</th>\n      <td>Kinder ferngesteuert im Kiosk! Erwachsene abzo...</td>\n      <td>0.612439</td>\n    </tr>\n    <tr>\n      <th>2</th>\n      <td>The Trump Presidency: Last Week Tonight with J...</td>\n      <td>0.686567</td>\n    </tr>\n    <tr>\n      <th>3</th>\n      <td>Das Fermi-Paradoxon</td>\n      <td>0.633594</td>\n    </tr>\n    <tr>\n      <th>4</th>\n      <td>18 SONGS mit Kelly MissesVlog (Sing-off)</td>\n      <td>0.541702</td>\n    </tr>\n    <tr>\n      <th>...</th>\n      <td>...</td>\n      <td>...</td>\n    </tr>\n    <tr>\n      <th>40835</th>\n      <td>KINGDOM HEARTS III – E3 2018 Pirates of the Ca...</td>\n      <td>0.725610</td>\n    </tr>\n    <tr>\n      <th>40836</th>\n      <td>YMS: The Visit</td>\n      <td>NaN</td>\n    </tr>\n    <tr>\n      <th>40837</th>\n      <td>Ungut umgeschult – Grünwald als Ersthelfer am ...</td>\n      <td>0.661601</td>\n    </tr>\n    <tr>\n      <th>40838</th>\n      <td>Assassin's Creed Odyssey: E3 2018 Welt-Enthüll...</td>\n      <td>0.654359</td>\n    </tr>\n    <tr>\n      <th>40839</th>\n      <td>Гироскутер - Азбука Уральских Пельменей Б - Ур...</td>\n      <td>NaN</td>\n    </tr>\n  </tbody>\n</table>\n<p>40840 rows × 2 columns</p>\n</div>"
     },
     "execution_count": 58,
     "metadata": {},
     "output_type": "execute_result"
    }
   ],
   "source": [
    "def calculate_tag_factor(data):\n",
    "    tag_list = list()\n",
    "    for t in data:\n",
    "        factor = tag_factors['factor'].get(t, None)\n",
    "        if factor is not None :\n",
    "            tag_list.append(factor)\n",
    "    return np.nan if len(tag_list) == 0 else np.mean(tag_list)\n",
    "df['tag_factor'] = df['parsed_tags'].apply(calculate_tag_factor)\n",
    "\n",
    "df[['title','tag_factor']]"
   ],
   "metadata": {
    "collapsed": false,
    "pycharm": {
     "name": "#%%\n"
    }
   }
  },
  {
   "cell_type": "markdown",
   "source": [
    "### Remove entries without value and sort by factor\n",
    "If either not all tags of the data are used for the calculation, or some videos have no tags at all\n",
    "the calculated factor equals *NaN*. Here these \"invalid\" rows are filtered out. Additionally, the data is\n",
    "sorted by their factor to show the best results."
   ],
   "metadata": {
    "collapsed": false,
    "pycharm": {
     "name": "#%% md\n"
    }
   }
  },
  {
   "cell_type": "code",
   "execution_count": 59,
   "outputs": [
    {
     "data": {
      "text/plain": "          video_id                                              title  \\\n36468  nujkpx_I-F8  10 gefährliche Beauty-Erfindungen, die der Ver...   \n28203  axUt32vmdcM  Forscher haben endlich die ganze Wahrheit über...   \n26919  T3tU-OTajlw  12 versteckte Botschaften in berühmten Logos, ...   \n35472  k6RMYTgWk-8  GS Warriors vs Houston Rockets - Full Game Hig...   \n32426  89MA-LdPuQ8  Cleveland Cavaliers vs Toronto Raptors - Full ...   \n...            ...                                                ...   \n27200  tUBMQsSNTPY  JIM KNOPF UND LUKAS DER LOKOMOTIVFÜHRER - Tra...   \n26742  tUBMQsSNTPY  JIM KNOPF UND LUKAS DER LOKOMOTIVFÜHRER - Tra...   \n34143  1I-eQH5Nbyg  DEEP BLUE SEA 2 - Trailer #1 Deutsch HD German...   \n26592  tUBMQsSNTPY  JIM KNOPF UND LUKAS DER LOKOMOTIVFÜHRER - Tra...   \n34507  1I-eQH5Nbyg  DEEP BLUE SEA 2 - Trailer #1 Deutsch HD German...   \n\n       tag_factor  tag_count  \n36468    0.814286         20  \n28203    0.814286         14  \n26919    0.814286         10  \n35472    0.794368          7  \n32426    0.794368          8  \n...           ...        ...  \n27200    0.401786         16  \n26742    0.401786         16  \n34143    0.401786         21  \n26592    0.401786         16  \n34507    0.401786         21  \n\n[34760 rows x 4 columns]",
      "text/html": "<div>\n<style scoped>\n    .dataframe tbody tr th:only-of-type {\n        vertical-align: middle;\n    }\n\n    .dataframe tbody tr th {\n        vertical-align: top;\n    }\n\n    .dataframe thead th {\n        text-align: right;\n    }\n</style>\n<table border=\"1\" class=\"dataframe\">\n  <thead>\n    <tr style=\"text-align: right;\">\n      <th></th>\n      <th>video_id</th>\n      <th>title</th>\n      <th>tag_factor</th>\n      <th>tag_count</th>\n    </tr>\n  </thead>\n  <tbody>\n    <tr>\n      <th>36468</th>\n      <td>nujkpx_I-F8</td>\n      <td>10 gefährliche Beauty-Erfindungen, die der Ver...</td>\n      <td>0.814286</td>\n      <td>20</td>\n    </tr>\n    <tr>\n      <th>28203</th>\n      <td>axUt32vmdcM</td>\n      <td>Forscher haben endlich die ganze Wahrheit über...</td>\n      <td>0.814286</td>\n      <td>14</td>\n    </tr>\n    <tr>\n      <th>26919</th>\n      <td>T3tU-OTajlw</td>\n      <td>12 versteckte Botschaften in berühmten Logos, ...</td>\n      <td>0.814286</td>\n      <td>10</td>\n    </tr>\n    <tr>\n      <th>35472</th>\n      <td>k6RMYTgWk-8</td>\n      <td>GS Warriors vs Houston Rockets - Full Game Hig...</td>\n      <td>0.794368</td>\n      <td>7</td>\n    </tr>\n    <tr>\n      <th>32426</th>\n      <td>89MA-LdPuQ8</td>\n      <td>Cleveland Cavaliers vs Toronto Raptors - Full ...</td>\n      <td>0.794368</td>\n      <td>8</td>\n    </tr>\n    <tr>\n      <th>...</th>\n      <td>...</td>\n      <td>...</td>\n      <td>...</td>\n      <td>...</td>\n    </tr>\n    <tr>\n      <th>27200</th>\n      <td>tUBMQsSNTPY</td>\n      <td>JIM KNOPF UND LUKAS DER LOKOMOTIVFÜHRER - Tra...</td>\n      <td>0.401786</td>\n      <td>16</td>\n    </tr>\n    <tr>\n      <th>26742</th>\n      <td>tUBMQsSNTPY</td>\n      <td>JIM KNOPF UND LUKAS DER LOKOMOTIVFÜHRER - Tra...</td>\n      <td>0.401786</td>\n      <td>16</td>\n    </tr>\n    <tr>\n      <th>34143</th>\n      <td>1I-eQH5Nbyg</td>\n      <td>DEEP BLUE SEA 2 - Trailer #1 Deutsch HD German...</td>\n      <td>0.401786</td>\n      <td>21</td>\n    </tr>\n    <tr>\n      <th>26592</th>\n      <td>tUBMQsSNTPY</td>\n      <td>JIM KNOPF UND LUKAS DER LOKOMOTIVFÜHRER - Tra...</td>\n      <td>0.401786</td>\n      <td>16</td>\n    </tr>\n    <tr>\n      <th>34507</th>\n      <td>1I-eQH5Nbyg</td>\n      <td>DEEP BLUE SEA 2 - Trailer #1 Deutsch HD German...</td>\n      <td>0.401786</td>\n      <td>21</td>\n    </tr>\n  </tbody>\n</table>\n<p>34760 rows × 4 columns</p>\n</div>"
     },
     "execution_count": 59,
     "metadata": {},
     "output_type": "execute_result"
    }
   ],
   "source": [
    "target_videos = df[df['tag_factor'].notna()]\n",
    "target_videos[['video_id','title','tag_factor', 'tag_count']].sort_values(by=['tag_factor'], ascending=False)"
   ],
   "metadata": {
    "collapsed": false,
    "pycharm": {
     "name": "#%%\n"
    }
   }
  },
  {
   "cell_type": "markdown",
   "source": [
    "### Data coverage\n",
    "Due to the filtering some data is lost."
   ],
   "metadata": {
    "collapsed": false,
    "pycharm": {
     "name": "#%% md\n"
    }
   }
  },
  {
   "cell_type": "code",
   "execution_count": 60,
   "outputs": [
    {
     "data": {
      "text/plain": "0.8511263467189031"
     },
     "execution_count": 60,
     "metadata": {},
     "output_type": "execute_result"
    }
   ],
   "source": [
    "len(target_videos.index) / len(df.index)"
   ],
   "metadata": {
    "collapsed": false,
    "pycharm": {
     "name": "#%%\n"
    }
   }
  },
  {
   "cell_type": "markdown",
   "source": [
    "### Save tag factors to csv\n",
    "The calculated factors are saved into a *csv* file to be used in the other notebooks."
   ],
   "metadata": {
    "collapsed": false,
    "pycharm": {
     "name": "#%% md\n"
    }
   }
  },
  {
   "cell_type": "code",
   "execution_count": 61,
   "outputs": [],
   "source": [
    "tag_data = tag_factors.copy()\n",
    "tag_data['tags'] = tag_data.index\n",
    "tag_data[['tags','factor','count']].to_csv('../0_data/'+data_lan_code+'tags.csv', header=['tag','factor','count'], index=False)"
   ],
   "metadata": {
    "collapsed": false,
    "pycharm": {
     "name": "#%%\n"
    }
   }
  },
  {
   "cell_type": "markdown",
   "source": [
    "## Loading and Testing data\n",
    "To check if the data can be retrieved in the same way as it was stored.\n",
    "\n",
    "The index of the table needs to be set manually after loading due to technical limitation of the *csv*-Format."
   ],
   "metadata": {
    "collapsed": false,
    "pycharm": {
     "name": "#%% md\n"
    }
   }
  },
  {
   "cell_type": "code",
   "execution_count": 62,
   "outputs": [
    {
     "data": {
      "text/plain": "               factor  count\ntag                         \nfull game    0.880435     23\nsplit        0.862500     20\nwellness     0.852273     22\nneuer modus  0.843750     24\nlcs          0.840909     22",
      "text/html": "<div>\n<style scoped>\n    .dataframe tbody tr th:only-of-type {\n        vertical-align: middle;\n    }\n\n    .dataframe tbody tr th {\n        vertical-align: top;\n    }\n\n    .dataframe thead th {\n        text-align: right;\n    }\n</style>\n<table border=\"1\" class=\"dataframe\">\n  <thead>\n    <tr style=\"text-align: right;\">\n      <th></th>\n      <th>factor</th>\n      <th>count</th>\n    </tr>\n    <tr>\n      <th>tag</th>\n      <th></th>\n      <th></th>\n    </tr>\n  </thead>\n  <tbody>\n    <tr>\n      <th>full game</th>\n      <td>0.880435</td>\n      <td>23</td>\n    </tr>\n    <tr>\n      <th>split</th>\n      <td>0.862500</td>\n      <td>20</td>\n    </tr>\n    <tr>\n      <th>wellness</th>\n      <td>0.852273</td>\n      <td>22</td>\n    </tr>\n    <tr>\n      <th>neuer modus</th>\n      <td>0.843750</td>\n      <td>24</td>\n    </tr>\n    <tr>\n      <th>lcs</th>\n      <td>0.840909</td>\n      <td>22</td>\n    </tr>\n  </tbody>\n</table>\n</div>"
     },
     "execution_count": 62,
     "metadata": {},
     "output_type": "execute_result"
    }
   ],
   "source": [
    "tag_df = pd.read_csv('../0_data/'+data_lan_code+'tags.csv')\n",
    "tag_df = tag_df.set_index('tag')\n",
    "tag_df.head()"
   ],
   "metadata": {
    "collapsed": false,
    "pycharm": {
     "name": "#%%\n"
    }
   }
  },
  {
   "cell_type": "markdown",
   "source": [
    "### Converter function\n",
    "This function can be used to calculate the tag factor based on the unparsed tag data. Values that are\n",
    "not part of the given factor data will be excluded.\n",
    "\n",
    "Note: If used inside PyCharm the editor may display a warning for this function which is a false positive,\n",
    "the function is working as intended."
   ],
   "metadata": {
    "collapsed": false,
    "pycharm": {
     "name": "#%% md\n"
    }
   }
  },
  {
   "cell_type": "code",
   "execution_count": 63,
   "outputs": [],
   "source": [
    "def calculate_tag_factor(tag_string, tag_values):\n",
    "    return pd.Series(list(set(map(lambda x: x.strip('\\\"').lower(), tag_string.split('|')))))\\\n",
    "        .apply(lambda n: tag_values['factor'].get(n, np.nan))\\\n",
    "        .mean(skipna=True)"
   ],
   "metadata": {
    "collapsed": false,
    "pycharm": {
     "name": "#%%\n"
    }
   }
  },
  {
   "cell_type": "markdown",
   "source": [
    "### Test converter function\n",
    "Test the function and compare it to the calculated factors above."
   ],
   "metadata": {
    "collapsed": false,
    "pycharm": {
     "name": "#%% md\n"
    }
   }
  },
  {
   "cell_type": "code",
   "source": [
    "test_df = pd.read_csv('../0_data/'+data_lan_code+'videos.csv')\n",
    "test_df = test_df.head(10) # Just use head to reduce runtime\n",
    "test_df['tag_factors'] = test_df['tags'].apply(lambda x: calculate_tag_factor(x, tag_df))\n",
    "test_df[['video_id','title','channel_title','tags','tag_factors']]"
   ],
   "metadata": {
    "collapsed": false,
    "pycharm": {
     "name": "#%%\n"
    }
   },
   "execution_count": 64,
   "outputs": [
    {
     "data": {
      "text/plain": "      video_id                                              title  \\\n0  LgVi6y5QIjM  Sing zu Ende! | Gesangseinlagen vom Feinsten |...   \n1  Bayt7uQith4  Kinder ferngesteuert im Kiosk! Erwachsene abzo...   \n2  1ZAPwfrtAFY  The Trump Presidency: Last Week Tonight with J...   \n3  AHtypnRk7JE                                Das Fermi-Paradoxon   \n4  ZJ9We4bjcg0           18 SONGS mit Kelly MissesVlog (Sing-off)   \n5  xapGFgWqtg4  Geld verdienen mit Online-Umfragen? Geht das w...   \n6  EIM7RMe39JY                       Kanaken auf der Klassenfahrt   \n7  PaWTaj6Iie0  3 unbekannte Gesichter von Film/Serien-Charakt...   \n8  GHct2dGNLks         Antoine leiht Auto von Ernährungsberaterin   \n9  aZYSFByDGkg  Legenden: So wird dein Ruhm unsterblich - Fame...   \n\n             channel_title                                               tags  \\\n0                inscope21  inscope21|\"sing zu ende\"|\"gesangseinlagen\"|\"ge...   \n1  LUKE! Die Woche und ich  Kinder|\"ferngesteuert\"|\"Kinder ferngesteuert\"|...   \n2          LastWeekTonight  last week tonight trump presidency|\"last week ...   \n3        100SekundenPhysik  Physik|\"Wissenschaft\"|\"Technik\"|\"Science-Ficti...   \n4                     rezo  kelly|\"missesvlog\"|\"kelly song\"|\"bausa\"|\"bausa...   \n5          Die Allestester                                             [none]   \n6               Bodyformus  kanaken|\"kurden\"|\"türken\"|\"schule\"|\"schulzeit\"...   \n7               Jay & Arya  unbekannte gesichte charakter|\"unbekannte gesi...   \n8              TeddyComedy  Antoine Auto|\"Antoine Boot Camp\"|\"Antoine Ernä...   \n9                  WALULIS  michael jackson|\"promi\"|\"tot\"|\"tod\"|\"gestorben...   \n\n   tag_factors  \n0     0.512928  \n1     0.612439  \n2     0.686567  \n3     0.633594  \n4     0.541702  \n5          NaN  \n6     0.590316  \n7     0.526124  \n8     0.602571  \n9     0.609751  ",
      "text/html": "<div>\n<style scoped>\n    .dataframe tbody tr th:only-of-type {\n        vertical-align: middle;\n    }\n\n    .dataframe tbody tr th {\n        vertical-align: top;\n    }\n\n    .dataframe thead th {\n        text-align: right;\n    }\n</style>\n<table border=\"1\" class=\"dataframe\">\n  <thead>\n    <tr style=\"text-align: right;\">\n      <th></th>\n      <th>video_id</th>\n      <th>title</th>\n      <th>channel_title</th>\n      <th>tags</th>\n      <th>tag_factors</th>\n    </tr>\n  </thead>\n  <tbody>\n    <tr>\n      <th>0</th>\n      <td>LgVi6y5QIjM</td>\n      <td>Sing zu Ende! | Gesangseinlagen vom Feinsten |...</td>\n      <td>inscope21</td>\n      <td>inscope21|\"sing zu ende\"|\"gesangseinlagen\"|\"ge...</td>\n      <td>0.512928</td>\n    </tr>\n    <tr>\n      <th>1</th>\n      <td>Bayt7uQith4</td>\n      <td>Kinder ferngesteuert im Kiosk! Erwachsene abzo...</td>\n      <td>LUKE! Die Woche und ich</td>\n      <td>Kinder|\"ferngesteuert\"|\"Kinder ferngesteuert\"|...</td>\n      <td>0.612439</td>\n    </tr>\n    <tr>\n      <th>2</th>\n      <td>1ZAPwfrtAFY</td>\n      <td>The Trump Presidency: Last Week Tonight with J...</td>\n      <td>LastWeekTonight</td>\n      <td>last week tonight trump presidency|\"last week ...</td>\n      <td>0.686567</td>\n    </tr>\n    <tr>\n      <th>3</th>\n      <td>AHtypnRk7JE</td>\n      <td>Das Fermi-Paradoxon</td>\n      <td>100SekundenPhysik</td>\n      <td>Physik|\"Wissenschaft\"|\"Technik\"|\"Science-Ficti...</td>\n      <td>0.633594</td>\n    </tr>\n    <tr>\n      <th>4</th>\n      <td>ZJ9We4bjcg0</td>\n      <td>18 SONGS mit Kelly MissesVlog (Sing-off)</td>\n      <td>rezo</td>\n      <td>kelly|\"missesvlog\"|\"kelly song\"|\"bausa\"|\"bausa...</td>\n      <td>0.541702</td>\n    </tr>\n    <tr>\n      <th>5</th>\n      <td>xapGFgWqtg4</td>\n      <td>Geld verdienen mit Online-Umfragen? Geht das w...</td>\n      <td>Die Allestester</td>\n      <td>[none]</td>\n      <td>NaN</td>\n    </tr>\n    <tr>\n      <th>6</th>\n      <td>EIM7RMe39JY</td>\n      <td>Kanaken auf der Klassenfahrt</td>\n      <td>Bodyformus</td>\n      <td>kanaken|\"kurden\"|\"türken\"|\"schule\"|\"schulzeit\"...</td>\n      <td>0.590316</td>\n    </tr>\n    <tr>\n      <th>7</th>\n      <td>PaWTaj6Iie0</td>\n      <td>3 unbekannte Gesichter von Film/Serien-Charakt...</td>\n      <td>Jay &amp; Arya</td>\n      <td>unbekannte gesichte charakter|\"unbekannte gesi...</td>\n      <td>0.526124</td>\n    </tr>\n    <tr>\n      <th>8</th>\n      <td>GHct2dGNLks</td>\n      <td>Antoine leiht Auto von Ernährungsberaterin</td>\n      <td>TeddyComedy</td>\n      <td>Antoine Auto|\"Antoine Boot Camp\"|\"Antoine Ernä...</td>\n      <td>0.602571</td>\n    </tr>\n    <tr>\n      <th>9</th>\n      <td>aZYSFByDGkg</td>\n      <td>Legenden: So wird dein Ruhm unsterblich - Fame...</td>\n      <td>WALULIS</td>\n      <td>michael jackson|\"promi\"|\"tot\"|\"tod\"|\"gestorben...</td>\n      <td>0.609751</td>\n    </tr>\n  </tbody>\n</table>\n</div>"
     },
     "execution_count": 64,
     "metadata": {},
     "output_type": "execute_result"
    }
   ]
  }
 ],
 "metadata": {
  "kernelspec": {
   "display_name": "Python 3",
   "language": "python",
   "name": "python3"
  },
  "language_info": {
   "codemirror_mode": {
    "name": "ipython",
    "version": 2
   },
   "file_extension": ".py",
   "mimetype": "text/x-python",
   "name": "python",
   "nbconvert_exporter": "python",
   "pygments_lexer": "ipython2",
   "version": "2.7.6"
  }
 },
 "nbformat": 4,
 "nbformat_minor": 0
}