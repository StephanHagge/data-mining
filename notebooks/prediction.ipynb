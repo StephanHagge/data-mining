{
 "metadata": {
  "language_info": {
   "codemirror_mode": {
    "name": "ipython",
    "version": 3
   },
   "file_extension": ".py",
   "mimetype": "text/x-python",
   "name": "python",
   "nbconvert_exporter": "python",
   "pygments_lexer": "ipython3",
   "version": "3.9.0-final"
  },
  "orig_nbformat": 2,
  "kernelspec": {
   "name": "python3",
   "display_name": "Python 3",
   "language": "python"
  }
 },
 "nbformat": 4,
 "nbformat_minor": 2,
 "cells": [
  {
   "source": [
    "# Data prediction\n",
    "\n",
    "## Imports"
   ],
   "cell_type": "markdown",
   "metadata": {}
  },
  {
   "cell_type": "code",
   "execution_count": 315,
   "metadata": {},
   "outputs": [],
   "source": [
    "from pandas import DataFrame\n",
    "from xgboost import XGBClassifier\n",
    "from sklearn.neighbors import KNeighborsClassifier\n",
    "from sklearn import preprocessing\n",
    "from sklearn.metrics import accuracy_score, precision_score, recall_score\n",
    "from sklearn.tree import DecisionTreeClassifier\n",
    "from sklearn.ensemble import RandomForestClassifier\n",
    "from sklearn.model_selection import train_test_split\n",
    "import pandas as pd\n",
    "import numpy as np\n",
    "\n",
    "from datetime import datetime\n",
    "from datetime import timedelta"
   ]
  },
  {
   "source": [
    "## Data preprocessing"
   ],
   "cell_type": "markdown",
   "metadata": {}
  },
  {
   "cell_type": "code",
   "execution_count": 316,
   "metadata": {},
   "outputs": [],
   "source": [
    "df = pd.read_csv('/data/DEvideos.csv',\n",
    "    low_memory=False)\n",
    "\n",
    "df['trending_date'] = df.apply(lambda row: datetime.strptime(row['trending_date'], '%y.%d.%m'), axis=1)\n",
    "df['publish_time'] = df.apply(lambda row: datetime.strptime(row['publish_time'], '%Y-%m-%dT%H:%M:%S.000Z'), axis=1)\n",
    "df['days_until_trending'] = df.apply(lambda row: ((row['trending_date'] - row['publish_time']).days + 1), axis=1)\n",
    "\n",
    "df['tags_count'] = df.apply(lambda row: len(row['tags'].split('|')), axis=1)\n",
    "df['publish_hour'] = df['publish_time'].map(lambda x: x.hour)\n",
    "df['publish_month'] = df['publish_time'].map(lambda x: x.month)\n",
    "df['publish_year'] = df['publish_time'].map(lambda x: x.year)\n",
    "df['publish_day_of_month'] = df['publish_time'].map(lambda x: x.day)\n",
    "df['publish_weekday'] = df['publish_time'].map(lambda x: x.weekday()) # 0: Monday, 6: Sunday\n",
    "df['trending_weekday'] = df['trending_date'].map(lambda x: x.weekday()) # 0: Monday, 6: Sunday\n",
    "\n",
    "df['like_dislike_ratio'] = df.apply(lambda row: row['likes'] / (row['dislikes'] + 1), axis=1)\n",
    "df['like_view_ratio'] = df.apply(lambda row: row['likes'] / (row['views'] + 1), axis=1)\n",
    "\n",
    "df['ratings'] = df['likes'] + df['dislikes']\n",
    "df['likes_per_rating'] = df['likes'] / df['ratings']\n",
    "df['ratings_per_view'] = df['ratings'] / df['views']\n",
    "df['comments_per_view'] = df['comment_count'] / df['views']\n",
    "\n",
    "# Using int instead of cat\n",
    "def assign_target_category(row):\n",
    "    if row['days_until_trending'] == 0: \n",
    "        return 0\n",
    "    elif row['days_until_trending'] == 1:\n",
    "        return 1\n",
    "    elif row['days_until_trending'] == 2:\n",
    "        return 2\n",
    "    elif row['days_until_trending'] <= 5:\n",
    "        return 3\n",
    "    else:\n",
    "        return 6\n",
    "\n",
    "df['target_category'] = df.apply(assign_target_category, axis=1)\n",
    "\n",
    "N = len(df)\n",
    "dropColumns = ['video_id', 'title', 'tags', 'thumbnail_link', 'description']\n",
    "for column in df.columns:\n",
    "    numberOfUniqueValues = df[column].nunique()\n",
    "    if numberOfUniqueValues < 2:\n",
    "        dropColumns.append(column)\n",
    "    elif df[column].dtype == 'object' and numberOfUniqueValues > N * 0.9:\n",
    "        dropColumns.append(column)\n",
    "    elif df[column].isna().sum() / N > 0.95:\n",
    "        dropColumns.append(column)\n",
    "        \n",
    "df.drop(columns=dropColumns, inplace=True)\n",
    "\n",
    "df['channel_title'] = df['channel_title'].astype('category')"
   ]
  },
  {
   "source": [
    "## Encode features"
   ],
   "cell_type": "markdown",
   "metadata": {}
  },
  {
   "cell_type": "code",
   "execution_count": 317,
   "metadata": {},
   "outputs": [],
   "source": [
    "x_df = DataFrame(index=df.index)\n",
    "features = ['publish_weekday', 'publish_month']\n",
    "for feature in features:\n",
    "    feature_data = df[feature]\n",
    "    if df[feature].dtype.name == 'category':\n",
    "        x_label_encoder = preprocessing.LabelEncoder()\n",
    "        x_label_encoder.fit(feature_data.astype(str))\n",
    "        x_df[feature] = x_label_encoder.transform(feature_data)\n",
    "    elif df[feature].dtype.name == 'datetime64[ns]':\n",
    "        x_df[feature] = feature_data.to_seconds()\n",
    "    elif df[feature].dtype.name == 'bool':\n",
    "        x_df[feature] = int(feature_data)\n",
    "    else:\n",
    "        x_df[feature] = feature_data\n",
    "\n",
    "x = np.reshape(x_df, (-1, len(x_df.columns)))"
   ]
  },
  {
   "source": [
    "## Encode prediction target"
   ],
   "cell_type": "markdown",
   "metadata": {}
  },
  {
   "cell_type": "code",
   "execution_count": 318,
   "metadata": {},
   "outputs": [],
   "source": [
    "target = df['target_category'].astype(str)\n",
    "y_label_encoder = preprocessing.LabelEncoder()\n",
    "y_label_encoder.fit(target)\n",
    "y = y_label_encoder.transform(target)"
   ]
  },
  {
   "source": [
    "## Create train and test datasubset"
   ],
   "cell_type": "markdown",
   "metadata": {}
  },
  {
   "cell_type": "code",
   "execution_count": 319,
   "metadata": {},
   "outputs": [],
   "source": [
    "x_train, x_test, y_train, y_test = train_test_split(x, y, test_size = 0.40)"
   ]
  },
  {
   "source": [
    "## Declare classifiers\n",
    "\n",
    "```\n",
    "classifiers[:][0]: Name\n",
    "classifiers[:][1]: Classifier object\n",
    "classifiers[:][2]: Prediction\n",
    "```"
   ],
   "cell_type": "markdown",
   "metadata": {}
  },
  {
   "cell_type": "code",
   "execution_count": 320,
   "metadata": {},
   "outputs": [],
   "source": [
    "classifiers = []\n",
    "\n",
    "classifiers.append(['Decision Tree', DecisionTreeClassifier()])\n",
    "classifiers.append(['K Nearest Neighbor', KNeighborsClassifier()])\n",
    "classifiers.append(['Random Forest', RandomForestClassifier()])\n",
    "classifiers.append(['XG Boost', XGBClassifier(use_label_encoder=False)])\n",
    "\n",
    "classifiers.append(['K Nearest Neighbor (optimised)', KNeighborsClassifier(n_neighbors = 1000)])\n",
    "classifiers.append(['Random Forest (optimised)', RandomForestClassifier(n_estimators=10, max_depth=2, min_samples_split=5)])\n",
    "classifiers.append(['XG Boost (optimised)', XGBClassifier(n_estimators=50, max_depth=2, use_label_encoder=False)])"
   ]
  },
  {
   "source": [
    "## Train model"
   ],
   "cell_type": "markdown",
   "metadata": {}
  },
  {
   "cell_type": "code",
   "execution_count": 321,
   "metadata": {},
   "outputs": [
    {
     "output_type": "stream",
     "name": "stdout",
     "text": [
      "\n",
      "Training - Decision Tree\n",
      "CPU times: user 15.4 ms, sys: 5 ms, total: 20.4 ms\n",
      "Wall time: 16.4 ms\n",
      "\n",
      "Training - K Nearest Neighbor\n",
      "CPU times: user 59.4 ms, sys: 1.01 ms, total: 60.4 ms\n",
      "Wall time: 59.9 ms\n",
      "\n",
      "Training - Random Forest\n",
      "CPU times: user 543 ms, sys: 0 ns, total: 543 ms\n",
      "Wall time: 542 ms\n",
      "\n",
      "Training - XG Boost\n",
      "CPU times: user 6.41 s, sys: 203 ms, total: 6.62 s\n",
      "Wall time: 1.66 s\n",
      "\n",
      "Training - K Nearest Neighbor (optimised)\n",
      "CPU times: user 200 ms, sys: 12 ms, total: 212 ms\n",
      "Wall time: 56.1 ms\n",
      "\n",
      "Training - Random Forest (optimised)\n",
      "CPU times: user 41.7 ms, sys: 1.01 ms, total: 42.7 ms\n",
      "Wall time: 42.3 ms\n",
      "\n",
      "Training - XG Boost (optimised)\n",
      "CPU times: user 1.27 s, sys: 39 ms, total: 1.31 s\n",
      "Wall time: 329 ms\n"
     ]
    }
   ],
   "source": [
    "for classifier in classifiers:\n",
    "    print('\\nTraining - ' + classifier[0])\n",
    "    %time classifier[1].fit(x_train, y_train)"
   ]
  },
  {
   "source": [
    "## Predict test data"
   ],
   "cell_type": "markdown",
   "metadata": {}
  },
  {
   "cell_type": "code",
   "execution_count": 322,
   "metadata": {},
   "outputs": [
    {
     "output_type": "stream",
     "name": "stdout",
     "text": [
      "\n",
      "Predicting - Decision Tree\n",
      "CPU times: user 24.7 ms, sys: 0 ns, total: 24.7 ms\n",
      "Wall time: 8.12 ms\n",
      "\n",
      "Predicting - K Nearest Neighbor\n",
      "CPU times: user 846 ms, sys: 26 ms, total: 872 ms\n",
      "Wall time: 621 ms\n",
      "\n",
      "Predicting - Random Forest\n",
      "CPU times: user 210 ms, sys: 1e+03 ns, total: 210 ms\n",
      "Wall time: 209 ms\n",
      "\n",
      "Predicting - XG Boost\n",
      "CPU times: user 293 ms, sys: 5.02 ms, total: 298 ms\n",
      "Wall time: 76 ms\n",
      "\n",
      "Predicting - K Nearest Neighbor (optimised)\n",
      "CPU times: user 8.37 s, sys: 245 ms, total: 8.62 s\n",
      "Wall time: 8.02 s\n",
      "\n",
      "Predicting - Random Forest (optimised)\n",
      "CPU times: user 19.2 ms, sys: 8 µs, total: 19.2 ms\n",
      "Wall time: 18.6 ms\n",
      "\n",
      "Predicting - XG Boost (optimised)\n",
      "CPU times: user 55.9 ms, sys: 1.92 ms, total: 57.8 ms\n",
      "Wall time: 15.2 ms\n"
     ]
    }
   ],
   "source": [
    "for classifier in classifiers:\n",
    "    print('\\nPredicting - ' + classifier[0])\n",
    "    %time classifier.append(classifier[1].predict(x_test))"
   ]
  },
  {
   "source": [
    "## Calculate accuracy"
   ],
   "cell_type": "markdown",
   "metadata": {}
  },
  {
   "cell_type": "code",
   "execution_count": 323,
   "metadata": {},
   "outputs": [
    {
     "output_type": "stream",
     "name": "stdout",
     "text": [
      "\nAccuracy - Decision Tree\n0.6256733594515181\n\nAccuracy - K Nearest Neighbor\n0.5806194906953966\n\nAccuracy - Random Forest\n0.625550930460333\n\nAccuracy - XG Boost\n0.6258570029382958\n\nAccuracy - K Nearest Neighbor (optimised)\n0.6254285014691479\n\nAccuracy - Random Forest (optimised)\n0.6254285014691479\n\nAccuracy - XG Boost (optimised)\n0.6254285014691479\n"
     ]
    }
   ],
   "source": [
    "for classifier in classifiers:\n",
    "    print('\\nAccuracy - ' + classifier[0])\n",
    "    print(accuracy_score(y_test, classifier[2]))"
   ]
  },
  {
   "source": [
    "## Accuracy of baseline classification"
   ],
   "cell_type": "markdown",
   "metadata": {}
  },
  {
   "cell_type": "code",
   "execution_count": 324,
   "metadata": {},
   "outputs": [
    {
     "output_type": "execute_result",
     "data": {
      "text/plain": [
       "0.6237512242899118"
      ]
     },
     "metadata": {},
     "execution_count": 324
    }
   ],
   "source": [
    "len(df[df['target_category'] == 1]) / len(df)"
   ]
  },
  {
   "cell_type": "code",
   "execution_count": null,
   "metadata": {},
   "outputs": [],
   "source": []
  }
 ]
}