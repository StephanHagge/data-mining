{
 "cells": [
  {
   "cell_type": "markdown",
   "metadata": {
    "collapsed": true,
    "pycharm": {
     "name": "#%% md\n"
    }
   },
   "source": [
    "# Business Understanding\n",
    "\n",
    "## What is the process?\n",
    "\n",
    "YouTube is one of the biggest video sharing websites. It maintains a list of the top trending videos on the platform.\n",
    "For our project we chose the [Trending YouTube Video Statistics](https://www.kaggle.com/datasnaek/youtube-new) from Kaggle.\n",
    "\n",
    "The dataset describes trending YouTube videos over several months, but the data is separated into multiple subsets due to differences in\n",
    "their category_id attribute based on the given region. Due to the high number of possible data, and the resulting complexity we decided\n",
    "to use the data related to the region DE (Germany) only.\n",
    "\n",
    "The chosen dataset for [Germany](https://www.kaggle.com/datasnaek/youtube-new?select=DEvideos.csv) consists of 16 columns and 40840 rows.\n",
    "\n",
    "## What is the task?\n",
    "\n",
    "Our task is the prediction of the time it takes for a video to reach the state of trending based on the time it was uploaded.\n",
    "\n",
    "## Can the problem definition be focused?\n",
    "\n",
    "A video reaching the state of trending seems random often.\n",
    "Therefore, we want to use the attributes we have to analyze whether it is possible to predict how long it\n",
    "takes for a video to get the state trending and which values are involved.\n",
    "\n",
    "## Does it relate to other problem definitions?\n",
    "\n",
    "As described it relates to the problem why a video is trending. Which values are involved?\n",
    "Are there any correlations between the values?"
   ]
  },
  {
   "cell_type": "markdown",
   "metadata": {
    "pycharm": {
     "name": "#%% md\n"
    }
   },
   "source": [
    "# Data Understanding\n",
    "\n",
    "## Does the data describe the process?\n",
    "\n",
    "The data describe the process as stated. Additionally, required data are added or calculated.\n",
    "For example a column for an overall rating was added. That value can now be used for further analyzing.\n",
    "\n",
    "## Should further data be integrated?\n",
    "\n",
    "For now no further data should not be integrated, except the data we calculated. Doing so would just lead to complexity.\n",
    "But we could add additional attributes via [this](https://developers.google.com/youtube/v3/docs/videos/list)\n",
    "API in the case it seems necessary.\n",
    "\n",
    "## Are there (input) error within the data?\n",
    "\n",
    "No errors have been detected so far.\n",
    "\n",
    "## How should data be organized for data exploration and model creation?\n",
    "\n",
    "As described, we only use the dataset related to Germany. It is organized as Table, containing video data.\n",
    "The category in clear text is stored in a seperate JSON-File. In the dataset only the category_id is included."
   ]
  }
 ],
 "metadata": {
  "kernelspec": {
   "display_name": "Python 3",
   "language": "python",
   "name": "python3"
  },
  "language_info": {
   "codemirror_mode": {
    "name": "ipython",
    "version": 3
   },
   "file_extension": ".py",
   "mimetype": "text/x-python",
   "name": "python",
   "nbconvert_exporter": "python",
   "pygments_lexer": "ipython3",
   "version": "3.8.6"
  }
 },
 "nbformat": 4,
 "nbformat_minor": 1
}