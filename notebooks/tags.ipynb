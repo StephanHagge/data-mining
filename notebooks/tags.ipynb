{
 "cells": [
  {
   "cell_type": "code",
   "execution_count": 25,
   "outputs": [],
   "source": [
    "import numpy as np\n",
    "import pandas as pd\n",
    "import seaborn as sns\n",
    "import matplotlib.pyplot as plt\n",
    "import pycountry\n",
    "\n",
    "from pprint import pprint\n",
    "from datetime import datetime\n",
    "from datetime import timedelta\n",
    "\n",
    "%matplotlib inline\n",
    "plt.rcParams['figure.figsize'] = (20, 6)"
   ],
   "metadata": {
    "collapsed": false,
    "pycharm": {
     "name": "#%%\n"
    }
   }
  },
  {
   "cell_type": "markdown",
   "source": [
    "# Read data"
   ],
   "metadata": {
    "collapsed": false
   }
  },
  {
   "cell_type": "code",
   "execution_count": 26,
   "outputs": [],
   "source": [
    "df = pd.read_csv('../data/DEvideos.csv')"
   ],
   "metadata": {
    "collapsed": false,
    "pycharm": {
     "name": "#%%\n"
    }
   }
  },
  {
   "cell_type": "markdown",
   "source": [
    "# Calculate categories"
   ],
   "metadata": {
    "collapsed": false,
    "pycharm": {
     "name": "#%% md\n"
    }
   }
  },
  {
   "cell_type": "code",
   "execution_count": 27,
   "outputs": [],
   "source": [
    "def assign_trending_category(row):\n",
    "    if row['days_until_trending'] == 0:\n",
    "        return 0 # 0 Days\n",
    "    elif row['days_until_trending'] == 1:\n",
    "        return 1 # 1 Day\n",
    "    elif row['days_until_trending'] == 2:\n",
    "        return 2 # 2 Days\n",
    "    elif row['days_until_trending'] <= 5:\n",
    "        return 3 # 3 - 5 Days\n",
    "    else:\n",
    "        return 4 # > 5 Days\n",
    "\n",
    "df['days_until_trending'] = df.apply(lambda row: ((datetime.strptime(row['trending_date'], '%y.%d.%m') - datetime.strptime(row['publish_time'], '%Y-%m-%dT%H:%M:%S.000Z')).days + 1), axis=1)\n",
    "df['trending_category'] = df.apply(assign_trending_category, axis=1)"
   ],
   "metadata": {
    "collapsed": false,
    "pycharm": {
     "name": "#%%\n"
    }
   }
  },
  {
   "cell_type": "markdown",
   "source": [
    "# Drop unused data"
   ],
   "metadata": {
    "collapsed": false,
    "pycharm": {
     "name": "#%% md\n"
    }
   }
  },
  {
   "cell_type": "code",
   "execution_count": 28,
   "outputs": [
    {
     "data": {
      "text/plain": "      video_id                                              title  \\\n0  LgVi6y5QIjM  Sing zu Ende! | Gesangseinlagen vom Feinsten |...   \n1  Bayt7uQith4  Kinder ferngesteuert im Kiosk! Erwachsene abzo...   \n2  1ZAPwfrtAFY  The Trump Presidency: Last Week Tonight with J...   \n3  AHtypnRk7JE                                Das Fermi-Paradoxon   \n4  ZJ9We4bjcg0           18 SONGS mit Kelly MissesVlog (Sing-off)   \n\n                                                tags  trending_category  \n0  inscope21|\"sing zu ende\"|\"gesangseinlagen\"|\"ge...                  1  \n1  Kinder|\"ferngesteuert\"|\"Kinder ferngesteuert\"|...                  2  \n2  last week tonight trump presidency|\"last week ...                  1  \n3  Physik|\"Wissenschaft\"|\"Technik\"|\"Science-Ficti...                  2  \n4  kelly|\"missesvlog\"|\"kelly song\"|\"bausa\"|\"bausa...                  2  ",
      "text/html": "<div>\n<style scoped>\n    .dataframe tbody tr th:only-of-type {\n        vertical-align: middle;\n    }\n\n    .dataframe tbody tr th {\n        vertical-align: top;\n    }\n\n    .dataframe thead th {\n        text-align: right;\n    }\n</style>\n<table border=\"1\" class=\"dataframe\">\n  <thead>\n    <tr style=\"text-align: right;\">\n      <th></th>\n      <th>video_id</th>\n      <th>title</th>\n      <th>tags</th>\n      <th>trending_category</th>\n    </tr>\n  </thead>\n  <tbody>\n    <tr>\n      <th>0</th>\n      <td>LgVi6y5QIjM</td>\n      <td>Sing zu Ende! | Gesangseinlagen vom Feinsten |...</td>\n      <td>inscope21|\"sing zu ende\"|\"gesangseinlagen\"|\"ge...</td>\n      <td>1</td>\n    </tr>\n    <tr>\n      <th>1</th>\n      <td>Bayt7uQith4</td>\n      <td>Kinder ferngesteuert im Kiosk! Erwachsene abzo...</td>\n      <td>Kinder|\"ferngesteuert\"|\"Kinder ferngesteuert\"|...</td>\n      <td>2</td>\n    </tr>\n    <tr>\n      <th>2</th>\n      <td>1ZAPwfrtAFY</td>\n      <td>The Trump Presidency: Last Week Tonight with J...</td>\n      <td>last week tonight trump presidency|\"last week ...</td>\n      <td>1</td>\n    </tr>\n    <tr>\n      <th>3</th>\n      <td>AHtypnRk7JE</td>\n      <td>Das Fermi-Paradoxon</td>\n      <td>Physik|\"Wissenschaft\"|\"Technik\"|\"Science-Ficti...</td>\n      <td>2</td>\n    </tr>\n    <tr>\n      <th>4</th>\n      <td>ZJ9We4bjcg0</td>\n      <td>18 SONGS mit Kelly MissesVlog (Sing-off)</td>\n      <td>kelly|\"missesvlog\"|\"kelly song\"|\"bausa\"|\"bausa...</td>\n      <td>2</td>\n    </tr>\n  </tbody>\n</table>\n</div>"
     },
     "execution_count": 28,
     "metadata": {},
     "output_type": "execute_result"
    }
   ],
   "source": [
    "df = df.drop(['trending_date','category_id', 'publish_time', 'views', 'likes','dislikes',\n",
    "         'comment_count', 'thumbnail_link', 'comments_disabled', 'ratings_disabled',\n",
    "         'video_error_or_removed', 'description', 'days_until_trending',\n",
    "          'channel_title'], axis=1)\n",
    "df.head()"
   ],
   "metadata": {
    "collapsed": false,
    "pycharm": {
     "name": "#%%\n"
    }
   }
  },
  {
   "cell_type": "markdown",
   "source": [
    "## Parse tags and convert\n",
    "\n",
    "Breaks the tag-strings into single elements and formats them. The following formatting is applied:\n",
    "* Remove enclosing quotation marks (\"\")\n",
    "* convert to lower case\n",
    "* remove all duplicates (due to conversion to lower)\n",
    "\n",
    "After formatting, the tags are filter by the following rules. The tag will be excluded when:\n",
    "* The tag matches the '[none]' tag\n",
    "* The tag is a number (to remove time related data)\n",
    "* The tag describes a country\n",
    "* The tag describes a language (resource intensive due to large amount of languages)"
   ],
   "metadata": {
    "collapsed": false
   }
  },
  {
   "cell_type": "code",
   "execution_count": 29,
   "outputs": [
    {
     "data": {
      "text/plain": "0    [inscope21, sing zu ende, gesangseinlagen, ges...\n1    [kinder, ferngesteuert, kinder ferngesteuert, ...\n2    [last week tonight trump presidency, last week...\n3    [physik, wissenschaft, technik, science-fictio...\n4    [kelly, missesvlog, kelly song, bausa, bausa w...\nName: parsed_tags, dtype: object"
     },
     "execution_count": 29,
     "metadata": {},
     "output_type": "execute_result"
    }
   ],
   "source": [
    "filter_countries = True\n",
    "countries = [s.name for s in pycountry.countries]\n",
    "filter_languages = False # Resource intensive, use with care\n",
    "languages = [s.name for s in pycountry.languages]\n",
    "\n",
    "def isValidTag(s):\n",
    "    return s != '[none]' \\\n",
    "    and not s.isnumeric() \\\n",
    "    and not(filter_countries and s in countries) \\\n",
    "    and not (filter_languages and s in languages)\n",
    "def formatData(s):\n",
    "    s2 = map(lambda x: x.strip('\\\"').lower(), s)\n",
    "    res = []\n",
    "    [res.append(x) for x in s2 if x not in res]\n",
    "    return res\n",
    "\n",
    "df['parsed_tags'] = df['tags'].str.split('|')\\\n",
    "    .apply(formatData)\\\n",
    "    .apply(lambda x: list(filter(isValidTag, x)))\n",
    "df = df.drop('tags', axis=1)\n",
    "df['parsed_tags'].head()\n"
   ],
   "metadata": {
    "collapsed": false,
    "pycharm": {
     "name": "#%%\n"
    }
   }
  },
  {
   "cell_type": "markdown",
   "source": [
    "## Calculate tag count per video"
   ],
   "metadata": {
    "collapsed": false,
    "pycharm": {
     "name": "#%% md\n"
    }
   }
  },
  {
   "cell_type": "code",
   "execution_count": 30,
   "outputs": [
    {
     "data": {
      "text/plain": "      video_id                                              title  \\\n0  LgVi6y5QIjM  Sing zu Ende! | Gesangseinlagen vom Feinsten |...   \n1  Bayt7uQith4  Kinder ferngesteuert im Kiosk! Erwachsene abzo...   \n2  1ZAPwfrtAFY  The Trump Presidency: Last Week Tonight with J...   \n3  AHtypnRk7JE                                Das Fermi-Paradoxon   \n4  ZJ9We4bjcg0           18 SONGS mit Kelly MissesVlog (Sing-off)   \n\n   trending_category                                        parsed_tags  \\\n0                  1  [inscope21, sing zu ende, gesangseinlagen, ges...   \n1                  2  [kinder, ferngesteuert, kinder ferngesteuert, ...   \n2                  1  [last week tonight trump presidency, last week...   \n3                  2  [physik, wissenschaft, technik, science-fictio...   \n4                  2  [kelly, missesvlog, kelly song, bausa, bausa w...   \n\n   tag_count  \n0         16  \n1         27  \n2          4  \n3          9  \n4          5  ",
      "text/html": "<div>\n<style scoped>\n    .dataframe tbody tr th:only-of-type {\n        vertical-align: middle;\n    }\n\n    .dataframe tbody tr th {\n        vertical-align: top;\n    }\n\n    .dataframe thead th {\n        text-align: right;\n    }\n</style>\n<table border=\"1\" class=\"dataframe\">\n  <thead>\n    <tr style=\"text-align: right;\">\n      <th></th>\n      <th>video_id</th>\n      <th>title</th>\n      <th>trending_category</th>\n      <th>parsed_tags</th>\n      <th>tag_count</th>\n    </tr>\n  </thead>\n  <tbody>\n    <tr>\n      <th>0</th>\n      <td>LgVi6y5QIjM</td>\n      <td>Sing zu Ende! | Gesangseinlagen vom Feinsten |...</td>\n      <td>1</td>\n      <td>[inscope21, sing zu ende, gesangseinlagen, ges...</td>\n      <td>16</td>\n    </tr>\n    <tr>\n      <th>1</th>\n      <td>Bayt7uQith4</td>\n      <td>Kinder ferngesteuert im Kiosk! Erwachsene abzo...</td>\n      <td>2</td>\n      <td>[kinder, ferngesteuert, kinder ferngesteuert, ...</td>\n      <td>27</td>\n    </tr>\n    <tr>\n      <th>2</th>\n      <td>1ZAPwfrtAFY</td>\n      <td>The Trump Presidency: Last Week Tonight with J...</td>\n      <td>1</td>\n      <td>[last week tonight trump presidency, last week...</td>\n      <td>4</td>\n    </tr>\n    <tr>\n      <th>3</th>\n      <td>AHtypnRk7JE</td>\n      <td>Das Fermi-Paradoxon</td>\n      <td>2</td>\n      <td>[physik, wissenschaft, technik, science-fictio...</td>\n      <td>9</td>\n    </tr>\n    <tr>\n      <th>4</th>\n      <td>ZJ9We4bjcg0</td>\n      <td>18 SONGS mit Kelly MissesVlog (Sing-off)</td>\n      <td>2</td>\n      <td>[kelly, missesvlog, kelly song, bausa, bausa w...</td>\n      <td>5</td>\n    </tr>\n  </tbody>\n</table>\n</div>"
     },
     "execution_count": 30,
     "metadata": {},
     "output_type": "execute_result"
    }
   ],
   "source": [
    "df['tag_count'] = df.apply( lambda row: len(row['parsed_tags']), axis=1)\n",
    "df.head()"
   ],
   "metadata": {
    "collapsed": false,
    "pycharm": {
     "name": "#%%\n"
    }
   }
  },
  {
   "cell_type": "markdown",
   "source": [
    "## Calculate total tag counts"
   ],
   "metadata": {
    "collapsed": false
   }
  },
  {
   "cell_type": "code",
   "execution_count": 31,
   "outputs": [],
   "source": [
    "def to_1D(series):\n",
    "    return pd.Series([x for _list in series for x in _list])\n",
    "tag_counts = to_1D(df['parsed_tags']).value_counts()\n",
    "tag_counts.name = \"counts\""
   ],
   "metadata": {
    "collapsed": false,
    "pycharm": {
     "name": "#%%\n"
    }
   }
  },
  {
   "cell_type": "markdown",
   "source": [
    "## Display top 20 tags"
   ],
   "metadata": {
    "collapsed": false
   }
  },
  {
   "cell_type": "code",
   "execution_count": 32,
   "outputs": [
    {
     "name": "stderr",
     "output_type": "stream",
     "text": [
      "d:\\programme\\python\\python39\\lib\\site-packages\\seaborn\\_decorators.py:36: FutureWarning: Pass the following variables as keyword args: x, y. From version 0.12, the only valid positional argument will be `data`, and passing other arguments without an explicit keyword will result in an error or misinterpretation.\n",
      "  warnings.warn(\n"
     ]
    },
    {
     "data": {
      "text/plain": "<AxesSubplot:>"
     },
     "execution_count": 32,
     "metadata": {},
     "output_type": "execute_result"
    },
    {
     "data": {
      "text/plain": "<Figure size 1440x432 with 1 Axes>",
      "image/png": "[encoded data removed]"
     },
     "metadata": {
      "needs_background": "light"
     },
     "output_type": "display_data"
    }
   ],
   "source": [
    "top_tags = tag_counts.head(20)\n",
    "sns.barplot(top_tags.index, top_tags.values)\n",
    "\n",
    "# https://towardsdatascience.com/dealing-with-list-values-in-pandas-dataframes-a177e534f173"
   ],
   "metadata": {
    "collapsed": false,
    "pycharm": {
     "name": "#%%\n"
    }
   }
  },
  {
   "cell_type": "markdown",
   "source": [
    "## Convert tags into their own table"
   ],
   "metadata": {
    "collapsed": false
   }
  },
  {
   "cell_type": "code",
   "execution_count": 33,
   "outputs": [
    {
     "data": {
      "text/plain": "                                   0                               1   \\\n0                           inscope21                    sing zu ende   \n1                              kinder                   ferngesteuert   \n2  last week tonight trump presidency  last week tonight donald trump   \n3                              physik                    wissenschaft   \n4                               kelly                      missesvlog   \n\n                     2                      3                              4   \\\n0       gesangseinlagen                 gesang                       gesungen   \n1  kinder ferngesteuert  luke mockridge kinder  luke die woche und ich kinder   \n2     john oliver trump           donald trump                            NaN   \n3               technik        science-fiction                  außerirdische   \n4            kelly song                  bausa      bausa was du liebe nennst   \n\n                 5           6             7                8   \\\n0  songs nachsingen  nachsingen  songs covern  carpool karaoke   \n1             prank  verarschen         kiosk        funkgerät   \n2               NaN         NaN           NaN              NaN   \n3             alien      aliens         fermi  fermi-paradoxon   \n4               NaN         NaN           NaN              NaN   \n\n                9   ...   69   70   71   72   73   74   75   76   77   78  \n0  witziger gesang  ...  NaN  NaN  NaN  NaN  NaN  NaN  NaN  NaN  NaN  NaN  \n1       falschgeld  ...  NaN  NaN  NaN  NaN  NaN  NaN  NaN  NaN  NaN  NaN  \n2              NaN  ...  NaN  NaN  NaN  NaN  NaN  NaN  NaN  NaN  NaN  NaN  \n3              NaN  ...  NaN  NaN  NaN  NaN  NaN  NaN  NaN  NaN  NaN  NaN  \n4              NaN  ...  NaN  NaN  NaN  NaN  NaN  NaN  NaN  NaN  NaN  NaN  \n\n[5 rows x 79 columns]",
      "text/html": "<div>\n<style scoped>\n    .dataframe tbody tr th:only-of-type {\n        vertical-align: middle;\n    }\n\n    .dataframe tbody tr th {\n        vertical-align: top;\n    }\n\n    .dataframe thead th {\n        text-align: right;\n    }\n</style>\n<table border=\"1\" class=\"dataframe\">\n  <thead>\n    <tr style=\"text-align: right;\">\n      <th></th>\n      <th>0</th>\n      <th>1</th>\n      <th>2</th>\n      <th>3</th>\n      <th>4</th>\n      <th>5</th>\n      <th>6</th>\n      <th>7</th>\n      <th>8</th>\n      <th>9</th>\n      <th>...</th>\n      <th>69</th>\n      <th>70</th>\n      <th>71</th>\n      <th>72</th>\n      <th>73</th>\n      <th>74</th>\n      <th>75</th>\n      <th>76</th>\n      <th>77</th>\n      <th>78</th>\n    </tr>\n  </thead>\n  <tbody>\n    <tr>\n      <th>0</th>\n      <td>inscope21</td>\n      <td>sing zu ende</td>\n      <td>gesangseinlagen</td>\n      <td>gesang</td>\n      <td>gesungen</td>\n      <td>songs nachsingen</td>\n      <td>nachsingen</td>\n      <td>songs covern</td>\n      <td>carpool karaoke</td>\n      <td>witziger gesang</td>\n      <td>...</td>\n      <td>NaN</td>\n      <td>NaN</td>\n      <td>NaN</td>\n      <td>NaN</td>\n      <td>NaN</td>\n      <td>NaN</td>\n      <td>NaN</td>\n      <td>NaN</td>\n      <td>NaN</td>\n      <td>NaN</td>\n    </tr>\n    <tr>\n      <th>1</th>\n      <td>kinder</td>\n      <td>ferngesteuert</td>\n      <td>kinder ferngesteuert</td>\n      <td>luke mockridge kinder</td>\n      <td>luke die woche und ich kinder</td>\n      <td>prank</td>\n      <td>verarschen</td>\n      <td>kiosk</td>\n      <td>funkgerät</td>\n      <td>falschgeld</td>\n      <td>...</td>\n      <td>NaN</td>\n      <td>NaN</td>\n      <td>NaN</td>\n      <td>NaN</td>\n      <td>NaN</td>\n      <td>NaN</td>\n      <td>NaN</td>\n      <td>NaN</td>\n      <td>NaN</td>\n      <td>NaN</td>\n    </tr>\n    <tr>\n      <th>2</th>\n      <td>last week tonight trump presidency</td>\n      <td>last week tonight donald trump</td>\n      <td>john oliver trump</td>\n      <td>donald trump</td>\n      <td>NaN</td>\n      <td>NaN</td>\n      <td>NaN</td>\n      <td>NaN</td>\n      <td>NaN</td>\n      <td>NaN</td>\n      <td>...</td>\n      <td>NaN</td>\n      <td>NaN</td>\n      <td>NaN</td>\n      <td>NaN</td>\n      <td>NaN</td>\n      <td>NaN</td>\n      <td>NaN</td>\n      <td>NaN</td>\n      <td>NaN</td>\n      <td>NaN</td>\n    </tr>\n    <tr>\n      <th>3</th>\n      <td>physik</td>\n      <td>wissenschaft</td>\n      <td>technik</td>\n      <td>science-fiction</td>\n      <td>außerirdische</td>\n      <td>alien</td>\n      <td>aliens</td>\n      <td>fermi</td>\n      <td>fermi-paradoxon</td>\n      <td>NaN</td>\n      <td>...</td>\n      <td>NaN</td>\n      <td>NaN</td>\n      <td>NaN</td>\n      <td>NaN</td>\n      <td>NaN</td>\n      <td>NaN</td>\n      <td>NaN</td>\n      <td>NaN</td>\n      <td>NaN</td>\n      <td>NaN</td>\n    </tr>\n    <tr>\n      <th>4</th>\n      <td>kelly</td>\n      <td>missesvlog</td>\n      <td>kelly song</td>\n      <td>bausa</td>\n      <td>bausa was du liebe nennst</td>\n      <td>NaN</td>\n      <td>NaN</td>\n      <td>NaN</td>\n      <td>NaN</td>\n      <td>NaN</td>\n      <td>...</td>\n      <td>NaN</td>\n      <td>NaN</td>\n      <td>NaN</td>\n      <td>NaN</td>\n      <td>NaN</td>\n      <td>NaN</td>\n      <td>NaN</td>\n      <td>NaN</td>\n      <td>NaN</td>\n      <td>NaN</td>\n    </tr>\n  </tbody>\n</table>\n<p>5 rows × 79 columns</p>\n</div>"
     },
     "execution_count": 33,
     "metadata": {},
     "output_type": "execute_result"
    }
   ],
   "source": [
    "tags_df = df['parsed_tags'].apply(pd.Series)\n",
    "tags_df.head()"
   ],
   "metadata": {
    "collapsed": false,
    "pycharm": {
     "name": "#%%\n"
    }
   }
  },
  {
   "cell_type": "markdown",
   "source": [
    "## Calculate tag usage"
   ],
   "metadata": {
    "collapsed": false
   }
  },
  {
   "cell_type": "code",
   "execution_count": 34,
   "outputs": [
    {
     "data": {
      "text/plain": "atv                                                              0.009257\nçukur                                                            0.006242\nfox                                                              0.005501\nfußball                                                          0.004787\nшарий                                                            0.004734\n                                                                   ...   \n#polarfuchs                                                      0.000026\nlustige life hacks                                               0.000026\nlg v30                                                           0.000026\nthomas tuchel                                                    0.000026\nευα σε δωρο: ...απλα σου λεω ξεκαθαρα μου αρεσεις σαν αντρας     0.000026\nName: 0, Length: 9978, dtype: float64"
     },
     "execution_count": 34,
     "metadata": {},
     "output_type": "execute_result"
    }
   ],
   "source": [
    "tags_df.iloc[:, 0].value_counts(normalize=True)"
   ],
   "metadata": {
    "collapsed": false,
    "pycharm": {
     "name": "#%%\n"
    }
   }
  },
  {
   "cell_type": "markdown",
   "source": [
    "## Convert tags to binary table"
   ],
   "metadata": {
    "collapsed": false
   }
  },
  {
   "cell_type": "code",
   "execution_count": 35,
   "outputs": [
    {
     "data": {
      "text/plain": "      tv  comedy  funny  deutsch   news    diy  german    rap  deutschland  \\\n0  False   False  False    False  False  False   False   True        False   \n1  False    True  False    False  False  False   False  False        False   \n2  False   False  False    False  False  False   False  False        False   \n3  False   False  False    False  False  False   False  False        False   \n4  False   False  False    False  False  False   False  False        False   \n\n   music  ...  jimmy  failarmy kids  eminem    मैच  adults react  freshtorge  \\\n0  False  ...  False          False   False  False         False       False   \n1  False  ...  False          False   False  False         False       False   \n2  False  ...  False          False   False  False         False       False   \n3  False  ...  False          False   False  False         False       False   \n4  False  ...  False          False   False  False         False       False   \n\n   folge'  bad friends  winter  phil laude  \n0   False        False   False       False  \n1   False        False   False       False  \n2   False        False   False       False  \n3   False        False   False       False  \n4   False        False   False       False  \n\n[5 rows x 1000 columns]",
      "text/html": "<div>\n<style scoped>\n    .dataframe tbody tr th:only-of-type {\n        vertical-align: middle;\n    }\n\n    .dataframe tbody tr th {\n        vertical-align: top;\n    }\n\n    .dataframe thead th {\n        text-align: right;\n    }\n</style>\n<table border=\"1\" class=\"dataframe\">\n  <thead>\n    <tr style=\"text-align: right;\">\n      <th></th>\n      <th>tv</th>\n      <th>comedy</th>\n      <th>funny</th>\n      <th>deutsch</th>\n      <th>news</th>\n      <th>diy</th>\n      <th>german</th>\n      <th>rap</th>\n      <th>deutschland</th>\n      <th>music</th>\n      <th>...</th>\n      <th>jimmy</th>\n      <th>failarmy kids</th>\n      <th>eminem</th>\n      <th>मैच</th>\n      <th>adults react</th>\n      <th>freshtorge</th>\n      <th>folge'</th>\n      <th>bad friends</th>\n      <th>winter</th>\n      <th>phil laude</th>\n    </tr>\n  </thead>\n  <tbody>\n    <tr>\n      <th>0</th>\n      <td>False</td>\n      <td>False</td>\n      <td>False</td>\n      <td>False</td>\n      <td>False</td>\n      <td>False</td>\n      <td>False</td>\n      <td>True</td>\n      <td>False</td>\n      <td>False</td>\n      <td>...</td>\n      <td>False</td>\n      <td>False</td>\n      <td>False</td>\n      <td>False</td>\n      <td>False</td>\n      <td>False</td>\n      <td>False</td>\n      <td>False</td>\n      <td>False</td>\n      <td>False</td>\n    </tr>\n    <tr>\n      <th>1</th>\n      <td>False</td>\n      <td>True</td>\n      <td>False</td>\n      <td>False</td>\n      <td>False</td>\n      <td>False</td>\n      <td>False</td>\n      <td>False</td>\n      <td>False</td>\n      <td>False</td>\n      <td>...</td>\n      <td>False</td>\n      <td>False</td>\n      <td>False</td>\n      <td>False</td>\n      <td>False</td>\n      <td>False</td>\n      <td>False</td>\n      <td>False</td>\n      <td>False</td>\n      <td>False</td>\n    </tr>\n    <tr>\n      <th>2</th>\n      <td>False</td>\n      <td>False</td>\n      <td>False</td>\n      <td>False</td>\n      <td>False</td>\n      <td>False</td>\n      <td>False</td>\n      <td>False</td>\n      <td>False</td>\n      <td>False</td>\n      <td>...</td>\n      <td>False</td>\n      <td>False</td>\n      <td>False</td>\n      <td>False</td>\n      <td>False</td>\n      <td>False</td>\n      <td>False</td>\n      <td>False</td>\n      <td>False</td>\n      <td>False</td>\n    </tr>\n    <tr>\n      <th>3</th>\n      <td>False</td>\n      <td>False</td>\n      <td>False</td>\n      <td>False</td>\n      <td>False</td>\n      <td>False</td>\n      <td>False</td>\n      <td>False</td>\n      <td>False</td>\n      <td>False</td>\n      <td>...</td>\n      <td>False</td>\n      <td>False</td>\n      <td>False</td>\n      <td>False</td>\n      <td>False</td>\n      <td>False</td>\n      <td>False</td>\n      <td>False</td>\n      <td>False</td>\n      <td>False</td>\n    </tr>\n    <tr>\n      <th>4</th>\n      <td>False</td>\n      <td>False</td>\n      <td>False</td>\n      <td>False</td>\n      <td>False</td>\n      <td>False</td>\n      <td>False</td>\n      <td>False</td>\n      <td>False</td>\n      <td>False</td>\n      <td>...</td>\n      <td>False</td>\n      <td>False</td>\n      <td>False</td>\n      <td>False</td>\n      <td>False</td>\n      <td>False</td>\n      <td>False</td>\n      <td>False</td>\n      <td>False</td>\n      <td>False</td>\n    </tr>\n  </tbody>\n</table>\n<p>5 rows × 1000 columns</p>\n</div>"
     },
     "execution_count": 35,
     "metadata": {},
     "output_type": "execute_result"
    }
   ],
   "source": [
    "def boolean_df(item_lists, items):\n",
    "    bool_dict={}\n",
    "    for i, item in enumerate(items):\n",
    "        bool_dict[item] = item_lists.apply(lambda x: item in x)\n",
    "    return pd.DataFrame(bool_dict)\n",
    "\n",
    "tags_start = 0\n",
    "tags_end = 1000\n",
    "\n",
    "#unique_items = tag_counts.where(lambda x: x > 500).dropna().index\n",
    "unique_items = tag_counts.head(tags_end).tail(tags_end-tags_start).index\n",
    "head_tags = df['parsed_tags']\n",
    "tags_bool = boolean_df(head_tags, unique_items)\n",
    "tags_bool.head()"
   ],
   "metadata": {
    "collapsed": false,
    "pycharm": {
     "name": "#%%\n"
    }
   }
  },
  {
   "cell_type": "markdown",
   "source": [
    "## Tags as correlation matrix"
   ],
   "metadata": {
    "collapsed": false
   }
  },
  {
   "cell_type": "code",
   "execution_count": 36,
   "outputs": [],
   "source": [
    "#tags_int = tags_bool.astype(int)\n",
    "#tags_freq_mat = np.dot(tags_int.T, tags_int)\n",
    "#np.fill_diagonal(tags_freq_mat, 0)\n",
    "\n",
    "#tags_freq = pd.DataFrame(tags_freq_mat, columns = unique_items, index = unique_items)\n",
    "\n",
    "#fix, ax = plt.subplots(figsize = (9,5))\n",
    "#sns.heatmap(tags_freq, cmap = \"Blues\")\n",
    "#plt.xticks(rotation=50)\n",
    "#plt.savefig(\"heatmap.png\", dpi = 300)\n",
    "\n"
   ],
   "metadata": {
    "collapsed": false,
    "pycharm": {
     "name": "#%%\n"
    }
   }
  },
  {
   "cell_type": "code",
   "execution_count": 37,
   "outputs": [
    {
     "data": {
      "text/plain": "       tv  comedy  funny  deutsch  news  diy  german   rap  deutschland  \\\n0     NaN     NaN    NaN      NaN   NaN  NaN     NaN  0.75          NaN   \n1     NaN     0.5    NaN      NaN   NaN  NaN     NaN   NaN          NaN   \n2     NaN     NaN    NaN      NaN   NaN  NaN     NaN   NaN          NaN   \n3     NaN     NaN    NaN      NaN   NaN  NaN     NaN   NaN          NaN   \n4     NaN     NaN    NaN      NaN   NaN  NaN     NaN   NaN          NaN   \n...    ..     ...    ...      ...   ...  ...     ...   ...          ...   \n40835 NaN     NaN    NaN      NaN   NaN  NaN     NaN   NaN          NaN   \n40836 NaN     NaN    NaN      NaN   NaN  NaN     NaN   NaN          NaN   \n40837 NaN     NaN    NaN      NaN   NaN  NaN     NaN   NaN          NaN   \n40838 NaN     NaN    NaN      NaN   NaN  NaN     NaN   NaN          NaN   \n40839 NaN     NaN    NaN      NaN   NaN  NaN     NaN   NaN          NaN   \n\n       music  ...  jimmy  failarmy kids  eminem  मैच  adults react  \\\n0        NaN  ...    NaN            NaN     NaN  NaN           NaN   \n1        NaN  ...    NaN            NaN     NaN  NaN           NaN   \n2        NaN  ...    NaN            NaN     NaN  NaN           NaN   \n3        NaN  ...    NaN            NaN     NaN  NaN           NaN   \n4        NaN  ...    NaN            NaN     NaN  NaN           NaN   \n...      ...  ...    ...            ...     ...  ...           ...   \n40835    NaN  ...    NaN            NaN     NaN  NaN           NaN   \n40836    NaN  ...    NaN            NaN     NaN  NaN           NaN   \n40837    NaN  ...    NaN            NaN     NaN  NaN           NaN   \n40838    NaN  ...    NaN            NaN     NaN  NaN           NaN   \n40839    NaN  ...    NaN            NaN     NaN  NaN           NaN   \n\n       freshtorge  folge'  bad friends  winter  phil laude  \n0             NaN     NaN          NaN     NaN         NaN  \n1             NaN     NaN          NaN     NaN         NaN  \n2             NaN     NaN          NaN     NaN         NaN  \n3             NaN     NaN          NaN     NaN         NaN  \n4             NaN     NaN          NaN     NaN         NaN  \n...           ...     ...          ...     ...         ...  \n40835         NaN     NaN          NaN     NaN         NaN  \n40836         NaN     NaN          NaN     NaN         NaN  \n40837         NaN     NaN          NaN     NaN         NaN  \n40838         NaN     NaN          NaN     NaN         NaN  \n40839         NaN     NaN          NaN     NaN         NaN  \n\n[40840 rows x 1000 columns]",
      "text/html": "<div>\n<style scoped>\n    .dataframe tbody tr th:only-of-type {\n        vertical-align: middle;\n    }\n\n    .dataframe tbody tr th {\n        vertical-align: top;\n    }\n\n    .dataframe thead th {\n        text-align: right;\n    }\n</style>\n<table border=\"1\" class=\"dataframe\">\n  <thead>\n    <tr style=\"text-align: right;\">\n      <th></th>\n      <th>tv</th>\n      <th>comedy</th>\n      <th>funny</th>\n      <th>deutsch</th>\n      <th>news</th>\n      <th>diy</th>\n      <th>german</th>\n      <th>rap</th>\n      <th>deutschland</th>\n      <th>music</th>\n      <th>...</th>\n      <th>jimmy</th>\n      <th>failarmy kids</th>\n      <th>eminem</th>\n      <th>मैच</th>\n      <th>adults react</th>\n      <th>freshtorge</th>\n      <th>folge'</th>\n      <th>bad friends</th>\n      <th>winter</th>\n      <th>phil laude</th>\n    </tr>\n  </thead>\n  <tbody>\n    <tr>\n      <th>0</th>\n      <td>NaN</td>\n      <td>NaN</td>\n      <td>NaN</td>\n      <td>NaN</td>\n      <td>NaN</td>\n      <td>NaN</td>\n      <td>NaN</td>\n      <td>0.75</td>\n      <td>NaN</td>\n      <td>NaN</td>\n      <td>...</td>\n      <td>NaN</td>\n      <td>NaN</td>\n      <td>NaN</td>\n      <td>NaN</td>\n      <td>NaN</td>\n      <td>NaN</td>\n      <td>NaN</td>\n      <td>NaN</td>\n      <td>NaN</td>\n      <td>NaN</td>\n    </tr>\n    <tr>\n      <th>1</th>\n      <td>NaN</td>\n      <td>0.5</td>\n      <td>NaN</td>\n      <td>NaN</td>\n      <td>NaN</td>\n      <td>NaN</td>\n      <td>NaN</td>\n      <td>NaN</td>\n      <td>NaN</td>\n      <td>NaN</td>\n      <td>...</td>\n      <td>NaN</td>\n      <td>NaN</td>\n      <td>NaN</td>\n      <td>NaN</td>\n      <td>NaN</td>\n      <td>NaN</td>\n      <td>NaN</td>\n      <td>NaN</td>\n      <td>NaN</td>\n      <td>NaN</td>\n    </tr>\n    <tr>\n      <th>2</th>\n      <td>NaN</td>\n      <td>NaN</td>\n      <td>NaN</td>\n      <td>NaN</td>\n      <td>NaN</td>\n      <td>NaN</td>\n      <td>NaN</td>\n      <td>NaN</td>\n      <td>NaN</td>\n      <td>NaN</td>\n      <td>...</td>\n      <td>NaN</td>\n      <td>NaN</td>\n      <td>NaN</td>\n      <td>NaN</td>\n      <td>NaN</td>\n      <td>NaN</td>\n      <td>NaN</td>\n      <td>NaN</td>\n      <td>NaN</td>\n      <td>NaN</td>\n    </tr>\n    <tr>\n      <th>3</th>\n      <td>NaN</td>\n      <td>NaN</td>\n      <td>NaN</td>\n      <td>NaN</td>\n      <td>NaN</td>\n      <td>NaN</td>\n      <td>NaN</td>\n      <td>NaN</td>\n      <td>NaN</td>\n      <td>NaN</td>\n      <td>...</td>\n      <td>NaN</td>\n      <td>NaN</td>\n      <td>NaN</td>\n      <td>NaN</td>\n      <td>NaN</td>\n      <td>NaN</td>\n      <td>NaN</td>\n      <td>NaN</td>\n      <td>NaN</td>\n      <td>NaN</td>\n    </tr>\n    <tr>\n      <th>4</th>\n      <td>NaN</td>\n      <td>NaN</td>\n      <td>NaN</td>\n      <td>NaN</td>\n      <td>NaN</td>\n      <td>NaN</td>\n      <td>NaN</td>\n      <td>NaN</td>\n      <td>NaN</td>\n      <td>NaN</td>\n      <td>...</td>\n      <td>NaN</td>\n      <td>NaN</td>\n      <td>NaN</td>\n      <td>NaN</td>\n      <td>NaN</td>\n      <td>NaN</td>\n      <td>NaN</td>\n      <td>NaN</td>\n      <td>NaN</td>\n      <td>NaN</td>\n    </tr>\n    <tr>\n      <th>...</th>\n      <td>...</td>\n      <td>...</td>\n      <td>...</td>\n      <td>...</td>\n      <td>...</td>\n      <td>...</td>\n      <td>...</td>\n      <td>...</td>\n      <td>...</td>\n      <td>...</td>\n      <td>...</td>\n      <td>...</td>\n      <td>...</td>\n      <td>...</td>\n      <td>...</td>\n      <td>...</td>\n      <td>...</td>\n      <td>...</td>\n      <td>...</td>\n      <td>...</td>\n      <td>...</td>\n    </tr>\n    <tr>\n      <th>40835</th>\n      <td>NaN</td>\n      <td>NaN</td>\n      <td>NaN</td>\n      <td>NaN</td>\n      <td>NaN</td>\n      <td>NaN</td>\n      <td>NaN</td>\n      <td>NaN</td>\n      <td>NaN</td>\n      <td>NaN</td>\n      <td>...</td>\n      <td>NaN</td>\n      <td>NaN</td>\n      <td>NaN</td>\n      <td>NaN</td>\n      <td>NaN</td>\n      <td>NaN</td>\n      <td>NaN</td>\n      <td>NaN</td>\n      <td>NaN</td>\n      <td>NaN</td>\n    </tr>\n    <tr>\n      <th>40836</th>\n      <td>NaN</td>\n      <td>NaN</td>\n      <td>NaN</td>\n      <td>NaN</td>\n      <td>NaN</td>\n      <td>NaN</td>\n      <td>NaN</td>\n      <td>NaN</td>\n      <td>NaN</td>\n      <td>NaN</td>\n      <td>...</td>\n      <td>NaN</td>\n      <td>NaN</td>\n      <td>NaN</td>\n      <td>NaN</td>\n      <td>NaN</td>\n      <td>NaN</td>\n      <td>NaN</td>\n      <td>NaN</td>\n      <td>NaN</td>\n      <td>NaN</td>\n    </tr>\n    <tr>\n      <th>40837</th>\n      <td>NaN</td>\n      <td>NaN</td>\n      <td>NaN</td>\n      <td>NaN</td>\n      <td>NaN</td>\n      <td>NaN</td>\n      <td>NaN</td>\n      <td>NaN</td>\n      <td>NaN</td>\n      <td>NaN</td>\n      <td>...</td>\n      <td>NaN</td>\n      <td>NaN</td>\n      <td>NaN</td>\n      <td>NaN</td>\n      <td>NaN</td>\n      <td>NaN</td>\n      <td>NaN</td>\n      <td>NaN</td>\n      <td>NaN</td>\n      <td>NaN</td>\n    </tr>\n    <tr>\n      <th>40838</th>\n      <td>NaN</td>\n      <td>NaN</td>\n      <td>NaN</td>\n      <td>NaN</td>\n      <td>NaN</td>\n      <td>NaN</td>\n      <td>NaN</td>\n      <td>NaN</td>\n      <td>NaN</td>\n      <td>NaN</td>\n      <td>...</td>\n      <td>NaN</td>\n      <td>NaN</td>\n      <td>NaN</td>\n      <td>NaN</td>\n      <td>NaN</td>\n      <td>NaN</td>\n      <td>NaN</td>\n      <td>NaN</td>\n      <td>NaN</td>\n      <td>NaN</td>\n    </tr>\n    <tr>\n      <th>40839</th>\n      <td>NaN</td>\n      <td>NaN</td>\n      <td>NaN</td>\n      <td>NaN</td>\n      <td>NaN</td>\n      <td>NaN</td>\n      <td>NaN</td>\n      <td>NaN</td>\n      <td>NaN</td>\n      <td>NaN</td>\n      <td>...</td>\n      <td>NaN</td>\n      <td>NaN</td>\n      <td>NaN</td>\n      <td>NaN</td>\n      <td>NaN</td>\n      <td>NaN</td>\n      <td>NaN</td>\n      <td>NaN</td>\n      <td>NaN</td>\n      <td>NaN</td>\n    </tr>\n  </tbody>\n</table>\n<p>40840 rows × 1000 columns</p>\n</div>"
     },
     "execution_count": 37,
     "metadata": {},
     "output_type": "execute_result"
    }
   ],
   "source": [
    "factors = {\n",
    "    0 : 1.0,\n",
    "    1 : 0.75,\n",
    "    2 : 0.5,\n",
    "    3 : 0.25,\n",
    "    4 : 0.0\n",
    "}\n",
    "\n",
    "def get_factor(row):\n",
    "    factor = row[0]\n",
    "    return row[1:].apply(lambda x: factor if x else np.nan)\n",
    "\n",
    "df_t = tags_bool.copy()\n",
    "df_t.insert(0,'trending_category', df['trending_category'])\n",
    "df_t['trending_category'] = df_t['trending_category'].map(lambda x: factors[x])\n",
    "df_t = df_t.apply( get_factor, axis=1)\n",
    "\n",
    "df_t"
   ],
   "metadata": {
    "collapsed": false,
    "pycharm": {
     "name": "#%%\n"
    }
   }
  },
  {
   "cell_type": "code",
   "execution_count": 38,
   "outputs": [],
   "source": [
    "tag_factors = df_t.mean(axis = 0)\n",
    "tag_factors.name = 'factors'"
   ],
   "metadata": {
    "collapsed": false,
    "pycharm": {
     "name": "#%%\n"
    }
   }
  },
  {
   "cell_type": "code",
   "execution_count": 39,
   "outputs": [
    {
     "data": {
      "text/plain": "                                  factors  counts  tag_weight\ntv                               0.639576    1981     1267.00\ncomedy                           0.630838    1777     1121.00\nfunny                            0.646199    1539      994.50\ndeutsch                          0.660104    1346      888.50\nnews                             0.661580    1114      737.00\n...                                   ...     ...         ...\nyerli hd dizi izle               0.534884      86       46.00\nfreshtorge                       0.529412      85       45.00\nbrother                          0.502874      87       43.75\ndeutschland sucht den superstar  0.500000      86       43.00\nspotify                          0.497093      86       42.75\n\n[1000 rows x 3 columns]",
      "text/html": "<div>\n<style scoped>\n    .dataframe tbody tr th:only-of-type {\n        vertical-align: middle;\n    }\n\n    .dataframe tbody tr th {\n        vertical-align: top;\n    }\n\n    .dataframe thead th {\n        text-align: right;\n    }\n</style>\n<table border=\"1\" class=\"dataframe\">\n  <thead>\n    <tr style=\"text-align: right;\">\n      <th></th>\n      <th>factors</th>\n      <th>counts</th>\n      <th>tag_weight</th>\n    </tr>\n  </thead>\n  <tbody>\n    <tr>\n      <th>tv</th>\n      <td>0.639576</td>\n      <td>1981</td>\n      <td>1267.00</td>\n    </tr>\n    <tr>\n      <th>comedy</th>\n      <td>0.630838</td>\n      <td>1777</td>\n      <td>1121.00</td>\n    </tr>\n    <tr>\n      <th>funny</th>\n      <td>0.646199</td>\n      <td>1539</td>\n      <td>994.50</td>\n    </tr>\n    <tr>\n      <th>deutsch</th>\n      <td>0.660104</td>\n      <td>1346</td>\n      <td>888.50</td>\n    </tr>\n    <tr>\n      <th>news</th>\n      <td>0.661580</td>\n      <td>1114</td>\n      <td>737.00</td>\n    </tr>\n    <tr>\n      <th>...</th>\n      <td>...</td>\n      <td>...</td>\n      <td>...</td>\n    </tr>\n    <tr>\n      <th>yerli hd dizi izle</th>\n      <td>0.534884</td>\n      <td>86</td>\n      <td>46.00</td>\n    </tr>\n    <tr>\n      <th>freshtorge</th>\n      <td>0.529412</td>\n      <td>85</td>\n      <td>45.00</td>\n    </tr>\n    <tr>\n      <th>brother</th>\n      <td>0.502874</td>\n      <td>87</td>\n      <td>43.75</td>\n    </tr>\n    <tr>\n      <th>deutschland sucht den superstar</th>\n      <td>0.500000</td>\n      <td>86</td>\n      <td>43.00</td>\n    </tr>\n    <tr>\n      <th>spotify</th>\n      <td>0.497093</td>\n      <td>86</td>\n      <td>42.75</td>\n    </tr>\n  </tbody>\n</table>\n<p>1000 rows × 3 columns</p>\n</div>"
     },
     "execution_count": 39,
     "metadata": {},
     "output_type": "execute_result"
    }
   ],
   "source": [
    "tag_metrics = tag_factors.to_frame().join(tag_counts)\n",
    "tag_metrics['tag_weight'] = tag_metrics['factors'] * tag_metrics['counts']\n",
    "tag_metrics.sort_values(by='tag_weight', ascending=False)"
   ],
   "metadata": {
    "collapsed": false,
    "pycharm": {
     "name": "#%%\n"
    }
   }
  },
  {
   "cell_type": "code",
   "execution_count": 40,
   "outputs": [],
   "source": [
    "def mapTypes(values):\n",
    "    v = map(tag_factors.get, values)\n",
    "    return [x if x is not None else np.nan for x in v]\n",
    "\n",
    "df['mapped_tags'] = df['parsed_tags'].apply(mapTypes)"
   ],
   "metadata": {
    "collapsed": false,
    "pycharm": {
     "name": "#%%\n"
    }
   }
  },
  {
   "cell_type": "code",
   "execution_count": 41,
   "outputs": [
    {
     "data": {
      "text/plain": "                                                   title  tag_factor\n0      Sing zu Ende! | Gesangseinlagen vom Feinsten |...    0.565462\n1      Kinder ferngesteuert im Kiosk! Erwachsene abzo...    0.635693\n2      The Trump Presidency: Last Week Tonight with J...    0.686567\n3                                    Das Fermi-Paradoxon    0.634190\n4               18 SONGS mit Kelly MissesVlog (Sing-off)    0.524194\n...                                                  ...         ...\n40835  KINGDOM HEARTS III – E3 2018 Pirates of the Ca...         NaN\n40836                                     YMS: The Visit         NaN\n40837  Ungut umgeschult – Grünwald als Ersthelfer am ...    0.666488\n40838  Assassin's Creed Odyssey: E3 2018 Welt-Enthüll...    0.641538\n40839  Гироскутер - Азбука Уральских Пельменей Б - Ур...         NaN\n\n[40840 rows x 2 columns]",
      "text/html": "<div>\n<style scoped>\n    .dataframe tbody tr th:only-of-type {\n        vertical-align: middle;\n    }\n\n    .dataframe tbody tr th {\n        vertical-align: top;\n    }\n\n    .dataframe thead th {\n        text-align: right;\n    }\n</style>\n<table border=\"1\" class=\"dataframe\">\n  <thead>\n    <tr style=\"text-align: right;\">\n      <th></th>\n      <th>title</th>\n      <th>tag_factor</th>\n    </tr>\n  </thead>\n  <tbody>\n    <tr>\n      <th>0</th>\n      <td>Sing zu Ende! | Gesangseinlagen vom Feinsten |...</td>\n      <td>0.565462</td>\n    </tr>\n    <tr>\n      <th>1</th>\n      <td>Kinder ferngesteuert im Kiosk! Erwachsene abzo...</td>\n      <td>0.635693</td>\n    </tr>\n    <tr>\n      <th>2</th>\n      <td>The Trump Presidency: Last Week Tonight with J...</td>\n      <td>0.686567</td>\n    </tr>\n    <tr>\n      <th>3</th>\n      <td>Das Fermi-Paradoxon</td>\n      <td>0.634190</td>\n    </tr>\n    <tr>\n      <th>4</th>\n      <td>18 SONGS mit Kelly MissesVlog (Sing-off)</td>\n      <td>0.524194</td>\n    </tr>\n    <tr>\n      <th>...</th>\n      <td>...</td>\n      <td>...</td>\n    </tr>\n    <tr>\n      <th>40835</th>\n      <td>KINGDOM HEARTS III – E3 2018 Pirates of the Ca...</td>\n      <td>NaN</td>\n    </tr>\n    <tr>\n      <th>40836</th>\n      <td>YMS: The Visit</td>\n      <td>NaN</td>\n    </tr>\n    <tr>\n      <th>40837</th>\n      <td>Ungut umgeschult – Grünwald als Ersthelfer am ...</td>\n      <td>0.666488</td>\n    </tr>\n    <tr>\n      <th>40838</th>\n      <td>Assassin's Creed Odyssey: E3 2018 Welt-Enthüll...</td>\n      <td>0.641538</td>\n    </tr>\n    <tr>\n      <th>40839</th>\n      <td>Гироскутер - Азбука Уральских Пельменей Б - Ур...</td>\n      <td>NaN</td>\n    </tr>\n  </tbody>\n</table>\n<p>40840 rows × 2 columns</p>\n</div>"
     },
     "execution_count": 41,
     "metadata": {},
     "output_type": "execute_result"
    }
   ],
   "source": [
    "def filterNanValues(x):\n",
    "    filtered = [n for n in x if not np.isnan(n)]\n",
    "    if len(filtered) == 0:\n",
    "        return np.nan\n",
    "    else:\n",
    "        return np.mean(filtered)\n",
    "\n",
    "df['tag_factor'] = df['mapped_tags'].apply(filterNanValues)\n",
    "df[['title','tag_factor']]"
   ],
   "metadata": {
    "collapsed": false,
    "pycharm": {
     "name": "#%%\n"
    }
   }
  },
  {
   "cell_type": "code",
   "execution_count": 56,
   "outputs": [
    {
     "data": {
      "text/plain": "          video_id                                              title  \\\n0      LgVi6y5QIjM  Sing zu Ende! | Gesangseinlagen vom Feinsten |...   \n1      Bayt7uQith4  Kinder ferngesteuert im Kiosk! Erwachsene abzo...   \n2      1ZAPwfrtAFY  The Trump Presidency: Last Week Tonight with J...   \n3      AHtypnRk7JE                                Das Fermi-Paradoxon   \n4      ZJ9We4bjcg0           18 SONGS mit Kelly MissesVlog (Sing-off)   \n...            ...                                                ...   \n40830  DGzy8FE1Rhk                             Shawn Mendes - Nervous   \n40832  6wb8rqDeMlU               FarmVLOG#120 - Heu rein...Gülle raus   \n40834  KYke3FFiyk4  Crime Patrol Dial 100 - Ep 796 - Full Episode ...   \n40837  zSXG5I6Y2fA  Ungut umgeschult – Grünwald als Ersthelfer am ...   \n40838  5d115sePmaU  Assassin's Creed Odyssey: E3 2018 Welt-Enthüll...   \n\n       tag_factor  tag_count  \n0        0.565462         16  \n1        0.635693         27  \n2        0.686567          4  \n3        0.634190          9  \n4        0.524194          5  \n...           ...        ...  \n40830    0.557266          6  \n40832    0.658687         50  \n40834    0.707560         32  \n40837    0.666488         33  \n40838    0.641538         22  \n\n[28878 rows x 4 columns]",
      "text/html": "<div>\n<style scoped>\n    .dataframe tbody tr th:only-of-type {\n        vertical-align: middle;\n    }\n\n    .dataframe tbody tr th {\n        vertical-align: top;\n    }\n\n    .dataframe thead th {\n        text-align: right;\n    }\n</style>\n<table border=\"1\" class=\"dataframe\">\n  <thead>\n    <tr style=\"text-align: right;\">\n      <th></th>\n      <th>video_id</th>\n      <th>title</th>\n      <th>tag_factor</th>\n      <th>tag_count</th>\n    </tr>\n  </thead>\n  <tbody>\n    <tr>\n      <th>0</th>\n      <td>LgVi6y5QIjM</td>\n      <td>Sing zu Ende! | Gesangseinlagen vom Feinsten |...</td>\n      <td>0.565462</td>\n      <td>16</td>\n    </tr>\n    <tr>\n      <th>1</th>\n      <td>Bayt7uQith4</td>\n      <td>Kinder ferngesteuert im Kiosk! Erwachsene abzo...</td>\n      <td>0.635693</td>\n      <td>27</td>\n    </tr>\n    <tr>\n      <th>2</th>\n      <td>1ZAPwfrtAFY</td>\n      <td>The Trump Presidency: Last Week Tonight with J...</td>\n      <td>0.686567</td>\n      <td>4</td>\n    </tr>\n    <tr>\n      <th>3</th>\n      <td>AHtypnRk7JE</td>\n      <td>Das Fermi-Paradoxon</td>\n      <td>0.634190</td>\n      <td>9</td>\n    </tr>\n    <tr>\n      <th>4</th>\n      <td>ZJ9We4bjcg0</td>\n      <td>18 SONGS mit Kelly MissesVlog (Sing-off)</td>\n      <td>0.524194</td>\n      <td>5</td>\n    </tr>\n    <tr>\n      <th>...</th>\n      <td>...</td>\n      <td>...</td>\n      <td>...</td>\n      <td>...</td>\n    </tr>\n    <tr>\n      <th>40830</th>\n      <td>DGzy8FE1Rhk</td>\n      <td>Shawn Mendes - Nervous</td>\n      <td>0.557266</td>\n      <td>6</td>\n    </tr>\n    <tr>\n      <th>40832</th>\n      <td>6wb8rqDeMlU</td>\n      <td>FarmVLOG#120 - Heu rein...Gülle raus</td>\n      <td>0.658687</td>\n      <td>50</td>\n    </tr>\n    <tr>\n      <th>40834</th>\n      <td>KYke3FFiyk4</td>\n      <td>Crime Patrol Dial 100 - Ep 796 - Full Episode ...</td>\n      <td>0.707560</td>\n      <td>32</td>\n    </tr>\n    <tr>\n      <th>40837</th>\n      <td>zSXG5I6Y2fA</td>\n      <td>Ungut umgeschult – Grünwald als Ersthelfer am ...</td>\n      <td>0.666488</td>\n      <td>33</td>\n    </tr>\n    <tr>\n      <th>40838</th>\n      <td>5d115sePmaU</td>\n      <td>Assassin's Creed Odyssey: E3 2018 Welt-Enthüll...</td>\n      <td>0.641538</td>\n      <td>22</td>\n    </tr>\n  </tbody>\n</table>\n<p>28878 rows × 4 columns</p>\n</div>"
     },
     "execution_count": 56,
     "metadata": {},
     "output_type": "execute_result"
    }
   ],
   "source": [
    "target_videos = df[df['tag_factor'].notna()]\n",
    "target_videos[['video_id','title','tag_factor', 'tag_count']].sort_values(by=['tag_factor'], ascending=False).head(20)\n",
    "#sorted_tags_df = tags_df.sort_values(by=['tag_factor'], ascending=False)"
   ],
   "metadata": {
    "collapsed": false,
    "pycharm": {
     "name": "#%%\n"
    }
   }
  },
  {
   "cell_type": "markdown",
   "source": [
    "## Data coverage"
   ],
   "metadata": {
    "collapsed": false,
    "pycharm": {
     "name": "#%% md\n"
    }
   }
  },
  {
   "cell_type": "code",
   "execution_count": 43,
   "outputs": [
    {
     "data": {
      "text/plain": "0.7071008814887365"
     },
     "execution_count": 43,
     "metadata": {},
     "output_type": "execute_result"
    }
   ],
   "source": [
    "len(target_videos.index) / len(df.index)"
   ],
   "metadata": {
    "collapsed": false,
    "pycharm": {
     "name": "#%%\n"
    }
   }
  },
  {
   "cell_type": "markdown",
   "source": [
    "## Save tag factors to csv"
   ],
   "metadata": {
    "collapsed": false,
    "pycharm": {
     "name": "#%% md\n"
    }
   }
  },
  {
   "cell_type": "code",
   "execution_count": 44,
   "outputs": [],
   "source": [
    "tag_df = tag_metrics.sort_values(by='factors', ascending=False)\n",
    "tag_df['tags'] = tag_df.index\n",
    "tag_df[['tags','factors','counts']].to_csv('../data/tags.csv', header=['tag','factor','count'], index=False)"
   ],
   "metadata": {
    "collapsed": false,
    "pycharm": {
     "name": "#%%\n"
    }
   }
  },
  {
   "cell_type": "markdown",
   "source": [
    "## Load Tags"
   ],
   "metadata": {
    "collapsed": false,
    "pycharm": {
     "name": "#%% md\n"
    }
   }
  },
  {
   "cell_type": "code",
   "execution_count": 72,
   "outputs": [
    {
     "data": {
      "text/plain": "                        factor  count\ntag                                  \nnba                   0.769531    128\nmüge anlı atv izle    0.760753     93\ntelevizyon izle       0.760000    100\natv müge anlı         0.760000    100\nmüge anlı son dakika  0.760000    100",
      "text/html": "<div>\n<style scoped>\n    .dataframe tbody tr th:only-of-type {\n        vertical-align: middle;\n    }\n\n    .dataframe tbody tr th {\n        vertical-align: top;\n    }\n\n    .dataframe thead th {\n        text-align: right;\n    }\n</style>\n<table border=\"1\" class=\"dataframe\">\n  <thead>\n    <tr style=\"text-align: right;\">\n      <th></th>\n      <th>factor</th>\n      <th>count</th>\n    </tr>\n    <tr>\n      <th>tag</th>\n      <th></th>\n      <th></th>\n    </tr>\n  </thead>\n  <tbody>\n    <tr>\n      <th>nba</th>\n      <td>0.769531</td>\n      <td>128</td>\n    </tr>\n    <tr>\n      <th>müge anlı atv izle</th>\n      <td>0.760753</td>\n      <td>93</td>\n    </tr>\n    <tr>\n      <th>televizyon izle</th>\n      <td>0.760000</td>\n      <td>100</td>\n    </tr>\n    <tr>\n      <th>atv müge anlı</th>\n      <td>0.760000</td>\n      <td>100</td>\n    </tr>\n    <tr>\n      <th>müge anlı son dakika</th>\n      <td>0.760000</td>\n      <td>100</td>\n    </tr>\n  </tbody>\n</table>\n</div>"
     },
     "execution_count": 72,
     "metadata": {},
     "output_type": "execute_result"
    }
   ],
   "source": [
    "tag_df = pd.read_csv('../data/tags.csv')\n",
    "tag_df = tag_df.set_index('tag')\n",
    "tag_df.head()"
   ],
   "metadata": {
    "collapsed": false,
    "pycharm": {
     "name": "#%%\n"
    }
   }
  },
  {
   "cell_type": "markdown",
   "source": [
    "## Converter function"
   ],
   "metadata": {
    "collapsed": false,
    "pycharm": {
     "name": "#%% md\n"
    }
   }
  },
  {
   "cell_type": "code",
   "execution_count": 73,
   "outputs": [
    {
     "data": {
      "text/plain": "          video_id                                              title  \\\n0      LgVi6y5QIjM  Sing zu Ende! | Gesangseinlagen vom Feinsten |...   \n1      Bayt7uQith4  Kinder ferngesteuert im Kiosk! Erwachsene abzo...   \n2      1ZAPwfrtAFY  The Trump Presidency: Last Week Tonight with J...   \n3      AHtypnRk7JE                                Das Fermi-Paradoxon   \n4      ZJ9We4bjcg0           18 SONGS mit Kelly MissesVlog (Sing-off)   \n...            ...                                                ...   \n40835  fn5WNxy-Wcw  KINGDOM HEARTS III – E3 2018 Pirates of the Ca...   \n40836  zAFv43lxqHE                                     YMS: The Visit   \n40837  zSXG5I6Y2fA  Ungut umgeschult – Grünwald als Ersthelfer am ...   \n40838  5d115sePmaU  Assassin's Creed Odyssey: E3 2018 Welt-Enthüll...   \n40839  go-F6xvezAM  Гироскутер - Азбука Уральских Пельменей Б - Ур...   \n\n                 channel_title  \\\n0                    inscope21   \n1      LUKE! Die Woche und ich   \n2              LastWeekTonight   \n3            100SekundenPhysik   \n4                         rezo   \n...                        ...   \n40835           Kingdom Hearts   \n40836     YourMovieSucksDOTorg   \n40837  Grünwald Freitagscomedy   \n40838      Assassin's Creed DE   \n40839       Уральские Пельмени   \n\n                                                    tags  tag_factors  \n0      inscope21|\"sing zu ende\"|\"gesangseinlagen\"|\"ge...     0.565462  \n1      Kinder|\"ferngesteuert\"|\"Kinder ferngesteuert\"|...     0.635693  \n2      last week tonight trump presidency|\"last week ...     0.686567  \n3      Physik|\"Wissenschaft\"|\"Technik\"|\"Science-Ficti...     0.634190  \n4      kelly|\"missesvlog\"|\"kelly song\"|\"bausa\"|\"bausa...     0.524194  \n...                                                  ...          ...  \n40835  Kingdom Hearts|\"KH3\"|\"Kingdom Hearts 3\"|\"Pirat...          NaN  \n40836                                             [none]          NaN  \n40837  Günter Grünwald|\"Grünwald Freitagscomedy\"|\"Gün...     0.666488  \n40838  Assassin's Creed|\"Assassins Creed\"|\"Assassin's...     0.641538  \n40839  Гироскутер|\"уральские пельмени гироскутер\"|\"мя...          NaN  \n\n[40840 rows x 5 columns]",
      "text/html": "<div>\n<style scoped>\n    .dataframe tbody tr th:only-of-type {\n        vertical-align: middle;\n    }\n\n    .dataframe tbody tr th {\n        vertical-align: top;\n    }\n\n    .dataframe thead th {\n        text-align: right;\n    }\n</style>\n<table border=\"1\" class=\"dataframe\">\n  <thead>\n    <tr style=\"text-align: right;\">\n      <th></th>\n      <th>video_id</th>\n      <th>title</th>\n      <th>channel_title</th>\n      <th>tags</th>\n      <th>tag_factors</th>\n    </tr>\n  </thead>\n  <tbody>\n    <tr>\n      <th>0</th>\n      <td>LgVi6y5QIjM</td>\n      <td>Sing zu Ende! | Gesangseinlagen vom Feinsten |...</td>\n      <td>inscope21</td>\n      <td>inscope21|\"sing zu ende\"|\"gesangseinlagen\"|\"ge...</td>\n      <td>0.565462</td>\n    </tr>\n    <tr>\n      <th>1</th>\n      <td>Bayt7uQith4</td>\n      <td>Kinder ferngesteuert im Kiosk! Erwachsene abzo...</td>\n      <td>LUKE! Die Woche und ich</td>\n      <td>Kinder|\"ferngesteuert\"|\"Kinder ferngesteuert\"|...</td>\n      <td>0.635693</td>\n    </tr>\n    <tr>\n      <th>2</th>\n      <td>1ZAPwfrtAFY</td>\n      <td>The Trump Presidency: Last Week Tonight with J...</td>\n      <td>LastWeekTonight</td>\n      <td>last week tonight trump presidency|\"last week ...</td>\n      <td>0.686567</td>\n    </tr>\n    <tr>\n      <th>3</th>\n      <td>AHtypnRk7JE</td>\n      <td>Das Fermi-Paradoxon</td>\n      <td>100SekundenPhysik</td>\n      <td>Physik|\"Wissenschaft\"|\"Technik\"|\"Science-Ficti...</td>\n      <td>0.634190</td>\n    </tr>\n    <tr>\n      <th>4</th>\n      <td>ZJ9We4bjcg0</td>\n      <td>18 SONGS mit Kelly MissesVlog (Sing-off)</td>\n      <td>rezo</td>\n      <td>kelly|\"missesvlog\"|\"kelly song\"|\"bausa\"|\"bausa...</td>\n      <td>0.524194</td>\n    </tr>\n    <tr>\n      <th>...</th>\n      <td>...</td>\n      <td>...</td>\n      <td>...</td>\n      <td>...</td>\n      <td>...</td>\n    </tr>\n    <tr>\n      <th>40835</th>\n      <td>fn5WNxy-Wcw</td>\n      <td>KINGDOM HEARTS III – E3 2018 Pirates of the Ca...</td>\n      <td>Kingdom Hearts</td>\n      <td>Kingdom Hearts|\"KH3\"|\"Kingdom Hearts 3\"|\"Pirat...</td>\n      <td>NaN</td>\n    </tr>\n    <tr>\n      <th>40836</th>\n      <td>zAFv43lxqHE</td>\n      <td>YMS: The Visit</td>\n      <td>YourMovieSucksDOTorg</td>\n      <td>[none]</td>\n      <td>NaN</td>\n    </tr>\n    <tr>\n      <th>40837</th>\n      <td>zSXG5I6Y2fA</td>\n      <td>Ungut umgeschult – Grünwald als Ersthelfer am ...</td>\n      <td>Grünwald Freitagscomedy</td>\n      <td>Günter Grünwald|\"Grünwald Freitagscomedy\"|\"Gün...</td>\n      <td>0.666488</td>\n    </tr>\n    <tr>\n      <th>40838</th>\n      <td>5d115sePmaU</td>\n      <td>Assassin's Creed Odyssey: E3 2018 Welt-Enthüll...</td>\n      <td>Assassin's Creed DE</td>\n      <td>Assassin's Creed|\"Assassins Creed\"|\"Assassin's...</td>\n      <td>0.641538</td>\n    </tr>\n    <tr>\n      <th>40839</th>\n      <td>go-F6xvezAM</td>\n      <td>Гироскутер - Азбука Уральских Пельменей Б - Ур...</td>\n      <td>Уральские Пельмени</td>\n      <td>Гироскутер|\"уральские пельмени гироскутер\"|\"мя...</td>\n      <td>NaN</td>\n    </tr>\n  </tbody>\n</table>\n<p>40840 rows × 5 columns</p>\n</div>"
     },
     "execution_count": 73,
     "metadata": {},
     "output_type": "execute_result"
    }
   ],
   "source": [
    "def calculate_tag_factor(tag_string, tag_data):\n",
    "    tag_list = pd.Series(list(set(map(lambda x: x.strip('\\\"').lower(), tag_string.split('|')))))\n",
    "    return tag_list.apply(lambda tag: tag_data['factor'].get(tag, np.nan)).mean(skipna=True)"
   ],
   "metadata": {
    "collapsed": false,
    "pycharm": {
     "name": "#%%\n"
    }
   }
  },
  {
   "cell_type": "markdown",
   "source": [
    "## Test function"
   ],
   "metadata": {
    "collapsed": false,
    "pycharm": {
     "name": "#%% md\n"
    }
   }
  },
  {
   "cell_type": "code",
   "source": [
    "test_df = pd.read_csv('../data/DEvideos.csv')\n",
    "test_df = test_df.head(10) # Just use head to reduce runtime\n",
    "test_df['tag_factors'] = test_df['tags'].apply(lambda x: calculate_tag_factor(x, tag_df))\n",
    "test_df[['video_id','title','channel_title','tags','tag_factors']]"
   ],
   "metadata": {
    "collapsed": false,
    "pycharm": {
     "name": "#%%\n"
    }
   },
   "execution_count": 77,
   "outputs": [
    {
     "data": {
      "text/plain": "      video_id                                              title  \\\n0  LgVi6y5QIjM  Sing zu Ende! | Gesangseinlagen vom Feinsten |...   \n1  Bayt7uQith4  Kinder ferngesteuert im Kiosk! Erwachsene abzo...   \n2  1ZAPwfrtAFY  The Trump Presidency: Last Week Tonight with J...   \n3  AHtypnRk7JE                                Das Fermi-Paradoxon   \n4  ZJ9We4bjcg0           18 SONGS mit Kelly MissesVlog (Sing-off)   \n5  xapGFgWqtg4  Geld verdienen mit Online-Umfragen? Geht das w...   \n6  EIM7RMe39JY                       Kanaken auf der Klassenfahrt   \n7  PaWTaj6Iie0  3 unbekannte Gesichter von Film/Serien-Charakt...   \n8  GHct2dGNLks         Antoine leiht Auto von Ernährungsberaterin   \n9  aZYSFByDGkg  Legenden: So wird dein Ruhm unsterblich - Fame...   \n\n             channel_title                                               tags  \\\n0                inscope21  inscope21|\"sing zu ende\"|\"gesangseinlagen\"|\"ge...   \n1  LUKE! Die Woche und ich  Kinder|\"ferngesteuert\"|\"Kinder ferngesteuert\"|...   \n2          LastWeekTonight  last week tonight trump presidency|\"last week ...   \n3        100SekundenPhysik  Physik|\"Wissenschaft\"|\"Technik\"|\"Science-Ficti...   \n4                     rezo  kelly|\"missesvlog\"|\"kelly song\"|\"bausa\"|\"bausa...   \n5          Die Allestester                                             [none]   \n6               Bodyformus  kanaken|\"kurden\"|\"türken\"|\"schule\"|\"schulzeit\"...   \n7               Jay & Arya  unbekannte gesichte charakter|\"unbekannte gesi...   \n8              TeddyComedy  Antoine Auto|\"Antoine Boot Camp\"|\"Antoine Ernä...   \n9                  WALULIS  michael jackson|\"promi\"|\"tot\"|\"tod\"|\"gestorben...   \n\n   tag_factors  \n0     0.565462  \n1     0.635693  \n2     0.686567  \n3     0.634190  \n4     0.524194  \n5          NaN  \n6     0.596034  \n7          NaN  \n8          NaN  \n9     0.607170  ",
      "text/html": "<div>\n<style scoped>\n    .dataframe tbody tr th:only-of-type {\n        vertical-align: middle;\n    }\n\n    .dataframe tbody tr th {\n        vertical-align: top;\n    }\n\n    .dataframe thead th {\n        text-align: right;\n    }\n</style>\n<table border=\"1\" class=\"dataframe\">\n  <thead>\n    <tr style=\"text-align: right;\">\n      <th></th>\n      <th>video_id</th>\n      <th>title</th>\n      <th>channel_title</th>\n      <th>tags</th>\n      <th>tag_factors</th>\n    </tr>\n  </thead>\n  <tbody>\n    <tr>\n      <th>0</th>\n      <td>LgVi6y5QIjM</td>\n      <td>Sing zu Ende! | Gesangseinlagen vom Feinsten |...</td>\n      <td>inscope21</td>\n      <td>inscope21|\"sing zu ende\"|\"gesangseinlagen\"|\"ge...</td>\n      <td>0.565462</td>\n    </tr>\n    <tr>\n      <th>1</th>\n      <td>Bayt7uQith4</td>\n      <td>Kinder ferngesteuert im Kiosk! Erwachsene abzo...</td>\n      <td>LUKE! Die Woche und ich</td>\n      <td>Kinder|\"ferngesteuert\"|\"Kinder ferngesteuert\"|...</td>\n      <td>0.635693</td>\n    </tr>\n    <tr>\n      <th>2</th>\n      <td>1ZAPwfrtAFY</td>\n      <td>The Trump Presidency: Last Week Tonight with J...</td>\n      <td>LastWeekTonight</td>\n      <td>last week tonight trump presidency|\"last week ...</td>\n      <td>0.686567</td>\n    </tr>\n    <tr>\n      <th>3</th>\n      <td>AHtypnRk7JE</td>\n      <td>Das Fermi-Paradoxon</td>\n      <td>100SekundenPhysik</td>\n      <td>Physik|\"Wissenschaft\"|\"Technik\"|\"Science-Ficti...</td>\n      <td>0.634190</td>\n    </tr>\n    <tr>\n      <th>4</th>\n      <td>ZJ9We4bjcg0</td>\n      <td>18 SONGS mit Kelly MissesVlog (Sing-off)</td>\n      <td>rezo</td>\n      <td>kelly|\"missesvlog\"|\"kelly song\"|\"bausa\"|\"bausa...</td>\n      <td>0.524194</td>\n    </tr>\n    <tr>\n      <th>5</th>\n      <td>xapGFgWqtg4</td>\n      <td>Geld verdienen mit Online-Umfragen? Geht das w...</td>\n      <td>Die Allestester</td>\n      <td>[none]</td>\n      <td>NaN</td>\n    </tr>\n    <tr>\n      <th>6</th>\n      <td>EIM7RMe39JY</td>\n      <td>Kanaken auf der Klassenfahrt</td>\n      <td>Bodyformus</td>\n      <td>kanaken|\"kurden\"|\"türken\"|\"schule\"|\"schulzeit\"...</td>\n      <td>0.596034</td>\n    </tr>\n    <tr>\n      <th>7</th>\n      <td>PaWTaj6Iie0</td>\n      <td>3 unbekannte Gesichter von Film/Serien-Charakt...</td>\n      <td>Jay &amp; Arya</td>\n      <td>unbekannte gesichte charakter|\"unbekannte gesi...</td>\n      <td>NaN</td>\n    </tr>\n    <tr>\n      <th>8</th>\n      <td>GHct2dGNLks</td>\n      <td>Antoine leiht Auto von Ernährungsberaterin</td>\n      <td>TeddyComedy</td>\n      <td>Antoine Auto|\"Antoine Boot Camp\"|\"Antoine Ernä...</td>\n      <td>NaN</td>\n    </tr>\n    <tr>\n      <th>9</th>\n      <td>aZYSFByDGkg</td>\n      <td>Legenden: So wird dein Ruhm unsterblich - Fame...</td>\n      <td>WALULIS</td>\n      <td>michael jackson|\"promi\"|\"tot\"|\"tod\"|\"gestorben...</td>\n      <td>0.607170</td>\n    </tr>\n  </tbody>\n</table>\n</div>"
     },
     "execution_count": 77,
     "metadata": {},
     "output_type": "execute_result"
    }
   ]
  }
 ],
 "metadata": {
  "kernelspec": {
   "display_name": "Python 3",
   "language": "python",
   "name": "python3"
  },
  "language_info": {
   "codemirror_mode": {
    "name": "ipython",
    "version": 2
   },
   "file_extension": ".py",
   "mimetype": "text/x-python",
   "name": "python",
   "nbconvert_exporter": "python",
   "pygments_lexer": "ipython2",
   "version": "2.7.6"
  }
 },
 "nbformat": 4,
 "nbformat_minor": 0
}