{
 "cells": [
  {
   "cell_type": "code",
   "execution_count": 1,
   "outputs": [],
   "source": [
    "import numpy as np\n",
    "import pandas as pd\n",
    "import seaborn as sns\n",
    "import matplotlib.pyplot as plt\n",
    "\n",
    "from pprint import pprint\n",
    "from datetime import datetime\n",
    "from datetime import timedelta\n",
    "\n",
    "%matplotlib inline\n",
    "plt.rcParams['figure.figsize'] = (20, 6)"
   ],
   "metadata": {
    "collapsed": false,
    "pycharm": {
     "name": "#%%\n"
    }
   }
  },
  {
   "cell_type": "markdown",
   "source": [
    "# Daten einlesen"
   ],
   "metadata": {
    "collapsed": false
   }
  },
  {
   "cell_type": "code",
   "execution_count": 2,
   "outputs": [],
   "source": [
    "df = pd.read_csv('../data/DEvideos.csv')"
   ],
   "metadata": {
    "collapsed": false,
    "pycharm": {
     "name": "#%%\n"
    }
   }
  },
  {
   "cell_type": "markdown",
   "source": [
    "## Tags parsen und in listen umwandeln"
   ],
   "metadata": {
    "collapsed": false
   }
  },
  {
   "cell_type": "code",
   "execution_count": 3,
   "outputs": [
    {
     "data": {
      "text/plain": "0    [inscope21, sing zu ende, gesangseinlagen, ges...\n1    [Kinder, ferngesteuert, Kinder ferngesteuert, ...\n2    [last week tonight trump presidency, last week...\n3    [Physik, Wissenschaft, Technik, Science-Fictio...\n4    [kelly, missesvlog, kelly song, bausa, bausa w...\nName: parsed_tags, dtype: object"
     },
     "execution_count": 3,
     "metadata": {},
     "output_type": "execute_result"
    }
   ],
   "source": [
    "def isValidTag(s):\n",
    "    return s != '[none]'\n",
    "\n",
    "df['parsed_tags'] = df['tags'].str.split('|')\\\n",
    "    .apply(lambda x: [n.strip('\\\"') for n in x])\\\n",
    "    .where(isValidTag)\n",
    "df['parsed_tags'].head()"
   ],
   "metadata": {
    "collapsed": false,
    "pycharm": {
     "name": "#%%\n"
    }
   }
  },
  {
   "cell_type": "markdown",
   "source": [
    "## Calculate tag counts"
   ],
   "metadata": {
    "collapsed": false
   }
  },
  {
   "cell_type": "code",
   "execution_count": 4,
   "outputs": [],
   "source": [
    "def to_1D(series):\n",
    "    return pd.Series([x for _list in series for x in _list])\n",
    "tag_counts = to_1D(df['parsed_tags']).value_counts()"
   ],
   "metadata": {
    "collapsed": false,
    "pycharm": {
     "name": "#%%\n"
    }
   }
  },
  {
   "cell_type": "markdown",
   "source": [
    "## Display top 20 tags"
   ],
   "metadata": {
    "collapsed": false
   }
  },
  {
   "cell_type": "code",
   "execution_count": 5,
   "outputs": [
    {
     "name": "stderr",
     "output_type": "stream",
     "text": [
      "d:\\programme\\python\\python39\\lib\\site-packages\\seaborn\\_decorators.py:36: FutureWarning: Pass the following variables as keyword args: x, y. From version 0.12, the only valid positional argument will be `data`, and passing other arguments without an explicit keyword will result in an error or misinterpretation.\n",
      "  warnings.warn(\n"
     ]
    },
    {
     "data": {
      "text/plain": "<AxesSubplot:>"
     },
     "execution_count": 5,
     "metadata": {},
     "output_type": "execute_result"
    },
    {
     "data": {
      "text/plain": "<Figure size 1440x432 with 1 Axes>",
      "image/png": "[encoded data removed]"
     },
     "metadata": {
      "needs_background": "light"
     },
     "output_type": "display_data"
    }
   ],
   "source": [
    "top_tags = tag_counts.head(20)\n",
    "sns.barplot(top_tags.index, top_tags.values)\n",
    "\n",
    "# https://towardsdatascience.com/dealing-with-list-values-in-pandas-dataframes-a177e534f173"
   ],
   "metadata": {
    "collapsed": false,
    "pycharm": {
     "name": "#%%\n"
    }
   }
  },
  {
   "cell_type": "markdown",
   "source": [
    "## Convert tags into their own table"
   ],
   "metadata": {
    "collapsed": false
   }
  },
  {
   "cell_type": "code",
   "execution_count": 6,
   "outputs": [
    {
     "data": {
      "text/plain": "                                   0                               1   \\\n0                           inscope21                    sing zu ende   \n1                              Kinder                   ferngesteuert   \n2  last week tonight trump presidency  last week tonight donald trump   \n3                              Physik                    Wissenschaft   \n4                               kelly                      missesvlog   \n\n                     2                      3                              4   \\\n0       gesangseinlagen                 gesang                       gesungen   \n1  Kinder ferngesteuert  luke mockridge kinder  luke die woche und ich kinder   \n2     john oliver trump           donald trump                            NaN   \n3               Technik        Science-Fiction                  Außerirdische   \n4            kelly song                  bausa      bausa was du liebe nennst   \n\n                 5           6             7                8   \\\n0  songs nachsingen  nachsingen  songs covern  carpool karaoke   \n1             Prank  verarschen         Kiosk        Funkgerät   \n2               NaN         NaN           NaN              NaN   \n3             Alien      Aliens         Fermi  Fermi-Paradoxon   \n4               NaN         NaN           NaN              NaN   \n\n                9   ...   87   88   89   90   91   92   93   94   95   96  \n0  witziger gesang  ...  NaN  NaN  NaN  NaN  NaN  NaN  NaN  NaN  NaN  NaN  \n1       Falschgeld  ...  NaN  NaN  NaN  NaN  NaN  NaN  NaN  NaN  NaN  NaN  \n2              NaN  ...  NaN  NaN  NaN  NaN  NaN  NaN  NaN  NaN  NaN  NaN  \n3              NaN  ...  NaN  NaN  NaN  NaN  NaN  NaN  NaN  NaN  NaN  NaN  \n4              NaN  ...  NaN  NaN  NaN  NaN  NaN  NaN  NaN  NaN  NaN  NaN  \n\n[5 rows x 97 columns]",
      "text/html": "<div>\n<style scoped>\n    .dataframe tbody tr th:only-of-type {\n        vertical-align: middle;\n    }\n\n    .dataframe tbody tr th {\n        vertical-align: top;\n    }\n\n    .dataframe thead th {\n        text-align: right;\n    }\n</style>\n<table border=\"1\" class=\"dataframe\">\n  <thead>\n    <tr style=\"text-align: right;\">\n      <th></th>\n      <th>0</th>\n      <th>1</th>\n      <th>2</th>\n      <th>3</th>\n      <th>4</th>\n      <th>5</th>\n      <th>6</th>\n      <th>7</th>\n      <th>8</th>\n      <th>9</th>\n      <th>...</th>\n      <th>87</th>\n      <th>88</th>\n      <th>89</th>\n      <th>90</th>\n      <th>91</th>\n      <th>92</th>\n      <th>93</th>\n      <th>94</th>\n      <th>95</th>\n      <th>96</th>\n    </tr>\n  </thead>\n  <tbody>\n    <tr>\n      <th>0</th>\n      <td>inscope21</td>\n      <td>sing zu ende</td>\n      <td>gesangseinlagen</td>\n      <td>gesang</td>\n      <td>gesungen</td>\n      <td>songs nachsingen</td>\n      <td>nachsingen</td>\n      <td>songs covern</td>\n      <td>carpool karaoke</td>\n      <td>witziger gesang</td>\n      <td>...</td>\n      <td>NaN</td>\n      <td>NaN</td>\n      <td>NaN</td>\n      <td>NaN</td>\n      <td>NaN</td>\n      <td>NaN</td>\n      <td>NaN</td>\n      <td>NaN</td>\n      <td>NaN</td>\n      <td>NaN</td>\n    </tr>\n    <tr>\n      <th>1</th>\n      <td>Kinder</td>\n      <td>ferngesteuert</td>\n      <td>Kinder ferngesteuert</td>\n      <td>luke mockridge kinder</td>\n      <td>luke die woche und ich kinder</td>\n      <td>Prank</td>\n      <td>verarschen</td>\n      <td>Kiosk</td>\n      <td>Funkgerät</td>\n      <td>Falschgeld</td>\n      <td>...</td>\n      <td>NaN</td>\n      <td>NaN</td>\n      <td>NaN</td>\n      <td>NaN</td>\n      <td>NaN</td>\n      <td>NaN</td>\n      <td>NaN</td>\n      <td>NaN</td>\n      <td>NaN</td>\n      <td>NaN</td>\n    </tr>\n    <tr>\n      <th>2</th>\n      <td>last week tonight trump presidency</td>\n      <td>last week tonight donald trump</td>\n      <td>john oliver trump</td>\n      <td>donald trump</td>\n      <td>NaN</td>\n      <td>NaN</td>\n      <td>NaN</td>\n      <td>NaN</td>\n      <td>NaN</td>\n      <td>NaN</td>\n      <td>...</td>\n      <td>NaN</td>\n      <td>NaN</td>\n      <td>NaN</td>\n      <td>NaN</td>\n      <td>NaN</td>\n      <td>NaN</td>\n      <td>NaN</td>\n      <td>NaN</td>\n      <td>NaN</td>\n      <td>NaN</td>\n    </tr>\n    <tr>\n      <th>3</th>\n      <td>Physik</td>\n      <td>Wissenschaft</td>\n      <td>Technik</td>\n      <td>Science-Fiction</td>\n      <td>Außerirdische</td>\n      <td>Alien</td>\n      <td>Aliens</td>\n      <td>Fermi</td>\n      <td>Fermi-Paradoxon</td>\n      <td>NaN</td>\n      <td>...</td>\n      <td>NaN</td>\n      <td>NaN</td>\n      <td>NaN</td>\n      <td>NaN</td>\n      <td>NaN</td>\n      <td>NaN</td>\n      <td>NaN</td>\n      <td>NaN</td>\n      <td>NaN</td>\n      <td>NaN</td>\n    </tr>\n    <tr>\n      <th>4</th>\n      <td>kelly</td>\n      <td>missesvlog</td>\n      <td>kelly song</td>\n      <td>bausa</td>\n      <td>bausa was du liebe nennst</td>\n      <td>NaN</td>\n      <td>NaN</td>\n      <td>NaN</td>\n      <td>NaN</td>\n      <td>NaN</td>\n      <td>...</td>\n      <td>NaN</td>\n      <td>NaN</td>\n      <td>NaN</td>\n      <td>NaN</td>\n      <td>NaN</td>\n      <td>NaN</td>\n      <td>NaN</td>\n      <td>NaN</td>\n      <td>NaN</td>\n      <td>NaN</td>\n    </tr>\n  </tbody>\n</table>\n<p>5 rows × 97 columns</p>\n</div>"
     },
     "execution_count": 6,
     "metadata": {},
     "output_type": "execute_result"
    }
   ],
   "source": [
    "tags_df = df['parsed_tags'].apply(pd.Series)\n",
    "tags_df.head()"
   ],
   "metadata": {
    "collapsed": false,
    "pycharm": {
     "name": "#%%\n"
    }
   }
  },
  {
   "cell_type": "markdown",
   "source": [
    "## Calculate tag usage"
   ],
   "metadata": {
    "collapsed": false
   }
  },
  {
   "cell_type": "code",
   "execution_count": 7,
   "outputs": [
    {
     "data": {
      "text/plain": "[none]                                                           0.074216\natv                                                              0.008570\nçukur                                                            0.005607\nfox                                                              0.005069\nшарий                                                            0.004383\n                                                                   ...   \nMuss das Bein amputiert werden? Wildschwein-Angriff im Garten    0.000024\nFiese Entführung: An den Piercings festgekettet!                 0.000024\nairforceluna                                                     0.000024\nFlucht vorm Jugendamt: Vermisste Familie im Wohnwagen            0.000024\nwrexham fc                                                       0.000024\nName: 0, Length: 10672, dtype: float64"
     },
     "execution_count": 7,
     "metadata": {},
     "output_type": "execute_result"
    }
   ],
   "source": [
    "tags_df.iloc[:, 0].value_counts(normalize=True)"
   ],
   "metadata": {
    "collapsed": false,
    "pycharm": {
     "name": "#%%\n"
    }
   }
  },
  {
   "cell_type": "markdown",
   "source": [
    "## Convert tags to binary table"
   ],
   "metadata": {
    "collapsed": false
   }
  },
  {
   "cell_type": "code",
   "execution_count": 8,
   "outputs": [
    {
     "data": {
      "text/plain": "   humor  review  SAT.1  video  Highlights    diy  yeni dizi  challenge  \\\n0  False   False  False  False       False  False      False      False   \n1  False   False  False  False       False  False      False      False   \n2  False   False  False  False       False  False      False      False   \n3  False   False  False  False       False  False      False      False   \n4  False   False  False  False       False  False      False      False   \n\n     DIY     hd  comedian    AfD   vlog  youtube  tricks   show  kochen  \\\n0  False  False     False  False  False    False   False  False   False   \n1  False  False     False  False  False    False   False  False   False   \n2  False  False     False  False  False    False   False  False   False   \n3  False  False     False  False  False    False   False  False   False   \n4  False  False     False  False  False    False   False  False   False   \n\n   Fußball  funny video   izle  \n0    False        False  False  \n1    False        False  False  \n2    False        False  False  \n3    False        False  False  \n4    False        False  False  ",
      "text/html": "<div>\n<style scoped>\n    .dataframe tbody tr th:only-of-type {\n        vertical-align: middle;\n    }\n\n    .dataframe tbody tr th {\n        vertical-align: top;\n    }\n\n    .dataframe thead th {\n        text-align: right;\n    }\n</style>\n<table border=\"1\" class=\"dataframe\">\n  <thead>\n    <tr style=\"text-align: right;\">\n      <th></th>\n      <th>humor</th>\n      <th>review</th>\n      <th>SAT.1</th>\n      <th>video</th>\n      <th>Highlights</th>\n      <th>diy</th>\n      <th>yeni dizi</th>\n      <th>challenge</th>\n      <th>DIY</th>\n      <th>hd</th>\n      <th>comedian</th>\n      <th>AfD</th>\n      <th>vlog</th>\n      <th>youtube</th>\n      <th>tricks</th>\n      <th>show</th>\n      <th>kochen</th>\n      <th>Fußball</th>\n      <th>funny video</th>\n      <th>izle</th>\n    </tr>\n  </thead>\n  <tbody>\n    <tr>\n      <th>0</th>\n      <td>False</td>\n      <td>False</td>\n      <td>False</td>\n      <td>False</td>\n      <td>False</td>\n      <td>False</td>\n      <td>False</td>\n      <td>False</td>\n      <td>False</td>\n      <td>False</td>\n      <td>False</td>\n      <td>False</td>\n      <td>False</td>\n      <td>False</td>\n      <td>False</td>\n      <td>False</td>\n      <td>False</td>\n      <td>False</td>\n      <td>False</td>\n      <td>False</td>\n    </tr>\n    <tr>\n      <th>1</th>\n      <td>False</td>\n      <td>False</td>\n      <td>False</td>\n      <td>False</td>\n      <td>False</td>\n      <td>False</td>\n      <td>False</td>\n      <td>False</td>\n      <td>False</td>\n      <td>False</td>\n      <td>False</td>\n      <td>False</td>\n      <td>False</td>\n      <td>False</td>\n      <td>False</td>\n      <td>False</td>\n      <td>False</td>\n      <td>False</td>\n      <td>False</td>\n      <td>False</td>\n    </tr>\n    <tr>\n      <th>2</th>\n      <td>False</td>\n      <td>False</td>\n      <td>False</td>\n      <td>False</td>\n      <td>False</td>\n      <td>False</td>\n      <td>False</td>\n      <td>False</td>\n      <td>False</td>\n      <td>False</td>\n      <td>False</td>\n      <td>False</td>\n      <td>False</td>\n      <td>False</td>\n      <td>False</td>\n      <td>False</td>\n      <td>False</td>\n      <td>False</td>\n      <td>False</td>\n      <td>False</td>\n    </tr>\n    <tr>\n      <th>3</th>\n      <td>False</td>\n      <td>False</td>\n      <td>False</td>\n      <td>False</td>\n      <td>False</td>\n      <td>False</td>\n      <td>False</td>\n      <td>False</td>\n      <td>False</td>\n      <td>False</td>\n      <td>False</td>\n      <td>False</td>\n      <td>False</td>\n      <td>False</td>\n      <td>False</td>\n      <td>False</td>\n      <td>False</td>\n      <td>False</td>\n      <td>False</td>\n      <td>False</td>\n    </tr>\n    <tr>\n      <th>4</th>\n      <td>False</td>\n      <td>False</td>\n      <td>False</td>\n      <td>False</td>\n      <td>False</td>\n      <td>False</td>\n      <td>False</td>\n      <td>False</td>\n      <td>False</td>\n      <td>False</td>\n      <td>False</td>\n      <td>False</td>\n      <td>False</td>\n      <td>False</td>\n      <td>False</td>\n      <td>False</td>\n      <td>False</td>\n      <td>False</td>\n      <td>False</td>\n      <td>False</td>\n    </tr>\n  </tbody>\n</table>\n</div>"
     },
     "execution_count": 8,
     "metadata": {},
     "output_type": "execute_result"
    }
   ],
   "source": [
    "def boolean_df(item_lists, items):\n",
    "    bool_dict={}\n",
    "    for i, item in enumerate(items):\n",
    "        bool_dict[item] = item_lists.apply(lambda x: item in x)\n",
    "    return pd.DataFrame(bool_dict)\n",
    "\n",
    "#unique_items = tag_counts.where(lambda x: x > 500).dropna().index\n",
    "unique_items = tag_counts.head(40).tail(20).index\n",
    "head_tags = df['parsed_tags']\n",
    "tags_bool = boolean_df(head_tags, unique_items)\n",
    "tags_bool.head()"
   ],
   "metadata": {
    "collapsed": false,
    "pycharm": {
     "name": "#%%\n"
    }
   }
  },
  {
   "cell_type": "markdown",
   "source": [
    "## Tags as correlation matrix"
   ],
   "metadata": {
    "collapsed": false
   }
  },
  {
   "cell_type": "code",
   "execution_count": 9,
   "outputs": [
    {
     "data": {
      "text/plain": "<Figure size 648x360 with 2 Axes>",
      "image/png": "[encoded data removed]"
     },
     "metadata": {
      "needs_background": "light"
     },
     "output_type": "display_data"
    }
   ],
   "source": [
    "tags_int = tags_bool.astype(int)\n",
    "tags_freq_mat = np.dot(tags_int.T, tags_int)\n",
    "\n",
    "fruits_freq = pd.DataFrame(tags_freq_mat, columns = unique_items, index = unique_items)\n",
    "\n",
    "fix, ax = plt.subplots(figsize = (9,5))\n",
    "sns.heatmap(fruits_freq, cmap = \"Blues\")\n",
    "plt.xticks(rotation=50)\n",
    "plt.savefig(\"heatmap.png\", dpi = 300)"
   ],
   "metadata": {
    "collapsed": false,
    "pycharm": {
     "name": "#%%\n"
    }
   }
  }
 ],
 "metadata": {
  "kernelspec": {
   "display_name": "Python 3",
   "language": "python",
   "name": "python3"
  },
  "language_info": {
   "codemirror_mode": {
    "name": "ipython",
    "version": 2
   },
   "file_extension": ".py",
   "mimetype": "text/x-python",
   "name": "python",
   "nbconvert_exporter": "python",
   "pygments_lexer": "ipython2",
   "version": "2.7.6"
  }
 },
 "nbformat": 4,
 "nbformat_minor": 0
}