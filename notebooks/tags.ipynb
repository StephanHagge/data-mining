{
 "cells": [
  {
   "cell_type": "code",
   "execution_count": 74,
   "outputs": [],
   "source": [
    "import numpy as np\n",
    "import pandas as pd\n",
    "import seaborn as sns\n",
    "import matplotlib.pyplot as plt\n",
    "import pycountry\n",
    "\n",
    "from pprint import pprint\n",
    "from datetime import datetime\n",
    "from datetime import timedelta\n",
    "\n",
    "%matplotlib inline\n",
    "plt.rcParams['figure.figsize'] = (20, 6)"
   ],
   "metadata": {
    "collapsed": false,
    "pycharm": {
     "name": "#%%\n"
    }
   }
  },
  {
   "cell_type": "markdown",
   "source": [
    "# Read data"
   ],
   "metadata": {
    "collapsed": false
   }
  },
  {
   "cell_type": "code",
   "execution_count": 75,
   "outputs": [],
   "source": [
    "df = pd.read_csv('../data/DEvideos.csv')"
   ],
   "metadata": {
    "collapsed": false,
    "pycharm": {
     "name": "#%%\n"
    }
   }
  },
  {
   "cell_type": "markdown",
   "source": [
    "## Parse tags and convert\n",
    "\n",
    "Breaks the tag-strings into single elements and formats them. The following formatting is applied:\n",
    "* Remove enclosing quotation marks (\"\")\n",
    "* convert to lower case\n",
    "* remove all duplicates (due to conversion to lower)\n",
    "\n",
    "After formatting, the tags are filter by the following rules. The tag will be excluded when:\n",
    "* The tag matches the '[none]' tag\n",
    "* The tag is a number (to remove time related data)\n",
    "* The tag describes a country\n",
    "* The tag describes a language (resource intensive due to large amount of languages)"
   ],
   "metadata": {
    "collapsed": false
   }
  },
  {
   "cell_type": "code",
   "execution_count": 76,
   "outputs": [
    {
     "data": {
      "text/plain": "0    [inscope21, sing zu ende, gesangseinlagen, ges...\n1    [kinder, ferngesteuert, kinder ferngesteuert, ...\n2    [last week tonight trump presidency, last week...\n3    [physik, wissenschaft, technik, science-fictio...\n4    [kelly, missesvlog, kelly song, bausa, bausa w...\nName: parsed_tags, dtype: object"
     },
     "execution_count": 76,
     "metadata": {},
     "output_type": "execute_result"
    }
   ],
   "source": [
    "filter_countries = True\n",
    "countries = [s.name for s in pycountry.countries]\n",
    "filter_languages = False # Resource intensive, use with care\n",
    "languages = [s.name for s in pycountry.languages]\n",
    "\n",
    "def isValidTag(s):\n",
    "    return s != '[none]' \\\n",
    "    and not s.isnumeric() \\\n",
    "    and not(filter_countries and s in countries) \\\n",
    "    and not (filter_languages and s in languages)\n",
    "def formatData(s):\n",
    "    s2 = map(lambda x: x.strip('\\\"').lower(), s)\n",
    "    res = []\n",
    "    [res.append(x) for x in s2 if x not in res]\n",
    "    return res\n",
    "\n",
    "df['parsed_tags'] = df['tags'].str.split('|')\\\n",
    "    .apply(formatData)\\\n",
    "    .apply(lambda x: list(filter(isValidTag, x)))\n",
    "df['parsed_tags'].head()\n",
    "\n"
   ],
   "metadata": {
    "collapsed": false,
    "pycharm": {
     "name": "#%%\n"
    }
   }
  },
  {
   "cell_type": "markdown",
   "source": [
    "## Calculate tag counts"
   ],
   "metadata": {
    "collapsed": false
   }
  },
  {
   "cell_type": "code",
   "execution_count": 77,
   "outputs": [],
   "source": [
    "def to_1D(series):\n",
    "    return pd.Series([x for _list in series for x in _list])\n",
    "tag_counts = to_1D(df['parsed_tags']).value_counts()"
   ],
   "metadata": {
    "collapsed": false,
    "pycharm": {
     "name": "#%%\n"
    }
   }
  },
  {
   "cell_type": "markdown",
   "source": [
    "## Display top 20 tags"
   ],
   "metadata": {
    "collapsed": false
   }
  },
  {
   "cell_type": "code",
   "execution_count": 78,
   "outputs": [
    {
     "name": "stderr",
     "output_type": "stream",
     "text": [
      "d:\\programme\\python\\python39\\lib\\site-packages\\seaborn\\_decorators.py:36: FutureWarning: Pass the following variables as keyword args: x, y. From version 0.12, the only valid positional argument will be `data`, and passing other arguments without an explicit keyword will result in an error or misinterpretation.\n",
      "  warnings.warn(\n"
     ]
    },
    {
     "data": {
      "text/plain": "<AxesSubplot:>"
     },
     "execution_count": 78,
     "metadata": {},
     "output_type": "execute_result"
    },
    {
     "data": {
      "text/plain": "<Figure size 1440x432 with 1 Axes>",
      "image/png": "[encoded data removed]"
     },
     "metadata": {
      "needs_background": "light"
     },
     "output_type": "display_data"
    }
   ],
   "source": [
    "top_tags = tag_counts.head(20)\n",
    "sns.barplot(top_tags.index, top_tags.values)\n",
    "\n",
    "# https://towardsdatascience.com/dealing-with-list-values-in-pandas-dataframes-a177e534f173"
   ],
   "metadata": {
    "collapsed": false,
    "pycharm": {
     "name": "#%%\n"
    }
   }
  },
  {
   "cell_type": "markdown",
   "source": [
    "## Convert tags into their own table"
   ],
   "metadata": {
    "collapsed": false
   }
  },
  {
   "cell_type": "code",
   "execution_count": 79,
   "outputs": [
    {
     "data": {
      "text/plain": "                                   0                               1   \\\n0                           inscope21                    sing zu ende   \n1                              kinder                   ferngesteuert   \n2  last week tonight trump presidency  last week tonight donald trump   \n3                              physik                    wissenschaft   \n4                               kelly                      missesvlog   \n\n                     2                      3                              4   \\\n0       gesangseinlagen                 gesang                       gesungen   \n1  kinder ferngesteuert  luke mockridge kinder  luke die woche und ich kinder   \n2     john oliver trump           donald trump                            NaN   \n3               technik        science-fiction                  außerirdische   \n4            kelly song                  bausa      bausa was du liebe nennst   \n\n                 5           6             7                8   \\\n0  songs nachsingen  nachsingen  songs covern  carpool karaoke   \n1             prank  verarschen         kiosk        funkgerät   \n2               NaN         NaN           NaN              NaN   \n3             alien      aliens         fermi  fermi-paradoxon   \n4               NaN         NaN           NaN              NaN   \n\n                9   ...   69   70   71   72   73   74   75   76   77   78  \n0  witziger gesang  ...  NaN  NaN  NaN  NaN  NaN  NaN  NaN  NaN  NaN  NaN  \n1       falschgeld  ...  NaN  NaN  NaN  NaN  NaN  NaN  NaN  NaN  NaN  NaN  \n2              NaN  ...  NaN  NaN  NaN  NaN  NaN  NaN  NaN  NaN  NaN  NaN  \n3              NaN  ...  NaN  NaN  NaN  NaN  NaN  NaN  NaN  NaN  NaN  NaN  \n4              NaN  ...  NaN  NaN  NaN  NaN  NaN  NaN  NaN  NaN  NaN  NaN  \n\n[5 rows x 79 columns]",
      "text/html": "<div>\n<style scoped>\n    .dataframe tbody tr th:only-of-type {\n        vertical-align: middle;\n    }\n\n    .dataframe tbody tr th {\n        vertical-align: top;\n    }\n\n    .dataframe thead th {\n        text-align: right;\n    }\n</style>\n<table border=\"1\" class=\"dataframe\">\n  <thead>\n    <tr style=\"text-align: right;\">\n      <th></th>\n      <th>0</th>\n      <th>1</th>\n      <th>2</th>\n      <th>3</th>\n      <th>4</th>\n      <th>5</th>\n      <th>6</th>\n      <th>7</th>\n      <th>8</th>\n      <th>9</th>\n      <th>...</th>\n      <th>69</th>\n      <th>70</th>\n      <th>71</th>\n      <th>72</th>\n      <th>73</th>\n      <th>74</th>\n      <th>75</th>\n      <th>76</th>\n      <th>77</th>\n      <th>78</th>\n    </tr>\n  </thead>\n  <tbody>\n    <tr>\n      <th>0</th>\n      <td>inscope21</td>\n      <td>sing zu ende</td>\n      <td>gesangseinlagen</td>\n      <td>gesang</td>\n      <td>gesungen</td>\n      <td>songs nachsingen</td>\n      <td>nachsingen</td>\n      <td>songs covern</td>\n      <td>carpool karaoke</td>\n      <td>witziger gesang</td>\n      <td>...</td>\n      <td>NaN</td>\n      <td>NaN</td>\n      <td>NaN</td>\n      <td>NaN</td>\n      <td>NaN</td>\n      <td>NaN</td>\n      <td>NaN</td>\n      <td>NaN</td>\n      <td>NaN</td>\n      <td>NaN</td>\n    </tr>\n    <tr>\n      <th>1</th>\n      <td>kinder</td>\n      <td>ferngesteuert</td>\n      <td>kinder ferngesteuert</td>\n      <td>luke mockridge kinder</td>\n      <td>luke die woche und ich kinder</td>\n      <td>prank</td>\n      <td>verarschen</td>\n      <td>kiosk</td>\n      <td>funkgerät</td>\n      <td>falschgeld</td>\n      <td>...</td>\n      <td>NaN</td>\n      <td>NaN</td>\n      <td>NaN</td>\n      <td>NaN</td>\n      <td>NaN</td>\n      <td>NaN</td>\n      <td>NaN</td>\n      <td>NaN</td>\n      <td>NaN</td>\n      <td>NaN</td>\n    </tr>\n    <tr>\n      <th>2</th>\n      <td>last week tonight trump presidency</td>\n      <td>last week tonight donald trump</td>\n      <td>john oliver trump</td>\n      <td>donald trump</td>\n      <td>NaN</td>\n      <td>NaN</td>\n      <td>NaN</td>\n      <td>NaN</td>\n      <td>NaN</td>\n      <td>NaN</td>\n      <td>...</td>\n      <td>NaN</td>\n      <td>NaN</td>\n      <td>NaN</td>\n      <td>NaN</td>\n      <td>NaN</td>\n      <td>NaN</td>\n      <td>NaN</td>\n      <td>NaN</td>\n      <td>NaN</td>\n      <td>NaN</td>\n    </tr>\n    <tr>\n      <th>3</th>\n      <td>physik</td>\n      <td>wissenschaft</td>\n      <td>technik</td>\n      <td>science-fiction</td>\n      <td>außerirdische</td>\n      <td>alien</td>\n      <td>aliens</td>\n      <td>fermi</td>\n      <td>fermi-paradoxon</td>\n      <td>NaN</td>\n      <td>...</td>\n      <td>NaN</td>\n      <td>NaN</td>\n      <td>NaN</td>\n      <td>NaN</td>\n      <td>NaN</td>\n      <td>NaN</td>\n      <td>NaN</td>\n      <td>NaN</td>\n      <td>NaN</td>\n      <td>NaN</td>\n    </tr>\n    <tr>\n      <th>4</th>\n      <td>kelly</td>\n      <td>missesvlog</td>\n      <td>kelly song</td>\n      <td>bausa</td>\n      <td>bausa was du liebe nennst</td>\n      <td>NaN</td>\n      <td>NaN</td>\n      <td>NaN</td>\n      <td>NaN</td>\n      <td>NaN</td>\n      <td>...</td>\n      <td>NaN</td>\n      <td>NaN</td>\n      <td>NaN</td>\n      <td>NaN</td>\n      <td>NaN</td>\n      <td>NaN</td>\n      <td>NaN</td>\n      <td>NaN</td>\n      <td>NaN</td>\n      <td>NaN</td>\n    </tr>\n  </tbody>\n</table>\n<p>5 rows × 79 columns</p>\n</div>"
     },
     "execution_count": 79,
     "metadata": {},
     "output_type": "execute_result"
    }
   ],
   "source": [
    "tags_df = df['parsed_tags'].apply(pd.Series)\n",
    "tags_df.head()"
   ],
   "metadata": {
    "collapsed": false,
    "pycharm": {
     "name": "#%%\n"
    }
   }
  },
  {
   "cell_type": "markdown",
   "source": [
    "## Calculate tag usage"
   ],
   "metadata": {
    "collapsed": false
   }
  },
  {
   "cell_type": "code",
   "execution_count": 80,
   "outputs": [
    {
     "data": {
      "text/plain": "atv                         0.009257\nçukur                       0.006242\nfox                         0.005501\nfußball                     0.004787\nшарий                       0.004734\n                              ...   \nexo-cbx                     0.000026\nliverpool fc                0.000026\nشاه                         0.000026\ngarden (say it like dat)    0.000026\nbts woojihwa                0.000026\nName: 0, Length: 9978, dtype: float64"
     },
     "execution_count": 80,
     "metadata": {},
     "output_type": "execute_result"
    }
   ],
   "source": [
    "tags_df.iloc[:, 0].value_counts(normalize=True)"
   ],
   "metadata": {
    "collapsed": false,
    "pycharm": {
     "name": "#%%\n"
    }
   }
  },
  {
   "cell_type": "markdown",
   "source": [
    "## Convert tags to binary table"
   ],
   "metadata": {
    "collapsed": false
   }
  },
  {
   "cell_type": "code",
   "execution_count": 81,
   "outputs": [
    {
     "data": {
      "text/plain": "      tv  comedy  funny  deutsch   news    diy  german    rap  deutschland  \\\n0  False   False  False    False  False  False   False   True        False   \n1  False    True  False    False  False  False   False  False        False   \n2  False   False  False    False  False  False   False  False        False   \n3  False   False  False    False  False  False   False  False        False   \n4  False   False  False    False  False  False   False  False        False   \n\n   music     hd   dizi   vlog  video  wissen  fußball  tricks  lustig    atv  \\\n0  False  False  False  False  False   False    False   False   False  False   \n1  False  False  False  False  False   False    False   False   False  False   \n2  False  False  False  False  False   False    False   False   False  False   \n3  False  False  False  False  False   False    False   False   False  False   \n4  False  False  False  False  False   False    False   False   False  False   \n\n   essen  \n0  False  \n1  False  \n2  False  \n3  False  \n4  False  ",
      "text/html": "<div>\n<style scoped>\n    .dataframe tbody tr th:only-of-type {\n        vertical-align: middle;\n    }\n\n    .dataframe tbody tr th {\n        vertical-align: top;\n    }\n\n    .dataframe thead th {\n        text-align: right;\n    }\n</style>\n<table border=\"1\" class=\"dataframe\">\n  <thead>\n    <tr style=\"text-align: right;\">\n      <th></th>\n      <th>tv</th>\n      <th>comedy</th>\n      <th>funny</th>\n      <th>deutsch</th>\n      <th>news</th>\n      <th>diy</th>\n      <th>german</th>\n      <th>rap</th>\n      <th>deutschland</th>\n      <th>music</th>\n      <th>hd</th>\n      <th>dizi</th>\n      <th>vlog</th>\n      <th>video</th>\n      <th>wissen</th>\n      <th>fußball</th>\n      <th>tricks</th>\n      <th>lustig</th>\n      <th>atv</th>\n      <th>essen</th>\n    </tr>\n  </thead>\n  <tbody>\n    <tr>\n      <th>0</th>\n      <td>False</td>\n      <td>False</td>\n      <td>False</td>\n      <td>False</td>\n      <td>False</td>\n      <td>False</td>\n      <td>False</td>\n      <td>True</td>\n      <td>False</td>\n      <td>False</td>\n      <td>False</td>\n      <td>False</td>\n      <td>False</td>\n      <td>False</td>\n      <td>False</td>\n      <td>False</td>\n      <td>False</td>\n      <td>False</td>\n      <td>False</td>\n      <td>False</td>\n    </tr>\n    <tr>\n      <th>1</th>\n      <td>False</td>\n      <td>True</td>\n      <td>False</td>\n      <td>False</td>\n      <td>False</td>\n      <td>False</td>\n      <td>False</td>\n      <td>False</td>\n      <td>False</td>\n      <td>False</td>\n      <td>False</td>\n      <td>False</td>\n      <td>False</td>\n      <td>False</td>\n      <td>False</td>\n      <td>False</td>\n      <td>False</td>\n      <td>False</td>\n      <td>False</td>\n      <td>False</td>\n    </tr>\n    <tr>\n      <th>2</th>\n      <td>False</td>\n      <td>False</td>\n      <td>False</td>\n      <td>False</td>\n      <td>False</td>\n      <td>False</td>\n      <td>False</td>\n      <td>False</td>\n      <td>False</td>\n      <td>False</td>\n      <td>False</td>\n      <td>False</td>\n      <td>False</td>\n      <td>False</td>\n      <td>False</td>\n      <td>False</td>\n      <td>False</td>\n      <td>False</td>\n      <td>False</td>\n      <td>False</td>\n    </tr>\n    <tr>\n      <th>3</th>\n      <td>False</td>\n      <td>False</td>\n      <td>False</td>\n      <td>False</td>\n      <td>False</td>\n      <td>False</td>\n      <td>False</td>\n      <td>False</td>\n      <td>False</td>\n      <td>False</td>\n      <td>False</td>\n      <td>False</td>\n      <td>False</td>\n      <td>False</td>\n      <td>False</td>\n      <td>False</td>\n      <td>False</td>\n      <td>False</td>\n      <td>False</td>\n      <td>False</td>\n    </tr>\n    <tr>\n      <th>4</th>\n      <td>False</td>\n      <td>False</td>\n      <td>False</td>\n      <td>False</td>\n      <td>False</td>\n      <td>False</td>\n      <td>False</td>\n      <td>False</td>\n      <td>False</td>\n      <td>False</td>\n      <td>False</td>\n      <td>False</td>\n      <td>False</td>\n      <td>False</td>\n      <td>False</td>\n      <td>False</td>\n      <td>False</td>\n      <td>False</td>\n      <td>False</td>\n      <td>False</td>\n    </tr>\n  </tbody>\n</table>\n</div>"
     },
     "execution_count": 81,
     "metadata": {},
     "output_type": "execute_result"
    }
   ],
   "source": [
    "def boolean_df(item_lists, items):\n",
    "    bool_dict={}\n",
    "    for i, item in enumerate(items):\n",
    "        bool_dict[item] = item_lists.apply(lambda x: item in x)\n",
    "    return pd.DataFrame(bool_dict)\n",
    "\n",
    "#unique_items = tag_counts.where(lambda x: x > 500).dropna().index\n",
    "unique_items = tag_counts.head(20).tail(20).index\n",
    "head_tags = df['parsed_tags']\n",
    "tags_bool = boolean_df(head_tags, unique_items)\n",
    "tags_bool.head()"
   ],
   "metadata": {
    "collapsed": false,
    "pycharm": {
     "name": "#%%\n"
    }
   }
  },
  {
   "cell_type": "markdown",
   "source": [
    "## Tags as correlation matrix"
   ],
   "metadata": {
    "collapsed": false
   }
  },
  {
   "cell_type": "code",
   "execution_count": 82,
   "outputs": [
    {
     "data": {
      "text/plain": "<AxesSubplot:>"
     },
     "execution_count": 82,
     "metadata": {},
     "output_type": "execute_result"
    },
    {
     "data": {
      "text/plain": "<Figure size 648x360 with 2 Axes>",
      "image/png": "[encoded data removed]"
     },
     "metadata": {
      "needs_background": "light"
     },
     "output_type": "display_data"
    }
   ],
   "source": [
    "tags_int = tags_bool.astype(int)\n",
    "tags_freq_mat = np.dot(tags_int.T, tags_int)\n",
    "np.fill_diagonal(tags_freq_mat, 0)\n",
    "\n",
    "tags_freq = pd.DataFrame(tags_freq_mat, columns = unique_items, index = unique_items)\n",
    "\n",
    "fix, ax = plt.subplots(figsize = (9,5))\n",
    "sns.heatmap(tags_freq, cmap = \"Blues\")\n",
    "#plt.xticks(rotation=50)\n",
    "#plt.savefig(\"heatmap.png\", dpi = 300)"
   ],
   "metadata": {
    "collapsed": false,
    "pycharm": {
     "name": "#%%\n"
    }
   }
  }
 ],
 "metadata": {
  "kernelspec": {
   "display_name": "Python 3",
   "language": "python",
   "name": "python3"
  },
  "language_info": {
   "codemirror_mode": {
    "name": "ipython",
    "version": 2
   },
   "file_extension": ".py",
   "mimetype": "text/x-python",
   "name": "python",
   "nbconvert_exporter": "python",
   "pygments_lexer": "ipython2",
   "version": "2.7.6"
  }
 },
 "nbformat": 4,
 "nbformat_minor": 0
}