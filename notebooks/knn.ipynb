{
 "metadata": {
  "language_info": {
   "codemirror_mode": {
    "name": "ipython",
    "version": 3
   },
   "file_extension": ".py",
   "mimetype": "text/x-python",
   "name": "python",
   "nbconvert_exporter": "python",
   "pygments_lexer": "ipython3",
   "version": "3.9.0-final"
  },
  "orig_nbformat": 2,
  "kernelspec": {
   "name": "python3",
   "display_name": "Python 3",
   "language": "python"
  }
 },
 "nbformat": 4,
 "nbformat_minor": 2,
 "cells": [
  {
   "cell_type": "code",
   "execution_count": 1164,
   "metadata": {},
   "outputs": [],
   "source": [
    "from pandas import DataFrame\n",
    "#from xgboost import XGBClassifier\n",
    "from sklearn.neighbors import KNeighborsClassifier\n",
    "from sklearn import preprocessing\n",
    "from sklearn.metrics import accuracy_score, precision_score, recall_score\n",
    "#from sklearn import tree\n",
    "from sklearn.model_selection import train_test_split\n",
    "import pandas as pd\n",
    "import numpy as np\n",
    "#from sklearn.tree import export_text\n",
    "\n",
    "from datetime import datetime\n",
    "from datetime import timedelta"
   ]
  },
  {
   "cell_type": "code",
   "execution_count": 1165,
   "metadata": {},
   "outputs": [],
   "source": [
    "df = pd.read_csv('/data/DEvideos.csv',\n",
    "    low_memory=False)\n",
    "\n",
    "df['trending_date'] = df.apply(lambda row: datetime.strptime(row['trending_date'], '%y.%d.%m'), axis=1)\n",
    "df['publish_time'] = df.apply(lambda row: datetime.strptime(row['publish_time'], '%Y-%m-%dT%H:%M:%S.000Z'), axis=1)\n",
    "df['days_until_trending'] = df.apply(lambda row: ((row['trending_date'] - row['publish_time']).days + 1), axis=1)\n",
    "\n",
    "df['tags_count'] = df.apply(lambda row: len(row['tags'].split('|')), axis=1)\n",
    "df['publish_hour'] = df['publish_time'].map(lambda x: x.hour)\n",
    "df['publish_month'] = df['publish_time'].map(lambda x: x.month)\n",
    "df['publish_year'] = df['publish_time'].map(lambda x: x.year)\n",
    "df['publish_day_of_month'] = df['publish_time'].map(lambda x: x.day)\n",
    "df['publish_weekday'] = df['publish_time'].map(lambda x: x.weekday()) # 0: Monday, 6: Sunday\n",
    "df['trending_weekday'] = df['trending_date'].map(lambda x: x.weekday()) # 0: Monday, 6: Sunday\n",
    "\n",
    "df['like_dislike_ratio'] = df.apply(lambda row: row['likes'] / (row['dislikes'] + 1), axis=1)\n",
    "df['like_view_ratio'] = df.apply(lambda row: row['likes'] / (row['views'] + 1), axis=1)\n",
    "\n",
    "df['ratings'] = df['likes'] + df['dislikes']\n",
    "df['likes_per_rating'] = df['likes'] / df['ratings']\n",
    "df['ratings_per_view'] = df['ratings'] / df['views']\n",
    "df['comments_per_view'] = df['comment_count'] / df['views']\n",
    "\n",
    "def assign_target_category(row):\n",
    "    if row['days_until_trending'] == 0: \n",
    "        return '0 Days'\n",
    "    elif row['days_until_trending'] == 1:\n",
    "        return '1 Day'\n",
    "    elif row['days_until_trending'] == 2:\n",
    "        return '2 Days'\n",
    "    elif row['days_until_trending'] <= 5:\n",
    "        return '3 - 5 Days'\n",
    "    else:\n",
    "        return '> 5 Days'\n",
    "\n",
    "df['target_category'] = df.apply(assign_target_category, axis=1)\n",
    "\n",
    "N = len(df)\n",
    "dropColumns = ['video_id', 'title', 'tags', 'thumbnail_link', 'description']\n",
    "for column in df.columns:\n",
    "    numberOfUniqueValues = df[column].nunique()\n",
    "    if numberOfUniqueValues < 2:\n",
    "        dropColumns.append(column)\n",
    "    elif df[column].dtype == 'object' and numberOfUniqueValues > N * 0.9:\n",
    "        dropColumns.append(column)\n",
    "    elif df[column].isna().sum() / N > 0.95:\n",
    "        dropColumns.append(column)\n",
    "        \n",
    "df.drop(columns=dropColumns, inplace=True)\n",
    "\n",
    "df['channel_title'] = df['channel_title'].astype('category')\n",
    "df['target_category'] = df['target_category'].astype('category')"
   ]
  },
  {
   "cell_type": "code",
   "execution_count": 1166,
   "metadata": {},
   "outputs": [
    {
     "output_type": "execute_result",
     "data": {
      "text/plain": [
       "  trending_date            channel_title  category_id        publish_time  \\\n",
       "0    2017-11-14                inscope21           24 2017-11-13 17:08:49   \n",
       "1    2017-11-14  LUKE! Die Woche und ich           23 2017-11-12 22:30:01   \n",
       "2    2017-11-14          LastWeekTonight           24 2017-11-13 07:30:00   \n",
       "3    2017-11-14        100SekundenPhysik           27 2017-11-12 15:00:01   \n",
       "4    2017-11-14                     rezo           24 2017-11-12 13:10:36   \n",
       "5    2017-11-14          Die Allestester           22 2017-11-13 01:49:24   \n",
       "6    2017-11-14               Bodyformus           23 2017-11-13 11:59:04   \n",
       "7    2017-11-14               Jay & Arya           22 2017-11-13 18:09:55   \n",
       "8    2017-11-14              TeddyComedy           23 2017-11-12 11:53:45   \n",
       "9    2017-11-14                  WALULIS            1 2017-11-13 15:06:12   \n",
       "\n",
       "     views   likes  dislikes  comment_count  comments_disabled  \\\n",
       "0   252786   35885       230           1539              False   \n",
       "1   797196   53576       302           1278              False   \n",
       "2  2418783   97190      6146          12703              False   \n",
       "3   380247   31821       458           1955              False   \n",
       "4   822213  100684      2467          10244              False   \n",
       "5    32709    3093       296             63              False   \n",
       "6   308683   35704       578           1398              False   \n",
       "7   181660   17998       169            554              False   \n",
       "8   369173   16953       570            611              False   \n",
       "9    62418    4749        44            425              False   \n",
       "\n",
       "   ratings_disabled  ...  publish_day_of_month  publish_weekday  \\\n",
       "0             False  ...                    13                0   \n",
       "1             False  ...                    12                6   \n",
       "2             False  ...                    13                0   \n",
       "3             False  ...                    12                6   \n",
       "4             False  ...                    12                6   \n",
       "5             False  ...                    13                0   \n",
       "6             False  ...                    13                0   \n",
       "7             False  ...                    13                0   \n",
       "8             False  ...                    12                6   \n",
       "9             False  ...                    13                0   \n",
       "\n",
       "   trending_weekday  like_dislike_ratio  like_view_ratio  ratings  \\\n",
       "0                 1          155.346320         0.141957    36115   \n",
       "1                 1          176.818482         0.067205    53878   \n",
       "2                 1           15.810965         0.040181   103336   \n",
       "3                 1           69.326797         0.083685    32279   \n",
       "4                 1           40.795786         0.122455   103151   \n",
       "5                 1           10.414141         0.094558     3389   \n",
       "6                 1           61.664940         0.115665    36282   \n",
       "7                 1          105.870588         0.099075    18167   \n",
       "8                 1           29.690018         0.045921    17523   \n",
       "9                 1          105.533333         0.076083     4793   \n",
       "\n",
       "   likes_per_rating  ratings_per_view  comments_per_view  target_category  \n",
       "0          0.993631          0.142868           0.006088            1 Day  \n",
       "1          0.994395          0.067584           0.001603           2 Days  \n",
       "2          0.940524          0.042722           0.005252            1 Day  \n",
       "3          0.985811          0.084890           0.005141           2 Days  \n",
       "4          0.976084          0.125455           0.012459           2 Days  \n",
       "5          0.912659          0.103611           0.001926            1 Day  \n",
       "6          0.984069          0.117538           0.004529            1 Day  \n",
       "7          0.990697          0.100006           0.003050            1 Day  \n",
       "8          0.967471          0.047466           0.001655           2 Days  \n",
       "9          0.990820          0.076789           0.006809            1 Day  \n",
       "\n",
       "[10 rows x 26 columns]"
      ],
      "text/html": "<div>\n<style scoped>\n    .dataframe tbody tr th:only-of-type {\n        vertical-align: middle;\n    }\n\n    .dataframe tbody tr th {\n        vertical-align: top;\n    }\n\n    .dataframe thead th {\n        text-align: right;\n    }\n</style>\n<table border=\"1\" class=\"dataframe\">\n  <thead>\n    <tr style=\"text-align: right;\">\n      <th></th>\n      <th>trending_date</th>\n      <th>channel_title</th>\n      <th>category_id</th>\n      <th>publish_time</th>\n      <th>views</th>\n      <th>likes</th>\n      <th>dislikes</th>\n      <th>comment_count</th>\n      <th>comments_disabled</th>\n      <th>ratings_disabled</th>\n      <th>...</th>\n      <th>publish_day_of_month</th>\n      <th>publish_weekday</th>\n      <th>trending_weekday</th>\n      <th>like_dislike_ratio</th>\n      <th>like_view_ratio</th>\n      <th>ratings</th>\n      <th>likes_per_rating</th>\n      <th>ratings_per_view</th>\n      <th>comments_per_view</th>\n      <th>target_category</th>\n    </tr>\n  </thead>\n  <tbody>\n    <tr>\n      <th>0</th>\n      <td>2017-11-14</td>\n      <td>inscope21</td>\n      <td>24</td>\n      <td>2017-11-13 17:08:49</td>\n      <td>252786</td>\n      <td>35885</td>\n      <td>230</td>\n      <td>1539</td>\n      <td>False</td>\n      <td>False</td>\n      <td>...</td>\n      <td>13</td>\n      <td>0</td>\n      <td>1</td>\n      <td>155.346320</td>\n      <td>0.141957</td>\n      <td>36115</td>\n      <td>0.993631</td>\n      <td>0.142868</td>\n      <td>0.006088</td>\n      <td>1 Day</td>\n    </tr>\n    <tr>\n      <th>1</th>\n      <td>2017-11-14</td>\n      <td>LUKE! Die Woche und ich</td>\n      <td>23</td>\n      <td>2017-11-12 22:30:01</td>\n      <td>797196</td>\n      <td>53576</td>\n      <td>302</td>\n      <td>1278</td>\n      <td>False</td>\n      <td>False</td>\n      <td>...</td>\n      <td>12</td>\n      <td>6</td>\n      <td>1</td>\n      <td>176.818482</td>\n      <td>0.067205</td>\n      <td>53878</td>\n      <td>0.994395</td>\n      <td>0.067584</td>\n      <td>0.001603</td>\n      <td>2 Days</td>\n    </tr>\n    <tr>\n      <th>2</th>\n      <td>2017-11-14</td>\n      <td>LastWeekTonight</td>\n      <td>24</td>\n      <td>2017-11-13 07:30:00</td>\n      <td>2418783</td>\n      <td>97190</td>\n      <td>6146</td>\n      <td>12703</td>\n      <td>False</td>\n      <td>False</td>\n      <td>...</td>\n      <td>13</td>\n      <td>0</td>\n      <td>1</td>\n      <td>15.810965</td>\n      <td>0.040181</td>\n      <td>103336</td>\n      <td>0.940524</td>\n      <td>0.042722</td>\n      <td>0.005252</td>\n      <td>1 Day</td>\n    </tr>\n    <tr>\n      <th>3</th>\n      <td>2017-11-14</td>\n      <td>100SekundenPhysik</td>\n      <td>27</td>\n      <td>2017-11-12 15:00:01</td>\n      <td>380247</td>\n      <td>31821</td>\n      <td>458</td>\n      <td>1955</td>\n      <td>False</td>\n      <td>False</td>\n      <td>...</td>\n      <td>12</td>\n      <td>6</td>\n      <td>1</td>\n      <td>69.326797</td>\n      <td>0.083685</td>\n      <td>32279</td>\n      <td>0.985811</td>\n      <td>0.084890</td>\n      <td>0.005141</td>\n      <td>2 Days</td>\n    </tr>\n    <tr>\n      <th>4</th>\n      <td>2017-11-14</td>\n      <td>rezo</td>\n      <td>24</td>\n      <td>2017-11-12 13:10:36</td>\n      <td>822213</td>\n      <td>100684</td>\n      <td>2467</td>\n      <td>10244</td>\n      <td>False</td>\n      <td>False</td>\n      <td>...</td>\n      <td>12</td>\n      <td>6</td>\n      <td>1</td>\n      <td>40.795786</td>\n      <td>0.122455</td>\n      <td>103151</td>\n      <td>0.976084</td>\n      <td>0.125455</td>\n      <td>0.012459</td>\n      <td>2 Days</td>\n    </tr>\n    <tr>\n      <th>5</th>\n      <td>2017-11-14</td>\n      <td>Die Allestester</td>\n      <td>22</td>\n      <td>2017-11-13 01:49:24</td>\n      <td>32709</td>\n      <td>3093</td>\n      <td>296</td>\n      <td>63</td>\n      <td>False</td>\n      <td>False</td>\n      <td>...</td>\n      <td>13</td>\n      <td>0</td>\n      <td>1</td>\n      <td>10.414141</td>\n      <td>0.094558</td>\n      <td>3389</td>\n      <td>0.912659</td>\n      <td>0.103611</td>\n      <td>0.001926</td>\n      <td>1 Day</td>\n    </tr>\n    <tr>\n      <th>6</th>\n      <td>2017-11-14</td>\n      <td>Bodyformus</td>\n      <td>23</td>\n      <td>2017-11-13 11:59:04</td>\n      <td>308683</td>\n      <td>35704</td>\n      <td>578</td>\n      <td>1398</td>\n      <td>False</td>\n      <td>False</td>\n      <td>...</td>\n      <td>13</td>\n      <td>0</td>\n      <td>1</td>\n      <td>61.664940</td>\n      <td>0.115665</td>\n      <td>36282</td>\n      <td>0.984069</td>\n      <td>0.117538</td>\n      <td>0.004529</td>\n      <td>1 Day</td>\n    </tr>\n    <tr>\n      <th>7</th>\n      <td>2017-11-14</td>\n      <td>Jay &amp; Arya</td>\n      <td>22</td>\n      <td>2017-11-13 18:09:55</td>\n      <td>181660</td>\n      <td>17998</td>\n      <td>169</td>\n      <td>554</td>\n      <td>False</td>\n      <td>False</td>\n      <td>...</td>\n      <td>13</td>\n      <td>0</td>\n      <td>1</td>\n      <td>105.870588</td>\n      <td>0.099075</td>\n      <td>18167</td>\n      <td>0.990697</td>\n      <td>0.100006</td>\n      <td>0.003050</td>\n      <td>1 Day</td>\n    </tr>\n    <tr>\n      <th>8</th>\n      <td>2017-11-14</td>\n      <td>TeddyComedy</td>\n      <td>23</td>\n      <td>2017-11-12 11:53:45</td>\n      <td>369173</td>\n      <td>16953</td>\n      <td>570</td>\n      <td>611</td>\n      <td>False</td>\n      <td>False</td>\n      <td>...</td>\n      <td>12</td>\n      <td>6</td>\n      <td>1</td>\n      <td>29.690018</td>\n      <td>0.045921</td>\n      <td>17523</td>\n      <td>0.967471</td>\n      <td>0.047466</td>\n      <td>0.001655</td>\n      <td>2 Days</td>\n    </tr>\n    <tr>\n      <th>9</th>\n      <td>2017-11-14</td>\n      <td>WALULIS</td>\n      <td>1</td>\n      <td>2017-11-13 15:06:12</td>\n      <td>62418</td>\n      <td>4749</td>\n      <td>44</td>\n      <td>425</td>\n      <td>False</td>\n      <td>False</td>\n      <td>...</td>\n      <td>13</td>\n      <td>0</td>\n      <td>1</td>\n      <td>105.533333</td>\n      <td>0.076083</td>\n      <td>4793</td>\n      <td>0.990820</td>\n      <td>0.076789</td>\n      <td>0.006809</td>\n      <td>1 Day</td>\n    </tr>\n  </tbody>\n</table>\n<p>10 rows × 26 columns</p>\n</div>"
     },
     "metadata": {},
     "execution_count": 1166
    }
   ],
   "source": [
    "df.head(10)"
   ]
  },
  {
   "cell_type": "code",
   "execution_count": 1256,
   "metadata": {},
   "outputs": [],
   "source": [
    "#x = df.iloc[:, [1, 2]].values\n",
    "\n",
    "x_df = DataFrame(index=df.index)\n",
    "#features = ['channel_title'] # 60.0 / 61.77\n",
    "#features = ['channel_title', 'comments_per_view'] # 61.31 / 62.22\n",
    "#features = ['channel_title', 'publish_hour', 'publish_weekday'] # 60.02 / 61.75\n",
    "#features = ['publish_day_of_month'] # 62.29\n",
    "#features = ['publish_year'] # 62.41\n",
    "#features = ['publish_day_of_month', 'publish_year'] # 62.75\n",
    "#features = ['publish_month'] # 62.41\n",
    "#features = ['publish_day_of_month', 'publish_month'] # 62.41\n",
    "#features = ['publish_month', 'publish_year'] # 62.52\n",
    "#features = ['publish_day_of_month', 'publish_year', 'publish_month'] # 62.81\n",
    "#features = ['publish_time'] # 62.50\n",
    "#features = ['publish_weekday'] # 62.37\n",
    "#features = ['publish_hour'] # 62.98\n",
    "#features = ['publish_weekday', 'publish_hour'] # 62.92\n",
    "#features = ['publish_weekday', 'publish_time'] # 62.41\n",
    "#features = ['publish_weekday', 'publish_year'] # 62.52\n",
    "features = ['publish_weekday', 'publish_month'] # 63.27\n",
    "#features = ['publish_weekday', 'publish_day_of_month'] # 62.26\n",
    "#features = ['publish_weekday', 'publish_month', 'publish_year'] # 62.76\n",
    "#features = ['publish_weekday', 'publish_day_of_month', 'publish_month', 'publish_year'] # 62.52\n",
    "#features = ['publish_hour', 'publish_year'] # 62.68\n",
    "#features = ['publish_hour', 'publish_month'] # 62.86\n",
    "#features = ['publish_hour', 'publish_month', 'publish_year'] # 62.35\n",
    "#features = ['publish_hour', 'publish_day_of_month'] # 62.63\n",
    "#features = ['publish_hour', 'publish_day_of_month', 'publish_month'] # 62.56\n",
    "#features = ['publish_hour', 'publish_day_of_month', 'publish_year'] # 62.65\n",
    "#features = ['publish_hour', 'publish_day_of_month', 'publish_month', 'publish_year'] # 62.94\n",
    "#features = ['publish_hour', 'publish_weekday', 'publish_month'] # 63.27\n",
    "#features = ['publish_weekday', 'publish_month', 'channel_title'] # 62.59\n",
    "for feature in features:\n",
    "    feature_data = df[feature].astype(str)\n",
    "    if df[feature].dtype.name in ['category', 'datetime64[ns]', 'bool']:\n",
    "        x_label_encoder = preprocessing.LabelEncoder()\n",
    "        x_label_encoder.fit(feature_data)\n",
    "        x_df[feature] = x_label_encoder.transform(feature_data)\n",
    "    else:\n",
    "        x_df[feature] = feature_data\n",
    "\n",
    "x = np.reshape(x_df, (-1, len(x_df.columns)))\n"
   ]
  },
  {
   "cell_type": "code",
   "execution_count": 1257,
   "metadata": {},
   "outputs": [],
   "source": [
    "#y = df.iloc[:, -1].values\n",
    "target = df['target_category'].astype(str)\n",
    "y_label_encoder = preprocessing.LabelEncoder()\n",
    "y_label_encoder.fit(target)\n",
    "y = y_label_encoder.transform(target)"
   ]
  },
  {
   "cell_type": "code",
   "execution_count": 1258,
   "metadata": {},
   "outputs": [],
   "source": [
    "x_train, x_test, y_train, y_test = train_test_split(x, y, test_size = 0.40)"
   ]
  },
  {
   "cell_type": "code",
   "execution_count": 1259,
   "metadata": {},
   "outputs": [],
   "source": [
    "#scaler = preprocessing.LabelEncoder()\n",
    "#scaler.fit(x_train)\n",
    "#x_train = scaler.transform(x_train)\n",
    "#x_test = scaler.transform(x_test)"
   ]
  },
  {
   "cell_type": "code",
   "execution_count": 1260,
   "metadata": {},
   "outputs": [
    {
     "output_type": "execute_result",
     "data": {
      "text/plain": [
       "KNeighborsClassifier(n_neighbors=1000)"
      ]
     },
     "metadata": {},
     "execution_count": 1260
    }
   ],
   "source": [
    "classifier = KNeighborsClassifier(n_neighbors = 1000)\n",
    "classifier.fit(x_train, y_train)"
   ]
  },
  {
   "cell_type": "code",
   "execution_count": 1261,
   "metadata": {},
   "outputs": [],
   "source": [
    "y_pred = classifier.predict(x_test)"
   ]
  },
  {
   "cell_type": "code",
   "execution_count": 1262,
   "metadata": {},
   "outputs": [],
   "source": [
    "accuracy = accuracy_score(y_test, y_pred)\n",
    "precision = precision_score(y_test, y_pred, average='micro')\n",
    "recall = recall_score(y_test, y_pred, average='micro')"
   ]
  },
  {
   "cell_type": "code",
   "execution_count": 1263,
   "metadata": {},
   "outputs": [
    {
     "output_type": "stream",
     "name": "stdout",
     "text": [
      "Accuracy:\n0.6274485798237023\nPrecision:\n0.6274485798237023\nRecall:\n0.6274485798237023\n"
     ]
    }
   ],
   "source": [
    "print('Accuracy:')\n",
    "print(accuracy)\n",
    "\n",
    "print('Precision:')\n",
    "print(precision)\n",
    "\n",
    "print('Recall:')\n",
    "print(recall)"
   ]
  },
  {
   "cell_type": "code",
   "execution_count": 1264,
   "metadata": {},
   "outputs": [
    {
     "output_type": "execute_result",
     "data": {
      "text/plain": [
       "0.6237512242899118"
      ]
     },
     "metadata": {},
     "execution_count": 1264
    }
   ],
   "source": [
    "len(df[df['target_category'] == '1 Day']) / len(df)"
   ]
  },
  {
   "cell_type": "code",
   "execution_count": null,
   "metadata": {},
   "outputs": [],
   "source": []
  }
 ]
}